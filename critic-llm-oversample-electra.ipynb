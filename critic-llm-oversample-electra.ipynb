{
 "cells": [
  {
   "metadata": {},
   "cell_type": "markdown",
   "source": "# MDC 018 - Projeto Final",
   "id": "cc52547f1f6d38f3"
  },
  {
   "metadata": {
    "ExecuteTime": {
     "end_time": "2024-12-09T14:17:20.182080Z",
     "start_time": "2024-12-09T14:17:20.108896Z"
    }
   },
   "cell_type": "code",
   "source": [
    "import pandas as pd\n",
    "\n",
    "# Carregando os dados de treinamento e teste\n",
    "train_critic = pd.read_csv(\"train_critic.csv\")\n",
    "\n",
    "test_critic = pd.read_csv(\"test_critic.csv\")"
   ],
   "id": "4ae38f923387d40",
   "outputs": [],
   "execution_count": 12
  },
  {
   "metadata": {},
   "cell_type": "markdown",
   "source": "Verificação de balanceamento:",
   "id": "8770f4295929a95f"
  },
  {
   "metadata": {
    "ExecuteTime": {
     "end_time": "2024-12-09T14:17:20.212762Z",
     "start_time": "2024-12-09T14:17:20.191513Z"
    }
   },
   "cell_type": "code",
   "source": [
    "dataset_sentiment_0 = train_critic.loc[train_critic['Sentiment'] == 0]\n",
    "dataset_sentiment_1 = train_critic.loc[train_critic['Sentiment'] == 1]"
   ],
   "id": "70acdc20acc9f9ab",
   "outputs": [],
   "execution_count": 13
  },
  {
   "metadata": {
    "ExecuteTime": {
     "end_time": "2024-12-09T14:17:20.302405Z",
     "start_time": "2024-12-09T14:17:20.288444Z"
    }
   },
   "cell_type": "code",
   "source": [
    "# dataset_sentiment_1 = dataset_sentiment_1.sample(n=5000, random_state=42)\n",
    "# dataset_sentiment_1"
   ],
   "id": "66b64971cb0600b9",
   "outputs": [],
   "execution_count": 14
  },
  {
   "metadata": {
    "ExecuteTime": {
     "end_time": "2024-12-09T14:17:20.369586Z",
     "start_time": "2024-12-09T14:17:20.364410Z"
    }
   },
   "cell_type": "code",
   "source": "# dataset_sentiment_0.to_csv(\"dataset_sentiment_0.csv\", index=False)",
   "id": "69c82083602a4e14",
   "outputs": [],
   "execution_count": 15
  },
  {
   "metadata": {
    "ExecuteTime": {
     "end_time": "2024-12-09T14:17:20.442163Z",
     "start_time": "2024-12-09T14:17:20.402488Z"
    }
   },
   "cell_type": "code",
   "source": "dataset_sentiment_0_oversampled = pd.read_csv(\"dataset_sentiment_oversampled.csv\")\n",
   "id": "e4607794c0f5a325",
   "outputs": [],
   "execution_count": 16
  },
  {
   "metadata": {
    "ExecuteTime": {
     "end_time": "2024-12-09T14:17:20.518748Z",
     "start_time": "2024-12-09T14:17:20.490175Z"
    }
   },
   "cell_type": "code",
   "source": [
    "train_critic = pd.concat([dataset_sentiment_1, dataset_sentiment_0_oversampled], ignore_index=True)\n",
    "\n",
    "# Embaralhar as amostras\n",
    "train_critic = train_critic.sample(frac=1, random_state=42).reset_index(drop=True)\n",
    "train_critic"
   ],
   "id": "118d8788b16cfaf4",
   "outputs": [
    {
     "data": {
      "text/plain": [
       "                            Show  Sentiment  \\\n",
       "0                      Dr. Brain          0   \n",
       "1             The Mosquito Coast          1   \n",
       "2                    Alias Grace          1   \n",
       "3                  Midnight Mass          1   \n",
       "4            The Vampire Diaries          1   \n",
       "...                          ...        ...   \n",
       "14990                WandaVision          1   \n",
       "14991                   Invasion          0   \n",
       "14992          Vikings: Valhalla          1   \n",
       "14993  The Man Who Fell to Earth          1   \n",
       "14994               Central Park          1   \n",
       "\n",
       "                                                  Review  \n",
       "0      For a show with a wild central premise and a g...  \n",
       "1      A prestige feeling thriller with an all-star c...  \n",
       "2      The real power of the book and the Netflix ser...  \n",
       "3      Linklater is absorbing as Father Hill, the eni...  \n",
       "4      The Vampire Diaries is and always was far bett...  \n",
       "...                                                  ...  \n",
       "14990  WandaVision﻿ is an entertaining debut for the ...  \n",
       "14991  Take away the aliens, and what's left is essen...  \n",
       "14992  Vikings: Valhalla is a crafty continuation of ...  \n",
       "14993  Odd choices abound...yet what does hold it tog...  \n",
       "14994  They do lean a bit too much into the music... ...  \n",
       "\n",
       "[14995 rows x 3 columns]"
      ],
      "text/html": [
       "<div>\n",
       "<style scoped>\n",
       "    .dataframe tbody tr th:only-of-type {\n",
       "        vertical-align: middle;\n",
       "    }\n",
       "\n",
       "    .dataframe tbody tr th {\n",
       "        vertical-align: top;\n",
       "    }\n",
       "\n",
       "    .dataframe thead th {\n",
       "        text-align: right;\n",
       "    }\n",
       "</style>\n",
       "<table border=\"1\" class=\"dataframe\">\n",
       "  <thead>\n",
       "    <tr style=\"text-align: right;\">\n",
       "      <th></th>\n",
       "      <th>Show</th>\n",
       "      <th>Sentiment</th>\n",
       "      <th>Review</th>\n",
       "    </tr>\n",
       "  </thead>\n",
       "  <tbody>\n",
       "    <tr>\n",
       "      <th>0</th>\n",
       "      <td>Dr. Brain</td>\n",
       "      <td>0</td>\n",
       "      <td>For a show with a wild central premise and a g...</td>\n",
       "    </tr>\n",
       "    <tr>\n",
       "      <th>1</th>\n",
       "      <td>The Mosquito Coast</td>\n",
       "      <td>1</td>\n",
       "      <td>A prestige feeling thriller with an all-star c...</td>\n",
       "    </tr>\n",
       "    <tr>\n",
       "      <th>2</th>\n",
       "      <td>Alias Grace</td>\n",
       "      <td>1</td>\n",
       "      <td>The real power of the book and the Netflix ser...</td>\n",
       "    </tr>\n",
       "    <tr>\n",
       "      <th>3</th>\n",
       "      <td>Midnight Mass</td>\n",
       "      <td>1</td>\n",
       "      <td>Linklater is absorbing as Father Hill, the eni...</td>\n",
       "    </tr>\n",
       "    <tr>\n",
       "      <th>4</th>\n",
       "      <td>The Vampire Diaries</td>\n",
       "      <td>1</td>\n",
       "      <td>The Vampire Diaries is and always was far bett...</td>\n",
       "    </tr>\n",
       "    <tr>\n",
       "      <th>...</th>\n",
       "      <td>...</td>\n",
       "      <td>...</td>\n",
       "      <td>...</td>\n",
       "    </tr>\n",
       "    <tr>\n",
       "      <th>14990</th>\n",
       "      <td>WandaVision</td>\n",
       "      <td>1</td>\n",
       "      <td>WandaVision﻿ is an entertaining debut for the ...</td>\n",
       "    </tr>\n",
       "    <tr>\n",
       "      <th>14991</th>\n",
       "      <td>Invasion</td>\n",
       "      <td>0</td>\n",
       "      <td>Take away the aliens, and what's left is essen...</td>\n",
       "    </tr>\n",
       "    <tr>\n",
       "      <th>14992</th>\n",
       "      <td>Vikings: Valhalla</td>\n",
       "      <td>1</td>\n",
       "      <td>Vikings: Valhalla is a crafty continuation of ...</td>\n",
       "    </tr>\n",
       "    <tr>\n",
       "      <th>14993</th>\n",
       "      <td>The Man Who Fell to Earth</td>\n",
       "      <td>1</td>\n",
       "      <td>Odd choices abound...yet what does hold it tog...</td>\n",
       "    </tr>\n",
       "    <tr>\n",
       "      <th>14994</th>\n",
       "      <td>Central Park</td>\n",
       "      <td>1</td>\n",
       "      <td>They do lean a bit too much into the music... ...</td>\n",
       "    </tr>\n",
       "  </tbody>\n",
       "</table>\n",
       "<p>14995 rows × 3 columns</p>\n",
       "</div>"
      ]
     },
     "execution_count": 17,
     "metadata": {},
     "output_type": "execute_result"
    }
   ],
   "execution_count": 17
  },
  {
   "metadata": {},
   "cell_type": "markdown",
   "source": "Ambos conjuntos estão fortemente desbalanceados.",
   "id": "6f721a20f344e0e7"
  },
  {
   "metadata": {},
   "cell_type": "markdown",
   "source": [
    "# Predição de sentimento\n",
    "\n",
    "Conjunto train_critic"
   ],
   "id": "bf1b39a390a7896a"
  },
  {
   "metadata": {
    "ExecuteTime": {
     "end_time": "2024-12-09T14:17:20.638430Z",
     "start_time": "2024-12-09T14:17:20.606470Z"
    }
   },
   "cell_type": "code",
   "source": [
    "# Separação entre conjunto de treino e validação\n",
    "from sklearn.model_selection import train_test_split\n",
    "\n",
    "# Remove NAs\n",
    "train_critic.dropna(subset=['Review'], inplace=True)\n",
    "\n",
    "(train_critic_df, val_critic_df) = train_test_split(train_critic, test_size=0.2)\n",
    "train_critic_df['Sentiment'].value_counts()"
   ],
   "id": "ce428f576e08bf33",
   "outputs": [
    {
     "data": {
      "text/plain": [
       "Sentiment\n",
       "1    7952\n",
       "0    4037\n",
       "Name: count, dtype: int64"
      ]
     },
     "execution_count": 18,
     "metadata": {},
     "output_type": "execute_result"
    }
   ],
   "execution_count": 18
  },
  {
   "metadata": {
    "ExecuteTime": {
     "end_time": "2024-12-09T14:17:20.848576Z",
     "start_time": "2024-12-09T14:17:20.828061Z"
    }
   },
   "cell_type": "code",
   "source": [
    "from sklearn.utils.class_weight import compute_class_weight\n",
    "import numpy as np\n",
    "\n",
    "# Calcular os pesos para as classes\n",
    "classes = train_critic['Sentiment'].unique()\n",
    "weights = compute_class_weight(\n",
    "    class_weight='balanced',\n",
    "    classes=np.array(classes),\n",
    "    y=train_critic['Sentiment']\n",
    ")\n",
    "\n",
    "class_weights = dict(zip(classes, weights))\n",
    "class_weights"
   ],
   "id": "b8ed964bb5a5cffc",
   "outputs": [
    {
     "data": {
      "text/plain": [
       "{0: 1.5011017628205128, 1: 0.7497248624312156}"
      ]
     },
     "execution_count": 19,
     "metadata": {},
     "output_type": "execute_result"
    }
   ],
   "execution_count": 19
  },
  {
   "metadata": {
    "ExecuteTime": {
     "end_time": "2024-12-09T14:17:21.140090Z",
     "start_time": "2024-12-09T14:17:21.130674Z"
    }
   },
   "cell_type": "code",
   "source": [
    "val_critic_texts = val_critic_df[\"Review\"].tolist()\n",
    "val_critic_labels = val_critic_df[\"Sentiment\"].tolist()"
   ],
   "id": "354789f5fd35f1a7",
   "outputs": [],
   "execution_count": 20
  },
  {
   "metadata": {
    "ExecuteTime": {
     "end_time": "2024-12-09T14:17:21.276722Z",
     "start_time": "2024-12-09T14:17:21.267955Z"
    }
   },
   "cell_type": "code",
   "source": [
    "from sklearn.metrics import balanced_accuracy_score\n",
    "from transformers import pipeline\n",
    "import matplotlib.pyplot as plt\n",
    "\n",
    "def get_balanced_accuracy(model, tokenizer, texts, labels):\n",
    "    classifier = pipeline(\"text-classification\", model=model, tokenizer=tokenizer)\n",
    "    predictions = []\n",
    "\n",
    "    for text in texts:\n",
    "        result = classifier(text)\n",
    "        label = int(result[0][\"label\"].split(\"_\")[-1])\n",
    "        predictions.append(label)\n",
    "    return round(float(balanced_accuracy_score(labels, predictions)),2)\n",
    "\n",
    "from sklearn.metrics import confusion_matrix, ConfusionMatrixDisplay\n",
    "\n",
    "\n",
    "def plot_confusion_matrix(trainer, dataset, label_names=None, cmap=\"Blues\"):\n",
    "    predictions_output = trainer.predict(dataset)\n",
    "    logits = predictions_output.predictions\n",
    "    labels = predictions_output.label_ids\n",
    "    predictions = logits.argmax(axis=-1)\n",
    "    cm = confusion_matrix(labels, predictions,  normalize='true')\n",
    "    disp = ConfusionMatrixDisplay(confusion_matrix=cm, display_labels=label_names)\n",
    "    disp.plot(cmap=cmap, values_format=\".2f\")\n",
    "    plt.show()\n",
    "    return cm"
   ],
   "id": "e82dd0f551e04a3f",
   "outputs": [],
   "execution_count": 21
  },
  {
   "metadata": {
    "ExecuteTime": {
     "end_time": "2024-12-09T14:17:22.873428Z",
     "start_time": "2024-12-09T14:17:21.362568Z"
    }
   },
   "cell_type": "code",
   "source": [
    "from transformers import ElectraForSequenceClassification, ElectraTokenizerFast, Trainer, TrainingArguments\n",
    "from sklearn.utils.class_weight import compute_class_weight\n",
    "import torch\n",
    "import numpy as np\n",
    "from datasets import Dataset\n",
    "from transformers import Trainer, TrainingArguments\n",
    "from sklearn.metrics import balanced_accuracy_score\n",
    "\n",
    "\n",
    "model_name = \"google/electra-base-discriminator\"  # Ou outro checkpoint pré-treinado\n",
    "num_labels = 2  # Número de classes no seu problema\n",
    "\n",
    "model = ElectraForSequenceClassification.from_pretrained(model_name, num_labels=num_labels)\n",
    "tokenizer = ElectraTokenizerFast.from_pretrained(model_name)\n",
    "# Supondo que 'labels' contenha todos os rótulos do conjunto de treinamento\n",
    "labels = train_critic['Sentiment']  # Altere para acessar os rótulos no seu dataset"
   ],
   "id": "819b4a2c2da9f91b",
   "outputs": [
    {
     "name": "stderr",
     "output_type": "stream",
     "text": [
      "Some weights of ElectraForSequenceClassification were not initialized from the model checkpoint at google/electra-base-discriminator and are newly initialized: ['classifier.dense.bias', 'classifier.dense.weight', 'classifier.out_proj.bias', 'classifier.out_proj.weight']\n",
      "You should probably TRAIN this model on a down-stream task to be able to use it for predictions and inference.\n"
     ]
    }
   ],
   "execution_count": 22
  },
  {
   "metadata": {
    "ExecuteTime": {
     "end_time": "2024-12-09T14:17:23.910999Z",
     "start_time": "2024-12-09T14:17:22.882521Z"
    }
   },
   "cell_type": "code",
   "source": [
    "class_weights = compute_class_weight(class_weight=\"balanced\", classes=np.unique(labels), y=labels)\n",
    "class_weights = torch.tensor(class_weights, dtype=torch.float)  # Converta para um tensor PyTorch\n",
    "import torch.nn as nn\n",
    "\n",
    "#tokeniza os datasets\n",
    "train_encodings = tokenizer(train_critic_df['Review'].tolist(), truncation=True, padding=True, max_length=128)\n",
    "val_encodings = tokenizer(list(val_critic_df['Review']), truncation=True, padding=True, max_length=128)"
   ],
   "id": "8796e1cbb4c7cb39",
   "outputs": [],
   "execution_count": 23
  },
  {
   "metadata": {
    "ExecuteTime": {
     "end_time": "2024-12-09T14:17:24.429495Z",
     "start_time": "2024-12-09T14:17:24.418931Z"
    }
   },
   "cell_type": "code",
   "source": [
    "class CustomTrainer(Trainer):\n",
    "    def __init__(self, class_weights, *args, **kwargs):\n",
    "        super().__init__(*args, **kwargs)\n",
    "        self.class_weights = class_weights\n",
    "\n",
    "    def compute_loss(self, model, inputs, return_outputs=False, **kwargs):\n",
    "        labels = inputs.pop(\"labels\")\n",
    "        outputs = model(**inputs)\n",
    "        logits = outputs.logits\n",
    "        # Define a função de perda com os pesos de classe\n",
    "        loss_fct = nn.CrossEntropyLoss(weight=self.class_weights.to(logits.device))\n",
    "        loss = loss_fct(logits, labels)\n",
    "        return (loss, outputs) if return_outputs else loss"
   ],
   "id": "97af58ea1357abe7",
   "outputs": [],
   "execution_count": 24
  },
  {
   "metadata": {
    "ExecuteTime": {
     "end_time": "2024-12-09T14:17:25.992482Z",
     "start_time": "2024-12-09T14:17:24.791922Z"
    }
   },
   "cell_type": "code",
   "source": [
    "import evaluate\n",
    "from sklearn.metrics import balanced_accuracy_score\n",
    "\n",
    "metric = evaluate.load(\"accuracy\")\n",
    "\n",
    "def compute_metrics(eval_pred):\n",
    "    logits, labels = eval_pred\n",
    "    predictions = np.argmax(logits, axis=-1)\n",
    "    accuracy = metric.compute(predictions=predictions, references=labels)\n",
    "    return accuracy\n",
    "\n",
    "def compute_metrics_balanced(eval_pred):\n",
    "    logits, labels = eval_pred\n",
    "    predictions = np.argmax(logits, axis=-1)\n",
    "\n",
    "    # Calcular acurácia balanceada\n",
    "    balanced_acc = balanced_accuracy_score(labels, predictions)\n",
    "\n",
    "    return {\"balanced_accuracy\": balanced_acc}"
   ],
   "id": "8eaa914b00217cb",
   "outputs": [],
   "execution_count": 25
  },
  {
   "metadata": {
    "ExecuteTime": {
     "end_time": "2024-12-09T17:57:39.456820Z",
     "start_time": "2024-12-09T14:17:26.439033Z"
    }
   },
   "cell_type": "code",
   "source": [
    "training_args = TrainingArguments(\n",
    "    output_dir=\"./results_critic_llm_oversample_electra\",\n",
    "    learning_rate=5e-5,\n",
    "    num_train_epochs=3,\n",
    "    weight_decay=0.01,\n",
    "    logging_dir=\"./logs\",\n",
    "    eval_strategy=\"epoch\",\n",
    "    load_best_model_at_end=True,               # Carregar o melhor modelo ao final\n",
    "    metric_for_best_model=\"balanced_accuracy\", # Métrica para determinar o melhor modelo\n",
    "    save_strategy=\"epoch\",                     # Salvar checkpoints no final de cada época\n",
    "    save_total_limit=1,                        # Limitar os checkpoints a 1 para economizar espaço\n",
    "    greater_is_better=True                     # Se maior métrica significa melhor modelo\n",
    ")\n",
    "train_critic_dataset = Dataset.from_dict({\n",
    "    'input_ids': train_encodings['input_ids'],\n",
    "    'attention_mask': train_encodings['attention_mask'],\n",
    "    'labels': list(train_critic_df['Sentiment'])\n",
    "})\n",
    "\n",
    "val_critic_dataset = Dataset.from_dict({\n",
    "    'input_ids': val_encodings['input_ids'],\n",
    "    'attention_mask': val_encodings['attention_mask'],\n",
    "    'labels': list(val_critic_df['Sentiment'])\n",
    "})\n",
    "\n",
    "trainer = CustomTrainer(\n",
    "    model=model,\n",
    "    args=training_args,\n",
    "    train_dataset=train_critic_dataset,\n",
    "    eval_dataset=val_critic_dataset,\n",
    "    class_weights=class_weights,\n",
    "    compute_metrics=compute_metrics_balanced\n",
    ")\n",
    "trainer.train()"
   ],
   "id": "8676efdef42015b7",
   "outputs": [
    {
     "data": {
      "text/plain": [
       "<IPython.core.display.HTML object>"
      ],
      "text/html": [
       "\n",
       "    <div>\n",
       "      \n",
       "      <progress value='4497' max='4497' style='width:300px; height:20px; vertical-align: middle;'></progress>\n",
       "      [4497/4497 3:40:08, Epoch 3/3]\n",
       "    </div>\n",
       "    <table border=\"1\" class=\"dataframe\">\n",
       "  <thead>\n",
       " <tr style=\"text-align: left;\">\n",
       "      <th>Epoch</th>\n",
       "      <th>Training Loss</th>\n",
       "      <th>Validation Loss</th>\n",
       "      <th>Balanced Accuracy</th>\n",
       "    </tr>\n",
       "  </thead>\n",
       "  <tbody>\n",
       "    <tr>\n",
       "      <td>1</td>\n",
       "      <td>0.370000</td>\n",
       "      <td>0.236767</td>\n",
       "      <td>0.930131</td>\n",
       "    </tr>\n",
       "    <tr>\n",
       "      <td>2</td>\n",
       "      <td>0.166500</td>\n",
       "      <td>0.191496</td>\n",
       "      <td>0.958459</td>\n",
       "    </tr>\n",
       "    <tr>\n",
       "      <td>3</td>\n",
       "      <td>0.056100</td>\n",
       "      <td>0.208574</td>\n",
       "      <td>0.963850</td>\n",
       "    </tr>\n",
       "  </tbody>\n",
       "</table><p>"
      ]
     },
     "metadata": {},
     "output_type": "display_data"
    },
    {
     "data": {
      "text/plain": [
       "TrainOutput(global_step=4497, training_loss=0.19904029096315404, metrics={'train_runtime': 13211.4736, 'train_samples_per_second': 2.722, 'train_steps_per_second': 0.34, 'total_flos': 1404710869019760.0, 'train_loss': 0.19904029096315404, 'epoch': 3.0})"
      ]
     },
     "execution_count": 26,
     "metadata": {},
     "output_type": "execute_result"
    }
   ],
   "execution_count": 26
  },
  {
   "metadata": {
    "ExecuteTime": {
     "end_time": "2024-12-09T18:01:24.358550Z",
     "start_time": "2024-12-09T17:57:39.905527Z"
    }
   },
   "cell_type": "code",
   "source": "get_balanced_accuracy(model, tokenizer, val_critic_texts, val_critic_labels)",
   "id": "df42c676c2650f5e",
   "outputs": [
    {
     "data": {
      "text/plain": [
       "0.96"
      ]
     },
     "execution_count": 27,
     "metadata": {},
     "output_type": "execute_result"
    }
   ],
   "execution_count": 27
  },
  {
   "metadata": {
    "ExecuteTime": {
     "end_time": "2024-12-09T18:04:14.313860Z",
     "start_time": "2024-12-09T18:01:24.733960Z"
    }
   },
   "cell_type": "code",
   "source": "trainer.evaluate()",
   "id": "29b960156cb67976",
   "outputs": [
    {
     "data": {
      "text/plain": [
       "<IPython.core.display.HTML object>"
      ],
      "text/html": []
     },
     "metadata": {},
     "output_type": "display_data"
    },
    {
     "data": {
      "text/plain": [
       "{'eval_loss': 0.20857395231723785,\n",
       " 'eval_balanced_accuracy': 0.9638497436015714,\n",
       " 'eval_runtime': 169.5445,\n",
       " 'eval_samples_per_second': 17.683,\n",
       " 'eval_steps_per_second': 2.212,\n",
       " 'epoch': 3.0}"
      ]
     },
     "execution_count": 28,
     "metadata": {},
     "output_type": "execute_result"
    }
   ],
   "execution_count": 28
  },
  {
   "metadata": {
    "ExecuteTime": {
     "end_time": "2024-12-09T18:06:46.283473Z",
     "start_time": "2024-12-09T18:04:14.591740Z"
    }
   },
   "cell_type": "code",
   "source": "plot_confusion_matrix(trainer,val_critic_dataset)",
   "id": "8b63c58babb57a90",
   "outputs": [
    {
     "data": {
      "text/plain": [
       "<Figure size 640x480 with 2 Axes>"
      ],
      "image/png": "[encoded data removed]"
     },
     "metadata": {},
     "output_type": "display_data"
    },
    {
     "data": {
      "text/plain": [
       "array([[0.95706806, 0.04293194],\n",
       "       [0.02936858, 0.97063142]])"
      ]
     },
     "execution_count": 29,
     "metadata": {},
     "output_type": "execute_result"
    }
   ],
   "execution_count": 29
  },
  {
   "metadata": {},
   "cell_type": "markdown",
   "source": "# Teste",
   "id": "1485884af37e1eef"
  },
  {
   "metadata": {
    "ExecuteTime": {
     "end_time": "2024-12-09T18:13:10.915046Z",
     "start_time": "2024-12-09T18:06:46.334098Z"
    }
   },
   "cell_type": "code",
   "source": [
    "test_critic_texts = test_critic[\"Review\"].tolist()\n",
    "test_critic_labels = test_critic[\"Sentiment\"].tolist()\n",
    "get_balanced_accuracy(model, tokenizer, test_critic_texts, test_critic_labels)"
   ],
   "id": "910e80c4f7cc8101",
   "outputs": [
    {
     "data": {
      "text/plain": [
       "0.83"
      ]
     },
     "execution_count": 30,
     "metadata": {},
     "output_type": "execute_result"
    }
   ],
   "execution_count": 30
  },
  {
   "metadata": {
    "ExecuteTime": {
     "end_time": "2024-12-09T18:15:42.564114Z",
     "start_time": "2024-12-09T18:13:11.201683Z"
    }
   },
   "cell_type": "code",
   "source": [
    "test_encodings = tokenizer(list(test_critic['Review']), truncation=True, padding=True, max_length=128)\n",
    "test_critic_dataset = Dataset.from_dict({\n",
    "    'input_ids': test_encodings['input_ids'],\n",
    "    'attention_mask': test_encodings['attention_mask'],\n",
    "    'labels': list(test_critic['Sentiment'])\n",
    "})\n",
    "plot_confusion_matrix(trainer,test_critic_dataset)"
   ],
   "id": "f8d76325308021bb",
   "outputs": [
    {
     "data": {
      "text/plain": [
       "<IPython.core.display.HTML object>"
      ],
      "text/html": []
     },
     "metadata": {},
     "output_type": "display_data"
    },
    {
     "data": {
      "text/plain": [
       "<Figure size 640x480 with 2 Axes>"
      ],
      "image/png": "[encoded data removed]"
     },
     "metadata": {},
     "output_type": "display_data"
    },
    {
     "data": {
      "text/plain": [
       "array([[0.70378619, 0.29621381],\n",
       "       [0.04342629, 0.95657371]])"
      ]
     },
     "execution_count": 31,
     "metadata": {},
     "output_type": "execute_result"
    }
   ],
   "execution_count": 31
  }
 ],
 "metadata": {
  "kernelspec": {
   "display_name": "Python 3",
   "language": "python",
   "name": "python3"
  },
  "language_info": {
   "codemirror_mode": {
    "name": "ipython",
    "version": 2
   },
   "file_extension": ".py",
   "mimetype": "text/x-python",
   "name": "python",
   "nbconvert_exporter": "python",
   "pygments_lexer": "ipython2",
   "version": "2.7.6"
  }
 },
 "nbformat": 4,
 "nbformat_minor": 5
}
