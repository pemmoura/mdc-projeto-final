{
 "cells": [
  {
   "metadata": {
    "id": "cc52547f1f6d38f3"
   },
   "cell_type": "markdown",
   "source": [
    "# MDC 018 - Projeto Final"
   ],
   "id": "cc52547f1f6d38f3"
  },
  {
   "metadata": {
    "id": "716de709f94dab63"
   },
   "cell_type": "code",
   "source": [
    "#!pip install transformers\n",
    "#!pip install datasets\n",
    "#!pip install evaluate"
   ],
   "id": "716de709f94dab63",
   "outputs": [],
   "execution_count": 66
  },
  {
   "cell_type": "code",
   "source": [
    "model_name = \"google/electra-base-discriminator\"\n",
    "num_labels = 2\n",
    "output_dir = \"./results_critic_electra\""
   ],
   "metadata": {
    "id": "-mxFeqmdZ8WU"
   },
   "id": "-mxFeqmdZ8WU",
   "execution_count": 67,
   "outputs": []
  },
  {
   "metadata": {
    "ExecuteTime": {
     "end_time": "2024-11-24T17:34:58.107060Z",
     "start_time": "2024-11-24T17:34:57.533050Z"
    },
    "id": "4ae38f923387d40"
   },
   "cell_type": "code",
   "outputs": [],
   "execution_count": 68,
   "source": [
    "import pandas as pd\n",
    "\n",
    "# Carregando os dados de treinamento e teste\n",
    "train_critic = pd.read_csv(\"train_critic.csv\")\n",
    "\n",
    "test_critic = pd.read_csv(\"test_critic.csv\")"
   ],
   "id": "4ae38f923387d40"
  },
  {
   "metadata": {
    "ExecuteTime": {
     "end_time": "2024-11-24T17:34:58.317728Z",
     "start_time": "2024-11-24T17:34:58.304930Z"
    },
    "colab": {
     "base_uri": "https://localhost:8080/",
     "height": 424
    },
    "id": "23a9512718c1f945",
    "outputId": "06c60c5a-fcc2-4c0d-eee3-35f1e4c6228c"
   },
   "cell_type": "code",
   "source": [
    "train_critic"
   ],
   "id": "23a9512718c1f945",
   "outputs": [
    {
     "output_type": "execute_result",
     "data": {
      "text/plain": [
       "                                               Show  Sentiment  \\\n",
       "0                                         Bodyguard          1   \n",
       "1                                           Mad Men          0   \n",
       "2      1971: The Year That Music Changed Everything          1   \n",
       "3                                    Six Feet Under          1   \n",
       "4                                     Pieces of Her          0   \n",
       "...                                             ...        ...   \n",
       "11827                              Freaks and Geeks          1   \n",
       "11828                                The Gilded Age          1   \n",
       "11829                                 Joe vs Carole          1   \n",
       "11830                                Rick and Morty          1   \n",
       "11831                               Y: The Last Man          1   \n",
       "\n",
       "                                                  Review  \n",
       "0      This has been a brilliant, compulsive, five-st...  \n",
       "1      With each new season, I try to remind myself t...  \n",
       "2      Here's one of the most all-encompassing and st...  \n",
       "3      To me, it was one of the most clever, funny, s...  \n",
       "4      Well acted and highly suspenseful, the eight-p...  \n",
       "...                                                  ...  \n",
       "11827  Freaks and Geeks boasts an extremely talented ...  \n",
       "11828  It's a period piece set in 1882 New York that ...  \n",
       "11829  McKinnon and her co-producers must be credited...  \n",
       "11830  As season openers go, this is a really solid e...  \n",
       "11831  Once the show moves past its been-there, watch...  \n",
       "\n",
       "[11832 rows x 3 columns]"
      ],
      "text/html": [
       "\n",
       "  <div id=\"df-050490b3-95c8-443b-bedc-ecd1b0a3121a\" class=\"colab-df-container\">\n",
       "    <div>\n",
       "<style scoped>\n",
       "    .dataframe tbody tr th:only-of-type {\n",
       "        vertical-align: middle;\n",
       "    }\n",
       "\n",
       "    .dataframe tbody tr th {\n",
       "        vertical-align: top;\n",
       "    }\n",
       "\n",
       "    .dataframe thead th {\n",
       "        text-align: right;\n",
       "    }\n",
       "</style>\n",
       "<table border=\"1\" class=\"dataframe\">\n",
       "  <thead>\n",
       "    <tr style=\"text-align: right;\">\n",
       "      <th></th>\n",
       "      <th>Show</th>\n",
       "      <th>Sentiment</th>\n",
       "      <th>Review</th>\n",
       "    </tr>\n",
       "  </thead>\n",
       "  <tbody>\n",
       "    <tr>\n",
       "      <th>0</th>\n",
       "      <td>Bodyguard</td>\n",
       "      <td>1</td>\n",
       "      <td>This has been a brilliant, compulsive, five-st...</td>\n",
       "    </tr>\n",
       "    <tr>\n",
       "      <th>1</th>\n",
       "      <td>Mad Men</td>\n",
       "      <td>0</td>\n",
       "      <td>With each new season, I try to remind myself t...</td>\n",
       "    </tr>\n",
       "    <tr>\n",
       "      <th>2</th>\n",
       "      <td>1971: The Year That Music Changed Everything</td>\n",
       "      <td>1</td>\n",
       "      <td>Here's one of the most all-encompassing and st...</td>\n",
       "    </tr>\n",
       "    <tr>\n",
       "      <th>3</th>\n",
       "      <td>Six Feet Under</td>\n",
       "      <td>1</td>\n",
       "      <td>To me, it was one of the most clever, funny, s...</td>\n",
       "    </tr>\n",
       "    <tr>\n",
       "      <th>4</th>\n",
       "      <td>Pieces of Her</td>\n",
       "      <td>0</td>\n",
       "      <td>Well acted and highly suspenseful, the eight-p...</td>\n",
       "    </tr>\n",
       "    <tr>\n",
       "      <th>...</th>\n",
       "      <td>...</td>\n",
       "      <td>...</td>\n",
       "      <td>...</td>\n",
       "    </tr>\n",
       "    <tr>\n",
       "      <th>11827</th>\n",
       "      <td>Freaks and Geeks</td>\n",
       "      <td>1</td>\n",
       "      <td>Freaks and Geeks boasts an extremely talented ...</td>\n",
       "    </tr>\n",
       "    <tr>\n",
       "      <th>11828</th>\n",
       "      <td>The Gilded Age</td>\n",
       "      <td>1</td>\n",
       "      <td>It's a period piece set in 1882 New York that ...</td>\n",
       "    </tr>\n",
       "    <tr>\n",
       "      <th>11829</th>\n",
       "      <td>Joe vs Carole</td>\n",
       "      <td>1</td>\n",
       "      <td>McKinnon and her co-producers must be credited...</td>\n",
       "    </tr>\n",
       "    <tr>\n",
       "      <th>11830</th>\n",
       "      <td>Rick and Morty</td>\n",
       "      <td>1</td>\n",
       "      <td>As season openers go, this is a really solid e...</td>\n",
       "    </tr>\n",
       "    <tr>\n",
       "      <th>11831</th>\n",
       "      <td>Y: The Last Man</td>\n",
       "      <td>1</td>\n",
       "      <td>Once the show moves past its been-there, watch...</td>\n",
       "    </tr>\n",
       "  </tbody>\n",
       "</table>\n",
       "<p>11832 rows × 3 columns</p>\n",
       "</div>\n",
       "    <div class=\"colab-df-buttons\">\n",
       "\n",
       "  <div class=\"colab-df-container\">\n",
       "    <button class=\"colab-df-convert\" onclick=\"convertToInteractive('df-050490b3-95c8-443b-bedc-ecd1b0a3121a')\"\n",
       "            title=\"Convert this dataframe to an interactive table.\"\n",
       "            style=\"display:none;\">\n",
       "\n",
       "  <svg xmlns=\"http://www.w3.org/2000/svg\" height=\"24px\" viewBox=\"0 -960 960 960\">\n",
       "    <path d=\"M120-120v-720h720v720H120Zm60-500h600v-160H180v160Zm220 220h160v-160H400v160Zm0 220h160v-160H400v160ZM180-400h160v-160H180v160Zm440 0h160v-160H620v160ZM180-180h160v-160H180v160Zm440 0h160v-160H620v160Z\"/>\n",
       "  </svg>\n",
       "    </button>\n",
       "\n",
       "  <style>\n",
       "    .colab-df-container {\n",
       "      display:flex;\n",
       "      gap: 12px;\n",
       "    }\n",
       "\n",
       "    .colab-df-convert {\n",
       "      background-color: #E8F0FE;\n",
       "      border: none;\n",
       "      border-radius: 50%;\n",
       "      cursor: pointer;\n",
       "      display: none;\n",
       "      fill: #1967D2;\n",
       "      height: 32px;\n",
       "      padding: 0 0 0 0;\n",
       "      width: 32px;\n",
       "    }\n",
       "\n",
       "    .colab-df-convert:hover {\n",
       "      background-color: #E2EBFA;\n",
       "      box-shadow: 0px 1px 2px rgba(60, 64, 67, 0.3), 0px 1px 3px 1px rgba(60, 64, 67, 0.15);\n",
       "      fill: #174EA6;\n",
       "    }\n",
       "\n",
       "    .colab-df-buttons div {\n",
       "      margin-bottom: 4px;\n",
       "    }\n",
       "\n",
       "    [theme=dark] .colab-df-convert {\n",
       "      background-color: #3B4455;\n",
       "      fill: #D2E3FC;\n",
       "    }\n",
       "\n",
       "    [theme=dark] .colab-df-convert:hover {\n",
       "      background-color: #434B5C;\n",
       "      box-shadow: 0px 1px 3px 1px rgba(0, 0, 0, 0.15);\n",
       "      filter: drop-shadow(0px 1px 2px rgba(0, 0, 0, 0.3));\n",
       "      fill: #FFFFFF;\n",
       "    }\n",
       "  </style>\n",
       "\n",
       "    <script>\n",
       "      const buttonEl =\n",
       "        document.querySelector('#df-050490b3-95c8-443b-bedc-ecd1b0a3121a button.colab-df-convert');\n",
       "      buttonEl.style.display =\n",
       "        google.colab.kernel.accessAllowed ? 'block' : 'none';\n",
       "\n",
       "      async function convertToInteractive(key) {\n",
       "        const element = document.querySelector('#df-050490b3-95c8-443b-bedc-ecd1b0a3121a');\n",
       "        const dataTable =\n",
       "          await google.colab.kernel.invokeFunction('convertToInteractive',\n",
       "                                                    [key], {});\n",
       "        if (!dataTable) return;\n",
       "\n",
       "        const docLinkHtml = 'Like what you see? Visit the ' +\n",
       "          '<a target=\"_blank\" href=https://colab.research.google.com/notebooks/data_table.ipynb>data table notebook</a>'\n",
       "          + ' to learn more about interactive tables.';\n",
       "        element.innerHTML = '';\n",
       "        dataTable['output_type'] = 'display_data';\n",
       "        await google.colab.output.renderOutput(dataTable, element);\n",
       "        const docLink = document.createElement('div');\n",
       "        docLink.innerHTML = docLinkHtml;\n",
       "        element.appendChild(docLink);\n",
       "      }\n",
       "    </script>\n",
       "  </div>\n",
       "\n",
       "\n",
       "<div id=\"df-9f4072b6-a3c4-4ded-a415-7d1565dc6a07\">\n",
       "  <button class=\"colab-df-quickchart\" onclick=\"quickchart('df-9f4072b6-a3c4-4ded-a415-7d1565dc6a07')\"\n",
       "            title=\"Suggest charts\"\n",
       "            style=\"display:none;\">\n",
       "\n",
       "<svg xmlns=\"http://www.w3.org/2000/svg\" height=\"24px\"viewBox=\"0 0 24 24\"\n",
       "     width=\"24px\">\n",
       "    <g>\n",
       "        <path d=\"M19 3H5c-1.1 0-2 .9-2 2v14c0 1.1.9 2 2 2h14c1.1 0 2-.9 2-2V5c0-1.1-.9-2-2-2zM9 17H7v-7h2v7zm4 0h-2V7h2v10zm4 0h-2v-4h2v4z\"/>\n",
       "    </g>\n",
       "</svg>\n",
       "  </button>\n",
       "\n",
       "<style>\n",
       "  .colab-df-quickchart {\n",
       "      --bg-color: #E8F0FE;\n",
       "      --fill-color: #1967D2;\n",
       "      --hover-bg-color: #E2EBFA;\n",
       "      --hover-fill-color: #174EA6;\n",
       "      --disabled-fill-color: #AAA;\n",
       "      --disabled-bg-color: #DDD;\n",
       "  }\n",
       "\n",
       "  [theme=dark] .colab-df-quickchart {\n",
       "      --bg-color: #3B4455;\n",
       "      --fill-color: #D2E3FC;\n",
       "      --hover-bg-color: #434B5C;\n",
       "      --hover-fill-color: #FFFFFF;\n",
       "      --disabled-bg-color: #3B4455;\n",
       "      --disabled-fill-color: #666;\n",
       "  }\n",
       "\n",
       "  .colab-df-quickchart {\n",
       "    background-color: var(--bg-color);\n",
       "    border: none;\n",
       "    border-radius: 50%;\n",
       "    cursor: pointer;\n",
       "    display: none;\n",
       "    fill: var(--fill-color);\n",
       "    height: 32px;\n",
       "    padding: 0;\n",
       "    width: 32px;\n",
       "  }\n",
       "\n",
       "  .colab-df-quickchart:hover {\n",
       "    background-color: var(--hover-bg-color);\n",
       "    box-shadow: 0 1px 2px rgba(60, 64, 67, 0.3), 0 1px 3px 1px rgba(60, 64, 67, 0.15);\n",
       "    fill: var(--button-hover-fill-color);\n",
       "  }\n",
       "\n",
       "  .colab-df-quickchart-complete:disabled,\n",
       "  .colab-df-quickchart-complete:disabled:hover {\n",
       "    background-color: var(--disabled-bg-color);\n",
       "    fill: var(--disabled-fill-color);\n",
       "    box-shadow: none;\n",
       "  }\n",
       "\n",
       "  .colab-df-spinner {\n",
       "    border: 2px solid var(--fill-color);\n",
       "    border-color: transparent;\n",
       "    border-bottom-color: var(--fill-color);\n",
       "    animation:\n",
       "      spin 1s steps(1) infinite;\n",
       "  }\n",
       "\n",
       "  @keyframes spin {\n",
       "    0% {\n",
       "      border-color: transparent;\n",
       "      border-bottom-color: var(--fill-color);\n",
       "      border-left-color: var(--fill-color);\n",
       "    }\n",
       "    20% {\n",
       "      border-color: transparent;\n",
       "      border-left-color: var(--fill-color);\n",
       "      border-top-color: var(--fill-color);\n",
       "    }\n",
       "    30% {\n",
       "      border-color: transparent;\n",
       "      border-left-color: var(--fill-color);\n",
       "      border-top-color: var(--fill-color);\n",
       "      border-right-color: var(--fill-color);\n",
       "    }\n",
       "    40% {\n",
       "      border-color: transparent;\n",
       "      border-right-color: var(--fill-color);\n",
       "      border-top-color: var(--fill-color);\n",
       "    }\n",
       "    60% {\n",
       "      border-color: transparent;\n",
       "      border-right-color: var(--fill-color);\n",
       "    }\n",
       "    80% {\n",
       "      border-color: transparent;\n",
       "      border-right-color: var(--fill-color);\n",
       "      border-bottom-color: var(--fill-color);\n",
       "    }\n",
       "    90% {\n",
       "      border-color: transparent;\n",
       "      border-bottom-color: var(--fill-color);\n",
       "    }\n",
       "  }\n",
       "</style>\n",
       "\n",
       "  <script>\n",
       "    async function quickchart(key) {\n",
       "      const quickchartButtonEl =\n",
       "        document.querySelector('#' + key + ' button');\n",
       "      quickchartButtonEl.disabled = true;  // To prevent multiple clicks.\n",
       "      quickchartButtonEl.classList.add('colab-df-spinner');\n",
       "      try {\n",
       "        const charts = await google.colab.kernel.invokeFunction(\n",
       "            'suggestCharts', [key], {});\n",
       "      } catch (error) {\n",
       "        console.error('Error during call to suggestCharts:', error);\n",
       "      }\n",
       "      quickchartButtonEl.classList.remove('colab-df-spinner');\n",
       "      quickchartButtonEl.classList.add('colab-df-quickchart-complete');\n",
       "    }\n",
       "    (() => {\n",
       "      let quickchartButtonEl =\n",
       "        document.querySelector('#df-9f4072b6-a3c4-4ded-a415-7d1565dc6a07 button');\n",
       "      quickchartButtonEl.style.display =\n",
       "        google.colab.kernel.accessAllowed ? 'block' : 'none';\n",
       "    })();\n",
       "  </script>\n",
       "</div>\n",
       "\n",
       "  <div id=\"id_0d557f99-cc5c-4154-85a9-1e64c05d2045\">\n",
       "    <style>\n",
       "      .colab-df-generate {\n",
       "        background-color: #E8F0FE;\n",
       "        border: none;\n",
       "        border-radius: 50%;\n",
       "        cursor: pointer;\n",
       "        display: none;\n",
       "        fill: #1967D2;\n",
       "        height: 32px;\n",
       "        padding: 0 0 0 0;\n",
       "        width: 32px;\n",
       "      }\n",
       "\n",
       "      .colab-df-generate:hover {\n",
       "        background-color: #E2EBFA;\n",
       "        box-shadow: 0px 1px 2px rgba(60, 64, 67, 0.3), 0px 1px 3px 1px rgba(60, 64, 67, 0.15);\n",
       "        fill: #174EA6;\n",
       "      }\n",
       "\n",
       "      [theme=dark] .colab-df-generate {\n",
       "        background-color: #3B4455;\n",
       "        fill: #D2E3FC;\n",
       "      }\n",
       "\n",
       "      [theme=dark] .colab-df-generate:hover {\n",
       "        background-color: #434B5C;\n",
       "        box-shadow: 0px 1px 3px 1px rgba(0, 0, 0, 0.15);\n",
       "        filter: drop-shadow(0px 1px 2px rgba(0, 0, 0, 0.3));\n",
       "        fill: #FFFFFF;\n",
       "      }\n",
       "    </style>\n",
       "    <button class=\"colab-df-generate\" onclick=\"generateWithVariable('train_critic')\"\n",
       "            title=\"Generate code using this dataframe.\"\n",
       "            style=\"display:none;\">\n",
       "\n",
       "  <svg xmlns=\"http://www.w3.org/2000/svg\" height=\"24px\"viewBox=\"0 0 24 24\"\n",
       "       width=\"24px\">\n",
       "    <path d=\"M7,19H8.4L18.45,9,17,7.55,7,17.6ZM5,21V16.75L18.45,3.32a2,2,0,0,1,2.83,0l1.4,1.43a1.91,1.91,0,0,1,.58,1.4,1.91,1.91,0,0,1-.58,1.4L9.25,21ZM18.45,9,17,7.55Zm-12,3A5.31,5.31,0,0,0,4.9,8.1,5.31,5.31,0,0,0,1,6.5,5.31,5.31,0,0,0,4.9,4.9,5.31,5.31,0,0,0,6.5,1,5.31,5.31,0,0,0,8.1,4.9,5.31,5.31,0,0,0,12,6.5,5.46,5.46,0,0,0,6.5,12Z\"/>\n",
       "  </svg>\n",
       "    </button>\n",
       "    <script>\n",
       "      (() => {\n",
       "      const buttonEl =\n",
       "        document.querySelector('#id_0d557f99-cc5c-4154-85a9-1e64c05d2045 button.colab-df-generate');\n",
       "      buttonEl.style.display =\n",
       "        google.colab.kernel.accessAllowed ? 'block' : 'none';\n",
       "\n",
       "      buttonEl.onclick = () => {\n",
       "        google.colab.notebook.generateWithVariable('train_critic');\n",
       "      }\n",
       "      })();\n",
       "    </script>\n",
       "  </div>\n",
       "\n",
       "    </div>\n",
       "  </div>\n"
      ],
      "application/vnd.google.colaboratory.intrinsic+json": {
       "type": "dataframe",
       "variable_name": "train_critic",
       "summary": "{\n  \"name\": \"train_critic\",\n  \"rows\": 11832,\n  \"fields\": [\n    {\n      \"column\": \"Show\",\n      \"properties\": {\n        \"dtype\": \"category\",\n        \"num_unique_values\": 493,\n        \"samples\": [\n          \"iCarly\",\n          \"Shameless\",\n          \"Ms. Marvel\"\n        ],\n        \"semantic_type\": \"\",\n        \"description\": \"\"\n      }\n    },\n    {\n      \"column\": \"Sentiment\",\n      \"properties\": {\n        \"dtype\": \"number\",\n        \"std\": 0,\n        \"min\": 0,\n        \"max\": 1,\n        \"num_unique_values\": 2,\n        \"samples\": [\n          0,\n          1\n        ],\n        \"semantic_type\": \"\",\n        \"description\": \"\"\n      }\n    },\n    {\n      \"column\": \"Review\",\n      \"properties\": {\n        \"dtype\": \"string\",\n        \"num_unique_values\": 11830,\n        \"samples\": [\n          \"Me? Liking a sci-fi show? In this economy?\",\n          \"Evans is hilarious as the class-A jerk who seems to have no filter. Having never seen Evans in this light, it was quite entertaining to watch him showcase his comedic strengths.\"\n        ],\n        \"semantic_type\": \"\",\n        \"description\": \"\"\n      }\n    }\n  ]\n}"
      }
     },
     "metadata": {},
     "execution_count": 69
    }
   ],
   "execution_count": 69
  },
  {
   "metadata": {
    "id": "8770f4295929a95f"
   },
   "cell_type": "markdown",
   "source": [
    "Verificação de balanceamento:"
   ],
   "id": "8770f4295929a95f"
  },
  {
   "metadata": {
    "ExecuteTime": {
     "end_time": "2024-11-24T17:34:58.369214Z",
     "start_time": "2024-11-24T17:34:58.363084Z"
    },
    "colab": {
     "base_uri": "https://localhost:8080/",
     "height": 178
    },
    "id": "70acdc20acc9f9ab",
    "outputId": "eab51cbc-be9d-4b94-9620-58deb6565afa"
   },
   "cell_type": "code",
   "source": [
    "train_critic['Sentiment'].value_counts()\n"
   ],
   "id": "70acdc20acc9f9ab",
   "outputs": [
    {
     "output_type": "execute_result",
     "data": {
      "text/plain": [
       "Sentiment\n",
       "1    9995\n",
       "0    1837\n",
       "Name: count, dtype: int64"
      ],
      "text/html": [
       "<div>\n",
       "<style scoped>\n",
       "    .dataframe tbody tr th:only-of-type {\n",
       "        vertical-align: middle;\n",
       "    }\n",
       "\n",
       "    .dataframe tbody tr th {\n",
       "        vertical-align: top;\n",
       "    }\n",
       "\n",
       "    .dataframe thead th {\n",
       "        text-align: right;\n",
       "    }\n",
       "</style>\n",
       "<table border=\"1\" class=\"dataframe\">\n",
       "  <thead>\n",
       "    <tr style=\"text-align: right;\">\n",
       "      <th></th>\n",
       "      <th>count</th>\n",
       "    </tr>\n",
       "    <tr>\n",
       "      <th>Sentiment</th>\n",
       "      <th></th>\n",
       "    </tr>\n",
       "  </thead>\n",
       "  <tbody>\n",
       "    <tr>\n",
       "      <th>1</th>\n",
       "      <td>9995</td>\n",
       "    </tr>\n",
       "    <tr>\n",
       "      <th>0</th>\n",
       "      <td>1837</td>\n",
       "    </tr>\n",
       "  </tbody>\n",
       "</table>\n",
       "</div><br><label><b>dtype:</b> int64</label>"
      ]
     },
     "metadata": {},
     "execution_count": 70
    }
   ],
   "execution_count": 70
  },
  {
   "metadata": {
    "id": "6f721a20f344e0e7"
   },
   "cell_type": "markdown",
   "source": [
    "Ambos conjuntos estão fortemente desbalanceados."
   ],
   "id": "6f721a20f344e0e7"
  },
  {
   "metadata": {
    "id": "bf1b39a390a7896a"
   },
   "cell_type": "markdown",
   "source": [
    "# Predição de sentimento\n",
    "\n",
    "Conjunto train_critic"
   ],
   "id": "bf1b39a390a7896a"
  },
  {
   "metadata": {
    "ExecuteTime": {
     "end_time": "2024-11-24T17:34:59.195253Z",
     "start_time": "2024-11-24T17:34:58.428168Z"
    },
    "colab": {
     "base_uri": "https://localhost:8080/",
     "height": 178
    },
    "id": "ce428f576e08bf33",
    "outputId": "0a97124e-c986-42cb-a6b9-d16b4b1cb251"
   },
   "cell_type": "code",
   "source": [
    "# Separação entre conjunto de treino e validação\n",
    "from sklearn.model_selection import train_test_split\n",
    "\n",
    "# Remove NAs\n",
    "train_critic.dropna(subset=['Review'], inplace=True)\n",
    "\n",
    "(train_critic_df, val_critic_df) = train_test_split(train_critic, test_size=0.2)\n",
    "train_critic_df['Sentiment'].value_counts()"
   ],
   "id": "ce428f576e08bf33",
   "outputs": [
    {
     "output_type": "execute_result",
     "data": {
      "text/plain": [
       "Sentiment\n",
       "1    7992\n",
       "0    1472\n",
       "Name: count, dtype: int64"
      ],
      "text/html": [
       "<div>\n",
       "<style scoped>\n",
       "    .dataframe tbody tr th:only-of-type {\n",
       "        vertical-align: middle;\n",
       "    }\n",
       "\n",
       "    .dataframe tbody tr th {\n",
       "        vertical-align: top;\n",
       "    }\n",
       "\n",
       "    .dataframe thead th {\n",
       "        text-align: right;\n",
       "    }\n",
       "</style>\n",
       "<table border=\"1\" class=\"dataframe\">\n",
       "  <thead>\n",
       "    <tr style=\"text-align: right;\">\n",
       "      <th></th>\n",
       "      <th>count</th>\n",
       "    </tr>\n",
       "    <tr>\n",
       "      <th>Sentiment</th>\n",
       "      <th></th>\n",
       "    </tr>\n",
       "  </thead>\n",
       "  <tbody>\n",
       "    <tr>\n",
       "      <th>1</th>\n",
       "      <td>7992</td>\n",
       "    </tr>\n",
       "    <tr>\n",
       "      <th>0</th>\n",
       "      <td>1472</td>\n",
       "    </tr>\n",
       "  </tbody>\n",
       "</table>\n",
       "</div><br><label><b>dtype:</b> int64</label>"
      ]
     },
     "metadata": {},
     "execution_count": 71
    }
   ],
   "execution_count": 71
  },
  {
   "metadata": {
    "ExecuteTime": {
     "end_time": "2024-11-24T17:34:59.277850Z",
     "start_time": "2024-11-24T17:34:59.269665Z"
    },
    "colab": {
     "base_uri": "https://localhost:8080/"
    },
    "id": "b8ed964bb5a5cffc",
    "outputId": "8dbec29a-1ff2-4fd0-a38a-3e36369ff98d"
   },
   "cell_type": "code",
   "source": [
    "from sklearn.utils.class_weight import compute_class_weight\n",
    "import numpy as np\n",
    "\n",
    "# Calcular os pesos para as classes\n",
    "classes = train_critic['Sentiment'].unique()\n",
    "weights = compute_class_weight(\n",
    "    class_weight='balanced',\n",
    "    classes=np.array(classes),\n",
    "    y=train_critic['Sentiment']\n",
    ")\n",
    "\n",
    "class_weights = dict(zip(classes, weights))\n",
    "class_weights"
   ],
   "id": "b8ed964bb5a5cffc",
   "outputs": [
    {
     "output_type": "execute_result",
     "data": {
      "text/plain": [
       "{1: 0.5918459229614808, 0: 3.221949891067538}"
      ]
     },
     "metadata": {},
     "execution_count": 72
    }
   ],
   "execution_count": 72
  },
  {
   "metadata": {
    "ExecuteTime": {
     "end_time": "2024-11-24T17:34:59.413861Z",
     "start_time": "2024-11-24T17:34:59.410255Z"
    },
    "id": "354789f5fd35f1a7"
   },
   "cell_type": "code",
   "source": [
    "val_critic_texts = val_critic_df[\"Review\"].tolist()\n",
    "val_critic_labels = val_critic_df[\"Sentiment\"].tolist()"
   ],
   "id": "354789f5fd35f1a7",
   "outputs": [],
   "execution_count": 73
  },
  {
   "metadata": {
    "ExecuteTime": {
     "end_time": "2024-11-24T17:35:04.535824Z",
     "start_time": "2024-11-24T17:34:59.635152Z"
    },
    "id": "e82dd0f551e04a3f"
   },
   "cell_type": "code",
   "source": [
    "from sklearn.metrics import balanced_accuracy_score\n",
    "from transformers import pipeline\n",
    "import matplotlib.pyplot as plt\n",
    "\n",
    "def get_balanced_accuracy(model, tokenizer, texts, labels):\n",
    "    classifier = pipeline(\"text-classification\", model=model, tokenizer=tokenizer)\n",
    "    predictions = []\n",
    "\n",
    "    for text in texts:\n",
    "        result = classifier(text)\n",
    "        label = int(result[0][\"label\"].split(\"_\")[-1])\n",
    "        predictions.append(label)\n",
    "    return round(float(balanced_accuracy_score(labels, predictions)),2)\n",
    "\n",
    "from sklearn.metrics import confusion_matrix, ConfusionMatrixDisplay\n",
    "\n",
    "\n",
    "def plot_confusion_matrix(trainer, dataset, label_names=None, cmap=\"Blues\"):\n",
    "    predictions_output = trainer.predict(dataset)\n",
    "    logits = predictions_output.predictions\n",
    "    labels = predictions_output.label_ids\n",
    "    predictions = logits.argmax(axis=-1)\n",
    "    cm = confusion_matrix(labels, predictions,  normalize='true')\n",
    "    disp = ConfusionMatrixDisplay(confusion_matrix=cm, display_labels=label_names)\n",
    "    disp.plot(cmap=cmap, values_format=\".2f\")\n",
    "    plt.show()\n",
    "    return cm"
   ],
   "id": "e82dd0f551e04a3f",
   "outputs": [],
   "execution_count": 74
  },
  {
   "metadata": {
    "ExecuteTime": {
     "end_time": "2024-11-24T17:35:11.753016Z",
     "start_time": "2024-11-24T17:35:04.542938Z"
    },
    "colab": {
     "base_uri": "https://localhost:8080/"
    },
    "id": "819b4a2c2da9f91b",
    "outputId": "9e899d64-e44c-4ae6-8218-3ffa526145f7"
   },
   "cell_type": "code",
   "source": [
    "from transformers import ElectraForSequenceClassification, ElectraTokenizerFast, Trainer, TrainingArguments\n",
    "from sklearn.utils.class_weight import compute_class_weight\n",
    "import torch\n",
    "import numpy as np\n",
    "from datasets import Dataset\n",
    "from transformers import Trainer, TrainingArguments\n",
    "from sklearn.metrics import balanced_accuracy_score\n",
    "\n",
    "model = ElectraForSequenceClassification.from_pretrained(model_name, num_labels=num_labels)\n",
    "tokenizer = ElectraTokenizerFast.from_pretrained(model_name)\n",
    "# Supondo que 'labels' contenha todos os rótulos do conjunto de treinamento\n",
    "labels = train_critic['Sentiment']  # Altere para acessar os rótulos no seu dataset"
   ],
   "id": "819b4a2c2da9f91b",
   "outputs": [
    {
     "output_type": "stream",
     "name": "stderr",
     "text": [
      "Some weights of ElectraForSequenceClassification were not initialized from the model checkpoint at google/electra-base-discriminator and are newly initialized: ['classifier.dense.bias', 'classifier.dense.weight', 'classifier.out_proj.bias', 'classifier.out_proj.weight']\n",
      "You should probably TRAIN this model on a down-stream task to be able to use it for predictions and inference.\n"
     ]
    }
   ],
   "execution_count": 75
  },
  {
   "metadata": {
    "ExecuteTime": {
     "end_time": "2024-11-24T17:35:15.132903Z",
     "start_time": "2024-11-24T17:35:11.766092Z"
    },
    "id": "8796e1cbb4c7cb39"
   },
   "cell_type": "code",
   "source": [
    "class_weights = compute_class_weight(class_weight=\"balanced\", classes=np.unique(labels), y=labels)\n",
    "class_weights = torch.tensor(class_weights, dtype=torch.float)  # Converta para um tensor PyTorch\n",
    "import torch.nn as nn\n",
    "\n",
    "#tokeniza os datasets\n",
    "train_encodings = tokenizer(train_critic_df['Review'].tolist(), truncation=True, padding=True, max_length=128)\n",
    "val_encodings = tokenizer(list(val_critic_df['Review']), truncation=True, padding=True, max_length=128)"
   ],
   "id": "8796e1cbb4c7cb39",
   "outputs": [],
   "execution_count": 76
  },
  {
   "metadata": {
    "ExecuteTime": {
     "end_time": "2024-11-24T17:35:15.267106Z",
     "start_time": "2024-11-24T17:35:15.261282Z"
    },
    "id": "97af58ea1357abe7"
   },
   "cell_type": "code",
   "source": [
    "class CustomTrainer(Trainer):\n",
    "    def __init__(self, class_weights, *args, **kwargs):\n",
    "        super().__init__(*args, **kwargs)\n",
    "        self.class_weights = class_weights\n",
    "\n",
    "    def compute_loss(self, model, inputs, return_outputs=False, **kwargs):\n",
    "        labels = inputs.pop(\"labels\")\n",
    "        outputs = model(**inputs)\n",
    "        logits = outputs.logits\n",
    "        # Define a função de perda com os pesos de classe\n",
    "        loss_fct = nn.CrossEntropyLoss(weight=self.class_weights.to(logits.device))\n",
    "        loss = loss_fct(logits, labels)\n",
    "        return (loss, outputs) if return_outputs else loss"
   ],
   "id": "97af58ea1357abe7",
   "outputs": [],
   "execution_count": 77
  },
  {
   "metadata": {
    "ExecuteTime": {
     "end_time": "2024-11-24T17:35:16.344724Z",
     "start_time": "2024-11-24T17:35:15.383743Z"
    },
    "id": "8eaa914b00217cb"
   },
   "cell_type": "code",
   "source": [
    "import evaluate\n",
    "from sklearn.metrics import balanced_accuracy_score\n",
    "\n",
    "metric = evaluate.load(\"accuracy\")\n",
    "\n",
    "def compute_metrics(eval_pred):\n",
    "    logits, labels = eval_pred\n",
    "    predictions = np.argmax(logits, axis=-1)\n",
    "    accuracy = metric.compute(predictions=predictions, references=labels)\n",
    "    return accuracy\n",
    "\n",
    "def compute_metrics_balanced(eval_pred):\n",
    "    logits, labels = eval_pred\n",
    "    predictions = np.argmax(logits, axis=-1)\n",
    "\n",
    "    # Calcular acurácia balanceada\n",
    "    balanced_acc = balanced_accuracy_score(labels, predictions)\n",
    "\n",
    "    return {\"balanced_accuracy\": balanced_acc}"
   ],
   "id": "8eaa914b00217cb",
   "outputs": [],
   "execution_count": 78
  },
  {
   "metadata": {
    "jupyter": {
     "is_executing": true
    },
    "ExecuteTime": {
     "start_time": "2024-11-24T17:35:16.474913Z"
    },
    "colab": {
     "base_uri": "https://localhost:8080/",
     "height": 219
    },
    "id": "8676efdef42015b7",
    "outputId": "878634ab-feb0-4706-acfa-063795256cc6"
   },
   "cell_type": "code",
   "source": [
    "training_args = TrainingArguments(\n",
    "    output_dir=output_dir,\n",
    "    learning_rate=5e-5,\n",
    "    num_train_epochs=4,\n",
    "    weight_decay=0.01,\n",
    "    logging_dir=\"./logs\",\n",
    "    eval_strategy=\"epoch\",\n",
    "    load_best_model_at_end=True,               # Carregar o melhor modelo ao final\n",
    "    metric_for_best_model=\"balanced_accuracy\", # Métrica para determinar o melhor modelo\n",
    "    save_strategy=\"epoch\",                     # Salvar checkpoints no final de cada época\n",
    "    save_total_limit=1,                        # Limitar os checkpoints a 1 para economizar espaço\n",
    "    greater_is_better=True                     # Se maior métrica significa melhor modelo\n",
    ")\n",
    "train_critic_dataset = Dataset.from_dict({\n",
    "    'input_ids': train_encodings['input_ids'],\n",
    "    'attention_mask': train_encodings['attention_mask'],\n",
    "    'labels': list(train_critic_df['Sentiment'])\n",
    "})\n",
    "\n",
    "val_critic_dataset = Dataset.from_dict({\n",
    "    'input_ids': val_encodings['input_ids'],\n",
    "    'attention_mask': val_encodings['attention_mask'],\n",
    "    'labels': list(val_critic_df['Sentiment'])\n",
    "})\n",
    "\n",
    "trainer = CustomTrainer(\n",
    "    model=model,\n",
    "    args=training_args,\n",
    "    train_dataset=train_critic_dataset,\n",
    "    eval_dataset=val_critic_dataset,\n",
    "    class_weights=class_weights,\n",
    "    compute_metrics=compute_metrics_balanced\n",
    ")\n",
    "trainer.train()"
   ],
   "id": "8676efdef42015b7",
   "outputs": [
    {
     "output_type": "display_data",
     "data": {
      "text/plain": [
       "<IPython.core.display.HTML object>"
      ],
      "text/html": [
       "\n",
       "    <div>\n",
       "      \n",
       "      <progress value='4732' max='4732' style='width:300px; height:20px; vertical-align: middle;'></progress>\n",
       "      [4732/4732 13:14, Epoch 4/4]\n",
       "    </div>\n",
       "    <table border=\"1\" class=\"dataframe\">\n",
       "  <thead>\n",
       " <tr style=\"text-align: left;\">\n",
       "      <th>Epoch</th>\n",
       "      <th>Training Loss</th>\n",
       "      <th>Validation Loss</th>\n",
       "      <th>Balanced Accuracy</th>\n",
       "    </tr>\n",
       "  </thead>\n",
       "  <tbody>\n",
       "    <tr>\n",
       "      <td>1</td>\n",
       "      <td>0.525100</td>\n",
       "      <td>0.352445</td>\n",
       "      <td>0.870649</td>\n",
       "    </tr>\n",
       "    <tr>\n",
       "      <td>2</td>\n",
       "      <td>0.286800</td>\n",
       "      <td>0.394963</td>\n",
       "      <td>0.879638</td>\n",
       "    </tr>\n",
       "    <tr>\n",
       "      <td>3</td>\n",
       "      <td>0.141700</td>\n",
       "      <td>0.691703</td>\n",
       "      <td>0.843664</td>\n",
       "    </tr>\n",
       "    <tr>\n",
       "      <td>4</td>\n",
       "      <td>0.040700</td>\n",
       "      <td>0.940641</td>\n",
       "      <td>0.841041</td>\n",
       "    </tr>\n",
       "  </tbody>\n",
       "</table><p>"
      ]
     },
     "metadata": {}
    },
    {
     "output_type": "execute_result",
     "data": {
      "text/plain": [
       "TrainOutput(global_step=4732, training_loss=0.255768435140434, metrics={'train_runtime': 794.6445, 'train_samples_per_second': 47.639, 'train_steps_per_second': 5.955, 'total_flos': 1439579250520320.0, 'train_loss': 0.255768435140434, 'epoch': 4.0})"
      ]
     },
     "metadata": {},
     "execution_count": 79
    }
   ],
   "execution_count": 79
  },
  {
   "metadata": {
    "ExecuteTime": {
     "end_time": "2024-11-23T18:03:20.572446Z",
     "start_time": "2024-11-23T18:02:32.525206Z"
    },
    "colab": {
     "base_uri": "https://localhost:8080/"
    },
    "id": "df42c676c2650f5e",
    "outputId": "cf829782-587c-4a79-fc1b-5135d4b22334"
   },
   "cell_type": "code",
   "source": [
    "get_balanced_accuracy(model, tokenizer, val_critic_texts, val_critic_labels)"
   ],
   "id": "df42c676c2650f5e",
   "outputs": [
    {
     "output_type": "stream",
     "name": "stderr",
     "text": [
      "Hardware accelerator e.g. GPU is available in the environment, but no `device` argument is passed to the `Pipeline` object. Model will be on CPU.\n",
      "You seem to be using the pipelines sequentially on GPU. In order to maximize efficiency please use a dataset\n"
     ]
    },
    {
     "output_type": "execute_result",
     "data": {
      "text/plain": [
       "0.88"
      ]
     },
     "metadata": {},
     "execution_count": 80
    }
   ],
   "execution_count": 80
  },
  {
   "metadata": {
    "ExecuteTime": {
     "end_time": "2024-11-23T18:03:39.292999Z",
     "start_time": "2024-11-23T18:03:20.594592Z"
    },
    "colab": {
     "base_uri": "https://localhost:8080/",
     "height": 144
    },
    "id": "29b960156cb67976",
    "outputId": "9e842460-e694-4e7b-cec4-75ba7ee00b84"
   },
   "cell_type": "code",
   "source": [
    "trainer.evaluate()"
   ],
   "id": "29b960156cb67976",
   "outputs": [
    {
     "output_type": "display_data",
     "data": {
      "text/plain": [
       "<IPython.core.display.HTML object>"
      ],
      "text/html": [
       "\n",
       "    <div>\n",
       "      \n",
       "      <progress value='296' max='296' style='width:300px; height:20px; vertical-align: middle;'></progress>\n",
       "      [296/296 00:10]\n",
       "    </div>\n",
       "    "
      ]
     },
     "metadata": {}
    },
    {
     "output_type": "execute_result",
     "data": {
      "text/plain": [
       "{'eval_loss': 0.39496293663978577,\n",
       " 'eval_balanced_accuracy': 0.8796379606414555,\n",
       " 'eval_runtime': 10.3155,\n",
       " 'eval_samples_per_second': 229.46,\n",
       " 'eval_steps_per_second': 28.695,\n",
       " 'epoch': 4.0}"
      ]
     },
     "metadata": {},
     "execution_count": 81
    }
   ],
   "execution_count": 81
  },
  {
   "metadata": {
    "ExecuteTime": {
     "end_time": "2024-11-23T18:03:59.186323Z",
     "start_time": "2024-11-23T18:03:39.488314Z"
    },
    "colab": {
     "base_uri": "https://localhost:8080/",
     "height": 485
    },
    "id": "8b63c58babb57a90",
    "outputId": "ccd86c81-d28f-4db1-ec85-c432dee53c59"
   },
   "cell_type": "code",
   "source": [
    "plot_confusion_matrix(trainer,val_critic_dataset)"
   ],
   "id": "8b63c58babb57a90",
   "outputs": [
    {
     "output_type": "display_data",
     "data": {
      "text/plain": [
       "<IPython.core.display.HTML object>"
      ],
      "text/html": []
     },
     "metadata": {}
    },
    {
     "output_type": "display_data",
     "data": {
      "text/plain": [
       "<Figure size 640x480 with 2 Axes>"
      ],
      "image/png": "[encoded data removed]"
     },
     "metadata": {}
    },
    {
     "output_type": "execute_result",
     "data": {
      "text/plain": [
       "array([[0.82967033, 0.17032967],\n",
       "       [0.07039441, 0.92960559]])"
      ]
     },
     "metadata": {},
     "execution_count": 82
    }
   ],
   "execution_count": 82
  },
  {
   "metadata": {
    "id": "1485884af37e1eef"
   },
   "cell_type": "markdown",
   "source": [
    "# Teste"
   ],
   "id": "1485884af37e1eef"
  },
  {
   "metadata": {
    "ExecuteTime": {
     "end_time": "2024-11-23T18:04:44.606112Z",
     "start_time": "2024-11-23T18:03:59.362080Z"
    },
    "colab": {
     "base_uri": "https://localhost:8080/"
    },
    "id": "910e80c4f7cc8101",
    "outputId": "8eab5ebf-8942-4223-a9a3-6a39ca51e8b4"
   },
   "cell_type": "code",
   "source": [
    "test_critic_texts = test_critic[\"Review\"].tolist()\n",
    "test_critic_labels = test_critic[\"Sentiment\"].tolist()\n",
    "get_balanced_accuracy(model, tokenizer, test_critic_texts, test_critic_labels)"
   ],
   "id": "910e80c4f7cc8101",
   "outputs": [
    {
     "output_type": "stream",
     "name": "stderr",
     "text": [
      "Hardware accelerator e.g. GPU is available in the environment, but no `device` argument is passed to the `Pipeline` object. Model will be on CPU.\n"
     ]
    },
    {
     "output_type": "execute_result",
     "data": {
      "text/plain": [
       "0.87"
      ]
     },
     "metadata": {},
     "execution_count": 83
    }
   ],
   "execution_count": 83
  },
  {
   "metadata": {
    "ExecuteTime": {
     "end_time": "2024-11-23T18:05:09.504564Z",
     "start_time": "2024-11-23T18:04:44.638787Z"
    },
    "colab": {
     "base_uri": "https://localhost:8080/",
     "height": 485
    },
    "id": "f8d76325308021bb",
    "outputId": "c17eb5ed-fc9f-4228-9384-bb769d45ee11"
   },
   "cell_type": "code",
   "source": [
    "test_encodings = tokenizer(list(test_critic['Review']), truncation=True, padding=True, max_length=128)\n",
    "test_critic_dataset = Dataset.from_dict({\n",
    "    'input_ids': test_encodings['input_ids'],\n",
    "    'attention_mask': test_encodings['attention_mask'],\n",
    "    'labels': list(test_critic['Sentiment'])\n",
    "})\n",
    "plot_confusion_matrix(trainer,test_critic_dataset)"
   ],
   "id": "f8d76325308021bb",
   "outputs": [
    {
     "output_type": "display_data",
     "data": {
      "text/plain": [
       "<IPython.core.display.HTML object>"
      ],
      "text/html": []
     },
     "metadata": {}
    },
    {
     "output_type": "display_data",
     "data": {
      "text/plain": [
       "<Figure size 640x480 with 2 Axes>"
      ],
      "image/png": "[encoded data removed]"
     },
     "metadata": {}
    },
    {
     "output_type": "execute_result",
     "data": {
      "text/plain": [
       "array([[0.81291759, 0.18708241],\n",
       "       [0.07888446, 0.92111554]])"
      ]
     },
     "metadata": {},
     "execution_count": 84
    }
   ],
   "execution_count": 84
  }
 ],
 "metadata": {
  "kernelspec": {
   "display_name": "Python 3",
   "name": "python3"
  },
  "language_info": {
   "codemirror_mode": {
    "name": "ipython",
    "version": 2
   },
   "file_extension": ".py",
   "mimetype": "text/x-python",
   "name": "python",
   "nbconvert_exporter": "python",
   "pygments_lexer": "ipython2",
   "version": "2.7.6"
  },
  "colab": {
   "provenance": [],
   "gpuType": "T4"
  },
  "accelerator": "GPU"
 },
 "nbformat": 4,
 "nbformat_minor": 5
}
