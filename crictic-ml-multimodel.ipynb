{
  "nbformat": 4,
  "nbformat_minor": 0,
  "metadata": {
    "colab": {
      "provenance": []
    },
    "kernelspec": {
      "name": "python3",
      "display_name": "Python 3"
    },
    "language_info": {
      "name": "python"
    }
  },
  "cells": [
    {
      "cell_type": "markdown",
      "source": [
        "# Trabalho FINAL — Classificação de Revisões de Filmes\n",
        "- Equipe: Pioneiros de Dados\n",
        "  - clebr\n",
        "  - vi..."
      ],
      "metadata": {
        "id": "AngCXSdwUh6X"
      }
    },
    {
      "cell_type": "markdown",
      "source": [
        "## Instalação das Bibliotecas"
      ],
      "metadata": {
        "id": "v-wYwb6GU_r9"
      }
    },
    {
      "cell_type": "code",
      "execution_count": 1,
      "metadata": {
        "id": "z508W-CGTobb",
        "colab": {
          "base_uri": "https://localhost:8080/"
        },
        "outputId": "7db916e9-2754-422c-988e-7a427d053f61"
      },
      "outputs": [
        {
          "output_type": "stream",
          "name": "stdout",
          "text": [
            "Collecting catboost\n",
            "  Downloading catboost-1.2.7-cp310-cp310-manylinux2014_x86_64.whl.metadata (1.2 kB)\n",
            "Requirement already satisfied: graphviz in /usr/local/lib/python3.10/dist-packages (from catboost) (0.20.3)\n",
            "Requirement already satisfied: matplotlib in /usr/local/lib/python3.10/dist-packages (from catboost) (3.8.0)\n",
            "Requirement already satisfied: numpy<2.0,>=1.16.0 in /usr/local/lib/python3.10/dist-packages (from catboost) (1.26.4)\n",
            "Requirement already satisfied: pandas>=0.24 in /usr/local/lib/python3.10/dist-packages (from catboost) (2.2.2)\n",
            "Requirement already satisfied: scipy in /usr/local/lib/python3.10/dist-packages (from catboost) (1.13.1)\n",
            "Requirement already satisfied: plotly in /usr/local/lib/python3.10/dist-packages (from catboost) (5.24.1)\n",
            "Requirement already satisfied: six in /usr/local/lib/python3.10/dist-packages (from catboost) (1.16.0)\n",
            "Requirement already satisfied: python-dateutil>=2.8.2 in /usr/local/lib/python3.10/dist-packages (from pandas>=0.24->catboost) (2.8.2)\n",
            "Requirement already satisfied: pytz>=2020.1 in /usr/local/lib/python3.10/dist-packages (from pandas>=0.24->catboost) (2024.2)\n",
            "Requirement already satisfied: tzdata>=2022.7 in /usr/local/lib/python3.10/dist-packages (from pandas>=0.24->catboost) (2024.2)\n",
            "Requirement already satisfied: contourpy>=1.0.1 in /usr/local/lib/python3.10/dist-packages (from matplotlib->catboost) (1.3.1)\n",
            "Requirement already satisfied: cycler>=0.10 in /usr/local/lib/python3.10/dist-packages (from matplotlib->catboost) (0.12.1)\n",
            "Requirement already satisfied: fonttools>=4.22.0 in /usr/local/lib/python3.10/dist-packages (from matplotlib->catboost) (4.55.0)\n",
            "Requirement already satisfied: kiwisolver>=1.0.1 in /usr/local/lib/python3.10/dist-packages (from matplotlib->catboost) (1.4.7)\n",
            "Requirement already satisfied: packaging>=20.0 in /usr/local/lib/python3.10/dist-packages (from matplotlib->catboost) (24.2)\n",
            "Requirement already satisfied: pillow>=6.2.0 in /usr/local/lib/python3.10/dist-packages (from matplotlib->catboost) (11.0.0)\n",
            "Requirement already satisfied: pyparsing>=2.3.1 in /usr/local/lib/python3.10/dist-packages (from matplotlib->catboost) (3.2.0)\n",
            "Requirement already satisfied: tenacity>=6.2.0 in /usr/local/lib/python3.10/dist-packages (from plotly->catboost) (9.0.0)\n",
            "Downloading catboost-1.2.7-cp310-cp310-manylinux2014_x86_64.whl (98.7 MB)\n",
            "\u001b[2K   \u001b[90m━━━━━━━━━━━━━━━━━━━━━━━━━━━━━━━━━━━━━━━━\u001b[0m \u001b[32m98.7/98.7 MB\u001b[0m \u001b[31m7.5 MB/s\u001b[0m eta \u001b[36m0:00:00\u001b[0m\n",
            "\u001b[?25hInstalling collected packages: catboost\n",
            "Successfully installed catboost-1.2.7\n"
          ]
        }
      ],
      "source": [
        "!pip install catboost\n",
        "import pandas as pd\n",
        "import pandas as pd\n",
        "from sklearn.feature_extraction.text import TfidfVectorizer\n",
        "from sklearn.model_selection import train_test_split\n",
        "from sklearn.naive_bayes     import MultinomialNB\n",
        "from sklearn.metrics         import accuracy_score ,balanced_accuracy_score\n",
        "from sklearn.ensemble        import RandomForestClassifier\n",
        "\n",
        "import nltk\n",
        "from nltk.corpus import stopwords\n",
        "\n",
        "from imblearn.under_sampling import RandomUnderSampler\n",
        "from imblearn.over_sampling  import RandomOverSampler"
      ]
    },
    {
      "cell_type": "markdown",
      "source": [
        "#Acesso ao drive"
      ],
      "metadata": {
        "id": "fufz4tcKWPWx"
      }
    },
    {
      "cell_type": "code",
      "source": [
        "from google.colab import drive\n",
        "drive.mount('/content/drive')"
      ],
      "metadata": {
        "colab": {
          "base_uri": "https://localhost:8080/"
        },
        "id": "opQRH7XQWSBO",
        "outputId": "83a712ed-c18d-4c05-e112-d4419b2f69c9"
      },
      "execution_count": 2,
      "outputs": [
        {
          "output_type": "stream",
          "name": "stdout",
          "text": [
            "Mounted at /content/drive\n"
          ]
        }
      ]
    },
    {
      "cell_type": "markdown",
      "source": [
        "## Carregar e preparar os dados"
      ],
      "metadata": {
        "id": "iyiQ7eVIUeKp"
      }
    },
    {
      "cell_type": "code",
      "source": [
        "\n",
        "train_critic = pd.read_csv('/content/drive/My Drive/Classificação de Revisões de Filmes/train_critic.csv')\n",
        "test_critic = pd.read_csv('/content/drive/My Drive/Classificação de Revisões de Filmes/test_critic.csv')\n"
      ],
      "metadata": {
        "id": "tPXIGZBBVQpA"
      },
      "execution_count": 12,
      "outputs": []
    },
    {
      "cell_type": "markdown",
      "source": [
        "Preparando dados - retirando review nulos"
      ],
      "metadata": {
        "id": "RXjqsELNmwUY"
      }
    },
    {
      "cell_type": "code",
      "source": [
        "train_critic = train_critic[train_critic['Review'].notna() & train_critic['Review'].str.strip().astype(bool)]\n",
        "test_critic  = test_critic[test_critic['Review'].notna() & test_critic['Review'].str.strip().astype(bool)]\n",
        "train_critic['Review']= train_critic['Review'].apply(lambda x: x.lower())\n",
        "test_critic['Review']= test_critic['Review'].apply(lambda x: x.lower())\n",
        "\n",
        "#train_critic['Review'] = train_critic['Review'].fillna('')\n",
        "#test_critic['Review'] = test_critic['Review'].fillna('')\n",
        "\n",
        "\n",
        "from nltk.stem import PorterStemmer\n",
        "import spacy\n",
        "stemmer = PorterStemmer()\n",
        "nlp = spacy.load('en_core_web_sm')\n",
        "\n",
        "# Funçoes\n",
        "def apply_stemming(text):\n",
        "    tokens = word_tokenize(text)\n",
        "    stemmed = [stemmer.stem(word) for word in tokens]\n",
        "    return ' '.join(stemmed)\n",
        "def apply_lemmatization(text):\n",
        "    doc = nlp(text)\n",
        "    lemmatized = [token.lemma_ for token in doc]\n",
        "    return ' '.join(lemmatized)\n",
        "\n",
        "# Aplicar as transformações na coluna Review\n",
        "#train_critic['Review'] = train_critic['Review'].dropna().apply(apply_stemming)\n",
        "train_critic['Review'] = train_critic['Review'].dropna().apply(apply_lemmatization)\n",
        "\n",
        "#test_critic['Review'] = test_critic['Review'].dropna().apply(apply_stemming)\n",
        "test_critic['Review'] = test_critic['Review'].dropna().apply(apply_lemmatization)\n"
      ],
      "metadata": {
        "id": "drvvd7Jzm8nR",
        "colab": {
          "base_uri": "https://localhost:8080/"
        },
        "outputId": "5213999f-d5b6-4341-8760-e2299ba25bd0"
      },
      "execution_count": 13,
      "outputs": [
        {
          "output_type": "stream",
          "name": "stderr",
          "text": [
            "<ipython-input-13-e76a0710671f>:3: SettingWithCopyWarning: \n",
            "A value is trying to be set on a copy of a slice from a DataFrame.\n",
            "Try using .loc[row_indexer,col_indexer] = value instead\n",
            "\n",
            "See the caveats in the documentation: https://pandas.pydata.org/pandas-docs/stable/user_guide/indexing.html#returning-a-view-versus-a-copy\n",
            "  train_critic['Review']= train_critic['Review'].apply(lambda x: x.lower())\n"
          ]
        }
      ]
    },
    {
      "cell_type": "markdown",
      "source": [
        "# Balanceando - SMOTE"
      ],
      "metadata": {
        "id": "9_ODSY8hOX_1"
      }
    },
    {
      "cell_type": "code",
      "source": [
        "from imblearn.over_sampling import SMOTE\n",
        "\n",
        "data = train_critic\n",
        "X = data[['Show', 'Review']]\n",
        "y = data['Sentiment']\n",
        "\n",
        "# Convert text data to numerical representation using TF-IDF\n",
        "vectorizer = TfidfVectorizer(stop_words='english', max_features=100, max_df=0.85, min_df=10, ngram_range=(1, 3))\n",
        "X_vec = vectorizer.fit_transform(X['Review'])\n",
        "X_train, X_test, y_train, y_test = train_test_split(X_resampled, y_resampled, test_size=0.2, random_state=42)\n",
        "\n",
        "smote = SMOTE(random_state=42)\n",
        "X_resampled, y_resampled = smote.fit_resample(X_vec, y)\n",
        "# Divide train e test usando somente o conjunto train_critic\n"
      ],
      "metadata": {
        "id": "Iq0BcFe1OdGY"
      },
      "execution_count": 14,
      "outputs": []
    },
    {
      "cell_type": "markdown",
      "source": [
        "# Mostra classes x conjunto treino/teste"
      ],
      "metadata": {
        "id": "Zy0rrhn4SXeV"
      }
    },
    {
      "cell_type": "code",
      "source": [
        "\n",
        "from collections import Counter\n",
        "\n",
        "print(\"Classes antes do balanceamento (treino):\", Counter(y))\n",
        "print(\"Classes após o balanceamento (treino):\", Counter(y_resampled))\n",
        "\n",
        "print(\"\\nShape do conjunto de treino:\", X_train.shape)\n",
        "print(\"Shape do conjunto de teste:\", X_test.shape)\n",
        "print(\"\\nNúmero de amostras por classe no conjunto de treino:\")\n",
        "print(pd.Series(y_train).value_counts())\n",
        "print(\"\\nNúmero de amostras por classe no conjunto de teste:\")\n",
        "print(pd.Series(y_test).value_counts())"
      ],
      "metadata": {
        "colab": {
          "base_uri": "https://localhost:8080/"
        },
        "id": "aal-bpoyLDqH",
        "outputId": "c890ef41-66c7-4fa1-fbb7-650b9e63c08a"
      },
      "execution_count": 15,
      "outputs": [
        {
          "output_type": "stream",
          "name": "stdout",
          "text": [
            "Classes antes do balanceamento (treino): Counter({1: 9995, 0: 1836})\n",
            "Classes após o balanceamento (treino): Counter({1: 9995, 0: 9995})\n",
            "\n",
            "Shape do conjunto de treino: (15992, 100)\n",
            "Shape do conjunto de teste: (3998, 100)\n",
            "\n",
            "Número de amostras por classe no conjunto de treino:\n",
            "Sentiment\n",
            "0    8029\n",
            "1    7963\n",
            "Name: count, dtype: int64\n",
            "\n",
            "Número de amostras por classe no conjunto de teste:\n",
            "Sentiment\n",
            "1    2032\n",
            "0    1966\n",
            "Name: count, dtype: int64\n"
          ]
        }
      ]
    },
    {
      "cell_type": "markdown",
      "source": [
        "# Balanceando simples - duplicando ou removendo amostras"
      ],
      "metadata": {
        "id": "_lKdinC5RkBo"
      }
    },
    {
      "cell_type": "code",
      "source": [
        "#data = train_critic\n",
        "#print(\"Distribuição antes balanceamento:\")\n",
        "#print(data['Sentiment'].value_counts())\n",
        "# Separar as features (Show, Review) e a variável de interesse (Sentiment)\n",
        "#X = data[['Show', 'Review']]  # Features\n",
        "#y = data['Sentiment']         # Classe binária\n",
        "\n",
        "# Converter X para índices porque Random*Sampler trabalha com arrays/matrizes\n",
        "#X_indices = X.index.values.reshape(-1, 1)\n",
        "\n",
        "# Inicializar sampler\n",
        "#sampler = RandomOverSampler(random_state=42)\n",
        "#sampler = RandomUnderSampler(random_state=42)\n",
        "\n",
        "# Aplicar o *sample\n",
        "#_, y_resampled_indices = sampler.fit_resample(X_indices, y)\n",
        "\n",
        "# Filtrar o DataFrame original com os índices resampleados\n",
        "#balanced_data = data.iloc[y_resampled_indices.to_numpy().flatten()]\n",
        "\n",
        "# Verificar o balanceamento\n",
        "#print(\"Distribuição após balanceamento:\")\n",
        "#print(balanced_data['Sentiment'].value_counts())\n",
        "#train_critic = balanced_data"
      ],
      "metadata": {
        "colab": {
          "base_uri": "https://localhost:8080/"
        },
        "id": "SLmDBlmLglpS",
        "outputId": "8bf450d2-faab-4df5-ca6e-b39311471fce"
      },
      "execution_count": 33,
      "outputs": [
        {
          "output_type": "stream",
          "name": "stdout",
          "text": [
            "Distribuição antes balanceamento:\n",
            "Sentiment\n",
            "1    9995\n",
            "0    1836\n",
            "Name: count, dtype: int64\n",
            "Distribuição após balanceamento:\n",
            "Sentiment\n",
            "1    1836\n",
            "0    1836\n",
            "Name: count, dtype: int64\n"
          ]
        }
      ]
    },
    {
      "cell_type": "markdown",
      "source": [
        "# vetorizando"
      ],
      "metadata": {
        "id": "shCTODrwH0Q6"
      }
    },
    {
      "cell_type": "code",
      "source": [
        "#X_train = train_critic['Review']\n",
        "#y_train = train_critic['Sentiment']\n",
        "#vectorizer = TfidfVectorizer(stop_words='english', max_features=100, max_df=0.85, min_df=10,ngram_range=(1, 3))\n",
        "#X_train = vectorizer.fit_transform(X_train)\n",
        "\n",
        "#X_test = test_critic['Review']\n",
        "#y_test = test_critic['Sentiment']\n",
        "\n",
        "#X_test = vectorizer.transform(X_test)\n",
        "\n",
        "#print(vectorizer.get_feature_names_out())"
      ],
      "metadata": {
        "colab": {
          "base_uri": "https://localhost:8080/"
        },
        "id": "hPP-aYcXHzSl",
        "outputId": "fd4a98ca-56e8-447e-9fb4-e3d8569e9fa0"
      },
      "execution_count": 34,
      "outputs": [
        {
          "output_type": "stream",
          "name": "stdout",
          "text": [
            "['bit' 'brilliant' 'brilliant compulsive' 'brilliant compulsive star'\n",
            " 'burn' 'burn episode' 'burn episode wasn' 'compulsive' 'compulsive star'\n",
            " 'compulsive star mind' 'dragged' 'dragged bit' 'episode' 'episode season'\n",
            " 'episode season dragged' 'episode wasn' 'episode wasn glacial' 'glacial'\n",
            " 'glacial episode' 'glacial episode season' 'mind' 'mind trip'\n",
            " 'mind trip series' 'new' 'new season' 'new season try' 'remind'\n",
            " 'remind slow' 'remind slow burn' 'season' 'season dragged'\n",
            " 'season dragged bit' 'season try' 'season try remind' 'series' 'slow'\n",
            " 'slow burn' 'slow burn episode' 'star' 'star mind' 'star mind trip'\n",
            " 'trip' 'trip series' 'try' 'try remind' 'try remind slow' 'wasn'\n",
            " 'wasn glacial' 'wasn glacial episode']\n"
          ]
        }
      ]
    },
    {
      "cell_type": "markdown",
      "source": [
        "# Avaliar modelos"
      ],
      "metadata": {
        "id": "kOJiDFkb5B4n"
      }
    },
    {
      "cell_type": "code",
      "source": [
        "#!pip install catboost\n",
        "from sklearn.linear_model import LogisticRegression, RidgeClassifier, SGDClassifier\n",
        "from sklearn.ensemble import RandomForestClassifier, GradientBoostingClassifier, StackingClassifier, VotingClassifier,AdaBoostClassifier\n",
        "from sklearn.neighbors import KNeighborsClassifier, RadiusNeighborsClassifier\n",
        "from sklearn.naive_bayes import MultinomialNB,GaussianNB\n",
        "from sklearn.svm import SVC\n",
        "from sklearn.neural_network import MLPClassifier\n",
        "from xgboost import XGBClassifier\n",
        "from lightgbm import LGBMClassifier\n",
        "from catboost import CatBoostClassifier\n",
        "from sklearn.gaussian_process import GaussianProcessClassifier\n",
        "from sklearn.gaussian_process.kernels import RBF\n",
        "\n",
        "# Dicionário com modelos\n",
        "models = {\n",
        "    'Logistic Regression': LogisticRegression(),\n",
        "    'Random Forest': RandomForestClassifier(random_state=42, n_estimators=10, max_features=2),\n",
        "    'SVC(gamma=2, C=1)': SVC(gamma=2, C=1),\n",
        "    'SVC(kernel=\"linear\",C=0.025,probability=True)': SVC(kernel=\"linear\",C=0.025,probability=True),\n",
        "#    'Voting Classifier': voting_clf,\n",
        "#    'Stacking Classifier': stacking_clf,\n",
        "    'K-Nearest Neighbors': KNeighborsClassifier(),\n",
        "    'Radius Neighbors': RadiusNeighborsClassifier(radius=10),\n",
        "    'Gradient Boosting': GradientBoostingClassifier(),\n",
        "    'XGBoost': XGBClassifier(),\n",
        "#    'LightGBM': LGBMClassifier(),\n",
        "    'CatBoost': CatBoostClassifier(verbose=0),\n",
        "    'Neural Network': MLPClassifier(alpha=1),\n",
        "    'Stochastic Gradient Descent': SGDClassifier(),\n",
        "    'Ridge Classifier': RidgeClassifier(),\n",
        "    'AdaBoostClassifier': AdaBoostClassifier(),\n",
        "#    'GaussianNB': GaussianNB(),\n",
        "    'MultinomialNB': MultinomialNB()\n",
        "#    'GaussianProcessClassifier': GaussianProcessClassifier(1.0 * RBF(1.0))\n",
        "    }\n"
      ],
      "metadata": {
        "id": "q1jnrC4aaL91"
      },
      "execution_count": 17,
      "outputs": []
    },
    {
      "cell_type": "markdown",
      "source": [
        "# treinar"
      ],
      "metadata": {
        "id": "dhNRNTspHbzN"
      }
    },
    {
      "cell_type": "code",
      "source": [
        "import pandas as pd\n",
        "from sklearn.metrics import balanced_accuracy_score\n",
        "\n",
        "results = []\n",
        "\n",
        "for name, model in models.items():\n",
        "    model.fit(X_train, y_train)\n",
        "    y_pred = model.predict(X_test)\n",
        "    acc = balanced_accuracy_score(y_test, y_pred)\n",
        "    results.append({'Model': name, 'Test Accuracy': acc})\n",
        "\n",
        "# Exibir resultados em um DataFrame\n",
        "results_df = pd.DataFrame(results)\n",
        "print(results_df.sort_values(by='Test Accuracy', ascending=False))\n"
      ],
      "metadata": {
        "colab": {
          "base_uri": "https://localhost:8080/"
        },
        "id": "zzqsWR27HjCL",
        "outputId": "8cf12fe5-b188-439b-b6f5-3d42f6a576a0"
      },
      "execution_count": 18,
      "outputs": [
        {
          "output_type": "stream",
          "name": "stderr",
          "text": [
            "/usr/local/lib/python3.10/dist-packages/sklearn/ensemble/_weight_boosting.py:527: FutureWarning: The SAMME.R algorithm (the default) is deprecated and will be removed in 1.6. Use the SAMME algorithm to circumvent this warning.\n",
            "  warnings.warn(\n"
          ]
        },
        {
          "output_type": "stream",
          "name": "stdout",
          "text": [
            "                                            Model  Test Accuracy\n",
            "2                               SVC(gamma=2, C=1)       0.842650\n",
            "1                                   Random Forest       0.810011\n",
            "8                                        CatBoost       0.776846\n",
            "7                                         XGBoost       0.765321\n",
            "6                               Gradient Boosting       0.727149\n",
            "4                             K-Nearest Neighbors       0.686656\n",
            "12                             AdaBoostClassifier       0.662755\n",
            "11                               Ridge Classifier       0.660472\n",
            "10                    Stochastic Gradient Descent       0.659426\n",
            "0                             Logistic Regression       0.658487\n",
            "9                                  Neural Network       0.648621\n",
            "3   SVC(kernel=\"linear\",C=0.025,probability=True)       0.648254\n",
            "13                                  MultinomialNB       0.639040\n",
            "5                                Radius Neighbors       0.500000\n"
          ]
        }
      ]
    },
    {
      "cell_type": "markdown",
      "source": [
        "# Calcular melhor gamma C\n",
        "(nao termina depois que mudou para SMOTE e subdividiu o train pra train e test)"
      ],
      "metadata": {
        "id": "3HeVm-sZQQHd"
      }
    },
    {
      "cell_type": "code",
      "source": [
        "import pandas as pd\n",
        "from sklearn.feature_extraction.text import TfidfVectorizer\n",
        "from sklearn.model_selection import train_test_split, GridSearchCV\n",
        "from sklearn.metrics import accuracy_score, balanced_accuracy_score, confusion_matrix\n",
        "from sklearn.svm import SVC\n",
        "import matplotlib.pyplot as plt\n",
        "import seaborn as sns\n",
        "import nltk\n",
        "from nltk.corpus import stopwords\n",
        "from imblearn.under_sampling import RandomUnderSampler\n",
        "from google.colab import drive\n",
        "\n",
        "# BALANCIAMENTO, VETORIZACAO PADRAO USADA INICIALMENTE\n",
        "# Access Google Drive\n",
        "#drive.mount('/content/drive')\n",
        "\n",
        "# Load and prepare the data\n",
        "#train_critic = pd.read_csv('/content/drive/My Drive/Classificação de Revisões de Filmes/train_critic.csv')\n",
        "#test_critic = pd.read_csv('/content/drive/My Drive/Classificação de Revisões de Filmes/test_critic.csv')\n",
        "\n",
        "# Data preparation\n",
        "#train_critic = train_critic[train_critic['Review'].notna() & train_critic['Review'].str.strip().astype(bool)]\n",
        "#test_critic = test_critic[test_critic['Review'].notna() & test_critic['Review'].str.strip().astype(bool)]\n",
        "#train_critic['Review'] = train_critic['Review'].apply(lambda x: x.lower())\n",
        "#test_critic['Review'] = test_critic['Review'].apply(lambda x: x.lower())\n",
        "\n",
        "# Balancing - Undersampling\n",
        "#data = train_critic\n",
        "#X = data[['Show', 'Review']]\n",
        "#y = data['Sentiment']\n",
        "#X_indices = X.index.values.reshape(-1, 1)\n",
        "#sampler = RandomUnderSampler(random_state=42)\n",
        "#_, y_resampled_indices = sampler.fit_resample(X_indices, y)\n",
        "#balanced_data = data.iloc[y_resampled_indices.to_numpy().flatten()]\n",
        "#train_critic = balanced_data\n",
        "\n",
        "# Vectorizing\n",
        "#X_train = train_critic['Review']\n",
        "#y_train = train_critic['Sentiment']\n",
        "#vectorizer = TfidfVectorizer(stop_words='english', max_features=100, max_df=0.85, min_df=10, ngram_range=(1, 3))\n",
        "#X_train = vectorizer.fit_transform(X_train)\n",
        "\n",
        "#X_test = test_critic['Review']\n",
        "#y_test = test_critic['Sentiment']\n",
        "#X_test = vectorizer.transform(X_test)\n",
        "#FIM - # BALANCIAMENTO, VETORIZACAO PADRAO USADA INICIALMENTE\n",
        "\n",
        "\n",
        "\n",
        "# Tuning hyperparameter 'gamma' for SVC\n",
        "#param_grid = {'gamma': [0.1, 1, 10], 'C': [0.1, 1, 10]} # Expanded parameter grid\n",
        "#svc = SVC()\n",
        "#grid_search = GridSearchCV(svc, param_grid, cv=5, scoring='balanced_accuracy', n_jobs=10) # Use n_jobs for parallelization\n",
        "#grid_search.fit(X_train, y_train)\n",
        "\n",
        "#print(\"Best hyperparameters:\", grid_search.best_params_)\n",
        "#print(\"Best score:\", grid_search.best_score_)\n",
        "\n",
        "# Train the model with the best hyperparameters\n",
        "#best_svc_model = grid_search.best_estimator_\n",
        "#y_pred_svc = best_svc_model.predict(X_test)\n",
        "\n",
        "# Evaluate the model\n",
        "#acc = balanced_accuracy_score(y_test, y_pred_svc)\n",
        "#print(f\"Test Accuracy with best hyperparameters: {acc}\")\n",
        "\n",
        "# Confusion matrix\n",
        "#cm = confusion_matrix(y_test, y_pred_svc)\n",
        "#plt.figure(figsize=(8, 6))\n",
        "#sns.heatmap(cm, annot=True, fmt=\"d\", cmap=\"Blues\",\n",
        "#            xticklabels=['Negative', 'Positive'],\n",
        "#            yticklabels=['Negative', 'Positive'])\n",
        "#plt.xlabel(\"Predicted Label\")\n",
        "#plt.ylabel(\"True Label\")\n",
        "#plt.title(f\"Confusion Matrix for SVC (Best Hyperparameters)\")\n",
        "#plt.show()"
      ],
      "metadata": {
        "id": "UCtqZo2xSBgA"
      },
      "execution_count": null,
      "outputs": []
    },
    {
      "cell_type": "markdown",
      "source": [
        "# treina MODELO escolhido  mostrar matrix de Confusao."
      ],
      "metadata": {
        "id": "uC06usqyQyDz"
      }
    },
    {
      "cell_type": "code",
      "source": [
        "from sklearn.metrics import confusion_matrix\n",
        "import seaborn as sns\n",
        "import matplotlib.pyplot as plt\n",
        "\n",
        "# Treinar o modelo SVC(gamma=0.1, C=0.1)\n",
        "svc_model = SVC(gamma=2, C=1)\n",
        "svc_model.fit(X_train, y_train)\n",
        "\n",
        "# Fazer previsões no conjunto de teste\n",
        "y_pred_svc = svc_model.predict(X_test)\n",
        "\n",
        "# Gerar a matriz de confusão\n",
        "cm = confusion_matrix(y_test, y_pred_svc)\n",
        "\n",
        "# Plotar a matriz de confusão\n",
        "plt.figure(figsize=(8, 6))\n",
        "sns.heatmap(cm, annot=True, fmt=\"d\", cmap=\"Blues\",\n",
        "            xticklabels=['Negative', 'Positive'],\n",
        "            yticklabels=['Negative', 'Positive'])\n",
        "plt.xlabel(\"Predicted Label\")\n",
        "plt.ylabel(\"True Label\")\n",
        "plt.title(\"Confusion Matrix for SVC(gamma=2, C=1)\")\n",
        "plt.show()"
      ],
      "metadata": {
        "colab": {
          "base_uri": "https://localhost:8080/",
          "height": 564
        },
        "id": "2ZxPuCzQQ2Gd",
        "outputId": "69c603ad-4c98-4b21-f2c9-82f4a9275c88"
      },
      "execution_count": 19,
      "outputs": [
        {
          "output_type": "display_data",
          "data": {
            "text/plain": [
              "<Figure size 800x600 with 2 Axes>"
            ],
            "image/png": "[encoded data removed]"
          },
          "metadata": {}
        }
      ]
    },
    {
      "cell_type": "markdown",
      "source": [
        "# Validacao final\n",
        "(usando o conjunto fornecido como test_critic, voltamos para 0.5 de Ac.B )"
      ],
      "metadata": {
        "id": "HhLsSuFUc0t5"
      }
    },
    {
      "cell_type": "code",
      "source": [
        "\n",
        "X = test_critic[['Show', 'Review']]\n",
        "y = test_critic['Sentiment']\n",
        "vectorizer = TfidfVectorizer(stop_words='english', max_features=100, max_df=0.85, min_df=10, ngram_range=(1, 3))\n",
        "# Fit the vectorizer to your training data before transforming the test data\n",
        "vectorizer.fit(train_critic['Review']) # Assuming train_critic is your training data\n",
        "\n",
        "X_vec = vectorizer.transform(X['Review'])\n",
        "\n",
        "# Fazer previsões\n",
        "y_pred_svc = svc_model.predict(X_vec)\n",
        "\n",
        "# Gerar a matriz de confusão\n",
        "cm = confusion_matrix(y, y_pred_svc)\n",
        "\n",
        "plt.figure(figsize=(8, 6))\n",
        "sns.heatmap(cm, annot=True, fmt=\"d\", cmap=\"Blues\",\n",
        "            xticklabels=['Negative', 'Positive'],\n",
        "            yticklabels=['Negative', 'Positive'])\n",
        "plt.xlabel(\"Predicted Label\")\n",
        "plt.ylabel(\"True Label\")\n",
        "plt.title(\"Confusion Matrix for SVC(gamma=2, C=1)\")\n",
        "plt.show()\n",
        "# ACURACIA BALANCIADA\n",
        "acc = balanced_accuracy_score(y, y_pred_svc)\n",
        "print(f\"balanced_accuracy_score: {acc}\")\n"
      ],
      "metadata": {
        "colab": {
          "base_uri": "https://localhost:8080/",
          "height": 582
        },
        "id": "hh8n9a7Bc0UW",
        "outputId": "fa942f55-36f4-4198-d748-47b372f2f38e"
      },
      "execution_count": 24,
      "outputs": [
        {
          "output_type": "display_data",
          "data": {
            "text/plain": [
              "<Figure size 800x600 with 2 Axes>"
            ],
            "image/png": "[encoded data removed]"
          },
          "metadata": {}
        },
        {
          "output_type": "stream",
          "name": "stdout",
          "text": [
            "balanced_accuracy_score: 0.5263839963087515\n"
          ]
        }
      ]
    }
  ]
}