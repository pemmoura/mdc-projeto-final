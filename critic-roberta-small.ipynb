{
 "cells": [
  {
   "metadata": {},
   "cell_type": "markdown",
   "source": "# MDC 018 - Projeto Final",
   "id": "cc52547f1f6d38f3"
  },
  {
   "metadata": {},
   "cell_type": "code",
   "source": [
    "model_name = \"klue/roberta-small\"\n",
    "num_labels = 2\n",
    "output_dir = \"./results_critic_robertasmall\""
   ],
   "id": "716de709f94dab63",
   "outputs": [],
   "execution_count": null
  },
  {
   "metadata": {
    "ExecuteTime": {
     "end_time": "2024-11-24T17:34:58.107060Z",
     "start_time": "2024-11-24T17:34:57.533050Z"
    }
   },
   "cell_type": "code",
   "outputs": [],
   "execution_count": 1,
   "source": [
    "import pandas as pd\n",
    "\n",
    "# Carregando os dados de treinamento e teste\n",
    "train_critic = pd.read_csv(\"train_critic.csv\")\n",
    "\n",
    "test_critic = pd.read_csv(\"test_critic.csv\")"
   ],
   "id": "4ae38f923387d40"
  },
  {
   "metadata": {
    "ExecuteTime": {
     "end_time": "2024-11-24T17:34:58.317728Z",
     "start_time": "2024-11-24T17:34:58.304930Z"
    }
   },
   "cell_type": "code",
   "source": "train_critic",
   "id": "23a9512718c1f945",
   "outputs": [
    {
     "data": {
      "text/plain": [
       "                                               Show  Sentiment  \\\n",
       "0                                         Bodyguard          1   \n",
       "1                                           Mad Men          0   \n",
       "2      1971: The Year That Music Changed Everything          1   \n",
       "3                                    Six Feet Under          1   \n",
       "4                                     Pieces of Her          0   \n",
       "...                                             ...        ...   \n",
       "11827                              Freaks and Geeks          1   \n",
       "11828                                The Gilded Age          1   \n",
       "11829                                 Joe vs Carole          1   \n",
       "11830                                Rick and Morty          1   \n",
       "11831                               Y: The Last Man          1   \n",
       "\n",
       "                                                  Review  \n",
       "0      This has been a brilliant, compulsive, five-st...  \n",
       "1      With each new season, I try to remind myself t...  \n",
       "2      Here's one of the most all-encompassing and st...  \n",
       "3      To me, it was one of the most clever, funny, s...  \n",
       "4      Well acted and highly suspenseful, the eight-p...  \n",
       "...                                                  ...  \n",
       "11827  Freaks and Geeks boasts an extremely talented ...  \n",
       "11828  It's a period piece set in 1882 New York that ...  \n",
       "11829  McKinnon and her co-producers must be credited...  \n",
       "11830  As season openers go, this is a really solid e...  \n",
       "11831  Once the show moves past its been-there, watch...  \n",
       "\n",
       "[11832 rows x 3 columns]"
      ],
      "text/html": [
       "<div>\n",
       "<style scoped>\n",
       "    .dataframe tbody tr th:only-of-type {\n",
       "        vertical-align: middle;\n",
       "    }\n",
       "\n",
       "    .dataframe tbody tr th {\n",
       "        vertical-align: top;\n",
       "    }\n",
       "\n",
       "    .dataframe thead th {\n",
       "        text-align: right;\n",
       "    }\n",
       "</style>\n",
       "<table border=\"1\" class=\"dataframe\">\n",
       "  <thead>\n",
       "    <tr style=\"text-align: right;\">\n",
       "      <th></th>\n",
       "      <th>Show</th>\n",
       "      <th>Sentiment</th>\n",
       "      <th>Review</th>\n",
       "    </tr>\n",
       "  </thead>\n",
       "  <tbody>\n",
       "    <tr>\n",
       "      <th>0</th>\n",
       "      <td>Bodyguard</td>\n",
       "      <td>1</td>\n",
       "      <td>This has been a brilliant, compulsive, five-st...</td>\n",
       "    </tr>\n",
       "    <tr>\n",
       "      <th>1</th>\n",
       "      <td>Mad Men</td>\n",
       "      <td>0</td>\n",
       "      <td>With each new season, I try to remind myself t...</td>\n",
       "    </tr>\n",
       "    <tr>\n",
       "      <th>2</th>\n",
       "      <td>1971: The Year That Music Changed Everything</td>\n",
       "      <td>1</td>\n",
       "      <td>Here's one of the most all-encompassing and st...</td>\n",
       "    </tr>\n",
       "    <tr>\n",
       "      <th>3</th>\n",
       "      <td>Six Feet Under</td>\n",
       "      <td>1</td>\n",
       "      <td>To me, it was one of the most clever, funny, s...</td>\n",
       "    </tr>\n",
       "    <tr>\n",
       "      <th>4</th>\n",
       "      <td>Pieces of Her</td>\n",
       "      <td>0</td>\n",
       "      <td>Well acted and highly suspenseful, the eight-p...</td>\n",
       "    </tr>\n",
       "    <tr>\n",
       "      <th>...</th>\n",
       "      <td>...</td>\n",
       "      <td>...</td>\n",
       "      <td>...</td>\n",
       "    </tr>\n",
       "    <tr>\n",
       "      <th>11827</th>\n",
       "      <td>Freaks and Geeks</td>\n",
       "      <td>1</td>\n",
       "      <td>Freaks and Geeks boasts an extremely talented ...</td>\n",
       "    </tr>\n",
       "    <tr>\n",
       "      <th>11828</th>\n",
       "      <td>The Gilded Age</td>\n",
       "      <td>1</td>\n",
       "      <td>It's a period piece set in 1882 New York that ...</td>\n",
       "    </tr>\n",
       "    <tr>\n",
       "      <th>11829</th>\n",
       "      <td>Joe vs Carole</td>\n",
       "      <td>1</td>\n",
       "      <td>McKinnon and her co-producers must be credited...</td>\n",
       "    </tr>\n",
       "    <tr>\n",
       "      <th>11830</th>\n",
       "      <td>Rick and Morty</td>\n",
       "      <td>1</td>\n",
       "      <td>As season openers go, this is a really solid e...</td>\n",
       "    </tr>\n",
       "    <tr>\n",
       "      <th>11831</th>\n",
       "      <td>Y: The Last Man</td>\n",
       "      <td>1</td>\n",
       "      <td>Once the show moves past its been-there, watch...</td>\n",
       "    </tr>\n",
       "  </tbody>\n",
       "</table>\n",
       "<p>11832 rows × 3 columns</p>\n",
       "</div>"
      ]
     },
     "execution_count": 2,
     "metadata": {},
     "output_type": "execute_result"
    }
   ],
   "execution_count": 2
  },
  {
   "metadata": {},
   "cell_type": "markdown",
   "source": "Verificação de balanceamento:",
   "id": "8770f4295929a95f"
  },
  {
   "metadata": {
    "ExecuteTime": {
     "end_time": "2024-11-24T17:34:58.369214Z",
     "start_time": "2024-11-24T17:34:58.363084Z"
    }
   },
   "cell_type": "code",
   "source": "train_critic['Sentiment'].value_counts()\n",
   "id": "70acdc20acc9f9ab",
   "outputs": [
    {
     "data": {
      "text/plain": [
       "Sentiment\n",
       "1    9995\n",
       "0    1837\n",
       "Name: count, dtype: int64"
      ]
     },
     "execution_count": 3,
     "metadata": {},
     "output_type": "execute_result"
    }
   ],
   "execution_count": 3
  },
  {
   "metadata": {},
   "cell_type": "markdown",
   "source": "Ambos conjuntos estão fortemente desbalanceados.",
   "id": "6f721a20f344e0e7"
  },
  {
   "metadata": {},
   "cell_type": "markdown",
   "source": [
    "# Predição de sentimento\n",
    "\n",
    "Conjunto train_critic"
   ],
   "id": "bf1b39a390a7896a"
  },
  {
   "metadata": {
    "ExecuteTime": {
     "end_time": "2024-11-24T17:34:59.195253Z",
     "start_time": "2024-11-24T17:34:58.428168Z"
    }
   },
   "cell_type": "code",
   "source": [
    "# Separação entre conjunto de treino e validação\n",
    "from sklearn.model_selection import train_test_split\n",
    "\n",
    "# Remove NAs\n",
    "train_critic.dropna(subset=['Review'], inplace=True)\n",
    "\n",
    "(train_critic_df, val_critic_df) = train_test_split(train_critic, test_size=0.2)\n",
    "train_critic_df['Sentiment'].value_counts()"
   ],
   "id": "ce428f576e08bf33",
   "outputs": [
    {
     "data": {
      "text/plain": [
       "Sentiment\n",
       "1    8012\n",
       "0    1452\n",
       "Name: count, dtype: int64"
      ]
     },
     "execution_count": 4,
     "metadata": {},
     "output_type": "execute_result"
    }
   ],
   "execution_count": 4
  },
  {
   "metadata": {
    "ExecuteTime": {
     "end_time": "2024-11-24T17:34:59.277850Z",
     "start_time": "2024-11-24T17:34:59.269665Z"
    }
   },
   "cell_type": "code",
   "source": [
    "from sklearn.utils.class_weight import compute_class_weight\n",
    "import numpy as np\n",
    "\n",
    "# Calcular os pesos para as classes\n",
    "classes = train_critic['Sentiment'].unique()\n",
    "weights = compute_class_weight(\n",
    "    class_weight='balanced',\n",
    "    classes=np.array(classes),\n",
    "    y=train_critic['Sentiment']\n",
    ")\n",
    "\n",
    "class_weights = dict(zip(classes, weights))\n",
    "class_weights"
   ],
   "id": "b8ed964bb5a5cffc",
   "outputs": [
    {
     "data": {
      "text/plain": [
       "{np.int64(1): np.float64(0.5918459229614808),\n",
       " np.int64(0): np.float64(3.221949891067538)}"
      ]
     },
     "execution_count": 5,
     "metadata": {},
     "output_type": "execute_result"
    }
   ],
   "execution_count": 5
  },
  {
   "metadata": {
    "ExecuteTime": {
     "end_time": "2024-11-24T17:34:59.413861Z",
     "start_time": "2024-11-24T17:34:59.410255Z"
    }
   },
   "cell_type": "code",
   "source": [
    "val_critic_texts = val_critic_df[\"Review\"].tolist()\n",
    "val_critic_labels = val_critic_df[\"Sentiment\"].tolist()"
   ],
   "id": "354789f5fd35f1a7",
   "outputs": [],
   "execution_count": 6
  },
  {
   "metadata": {
    "ExecuteTime": {
     "end_time": "2024-11-24T17:35:04.535824Z",
     "start_time": "2024-11-24T17:34:59.635152Z"
    }
   },
   "cell_type": "code",
   "source": [
    "from sklearn.metrics import balanced_accuracy_score\n",
    "from transformers import pipeline\n",
    "import matplotlib.pyplot as plt\n",
    "\n",
    "def get_balanced_accuracy(model, tokenizer, texts, labels):\n",
    "    classifier = pipeline(\"text-classification\", model=model, tokenizer=tokenizer)\n",
    "    predictions = []\n",
    "\n",
    "    for text in texts:\n",
    "        result = classifier(text)\n",
    "        label = int(result[0][\"label\"].split(\"_\")[-1])\n",
    "        predictions.append(label)\n",
    "    return round(float(balanced_accuracy_score(labels, predictions)),2)\n",
    "\n",
    "from sklearn.metrics import confusion_matrix, ConfusionMatrixDisplay\n",
    "\n",
    "\n",
    "def plot_confusion_matrix(trainer, dataset, label_names=None, cmap=\"Blues\"):\n",
    "    predictions_output = trainer.predict(dataset)\n",
    "    logits = predictions_output.predictions\n",
    "    labels = predictions_output.label_ids\n",
    "    predictions = logits.argmax(axis=-1)\n",
    "    cm = confusion_matrix(labels, predictions,  normalize='true')\n",
    "    disp = ConfusionMatrixDisplay(confusion_matrix=cm, display_labels=label_names)\n",
    "    disp.plot(cmap=cmap, values_format=\".2f\")\n",
    "    plt.show()\n",
    "    return cm"
   ],
   "id": "e82dd0f551e04a3f",
   "outputs": [
    {
     "name": "stderr",
     "output_type": "stream",
     "text": [
      "C:\\Users\\p.moura\\.virtualenvs\\mdc-projeto-final\\Lib\\site-packages\\tqdm\\auto.py:21: TqdmWarning: IProgress not found. Please update jupyter and ipywidgets. See https://ipywidgets.readthedocs.io/en/stable/user_install.html\n",
      "  from .autonotebook import tqdm as notebook_tqdm\n"
     ]
    }
   ],
   "execution_count": 7
  },
  {
   "metadata": {
    "ExecuteTime": {
     "end_time": "2024-11-24T17:35:11.753016Z",
     "start_time": "2024-11-24T17:35:04.542938Z"
    }
   },
   "cell_type": "code",
   "source": [
    "from transformers import BertForSequenceClassification, BertTokenizer, Trainer, TrainingArguments\n",
    "from sklearn.utils.class_weight import compute_class_weight\n",
    "import torch\n",
    "import numpy as np\n",
    "from datasets import Dataset\n",
    "from transformers import Trainer, TrainingArguments\n",
    "from sklearn.metrics import balanced_accuracy_score\n",
    "\n",
    "model = BertForSequenceClassification.from_pretrained(model_name, num_labels=num_labels)\n",
    "tokenizer = BertTokenizer.from_pretrained(model_name)\n",
    "# Supondo que 'labels' contenha todos os rótulos do conjunto de treinamento\n",
    "labels = train_critic['Sentiment']  # Altere para acessar os rótulos no seu dataset"
   ],
   "id": "819b4a2c2da9f91b",
   "outputs": [
    {
     "name": "stderr",
     "output_type": "stream",
     "text": [
      "C:\\Users\\p.moura\\.virtualenvs\\mdc-projeto-final\\Lib\\site-packages\\huggingface_hub\\file_download.py:139: UserWarning: `huggingface_hub` cache-system uses symlinks by default to efficiently store duplicated files but your machine does not support them in C:\\Users\\p.moura\\.cache\\huggingface\\hub\\models--prajjwal1--bert-medium. Caching files will still work but in a degraded version that might require more space on your disk. This warning can be disabled by setting the `HF_HUB_DISABLE_SYMLINKS_WARNING` environment variable. For more details, see https://huggingface.co/docs/huggingface_hub/how-to-cache#limitations.\n",
      "To support symlinks on Windows, you either need to activate Developer Mode or to run Python as an administrator. In order to activate developer mode, see this article: https://docs.microsoft.com/en-us/windows/apps/get-started/enable-your-device-for-development\n",
      "  warnings.warn(message)\n",
      "Some weights of BertForSequenceClassification were not initialized from the model checkpoint at prajjwal1/bert-medium and are newly initialized: ['classifier.bias', 'classifier.weight']\n",
      "You should probably TRAIN this model on a down-stream task to be able to use it for predictions and inference.\n"
     ]
    }
   ],
   "execution_count": 8
  },
  {
   "metadata": {
    "ExecuteTime": {
     "end_time": "2024-11-24T17:35:15.132903Z",
     "start_time": "2024-11-24T17:35:11.766092Z"
    }
   },
   "cell_type": "code",
   "source": [
    "class_weights = compute_class_weight(class_weight=\"balanced\", classes=np.unique(labels), y=labels)\n",
    "class_weights = torch.tensor(class_weights, dtype=torch.float)  # Converta para um tensor PyTorch\n",
    "import torch.nn as nn\n",
    "\n",
    "#tokeniza os datasets\n",
    "train_encodings = tokenizer(train_critic_df['Review'].tolist(), truncation=True, padding=True, max_length=128)\n",
    "val_encodings = tokenizer(list(val_critic_df['Review']), truncation=True, padding=True, max_length=128)"
   ],
   "id": "8796e1cbb4c7cb39",
   "outputs": [],
   "execution_count": 9
  },
  {
   "metadata": {
    "ExecuteTime": {
     "end_time": "2024-11-24T17:35:15.267106Z",
     "start_time": "2024-11-24T17:35:15.261282Z"
    }
   },
   "cell_type": "code",
   "source": [
    "class CustomTrainer(Trainer):\n",
    "    def __init__(self, class_weights, *args, **kwargs):\n",
    "        super().__init__(*args, **kwargs)\n",
    "        self.class_weights = class_weights\n",
    "\n",
    "    def compute_loss(self, model, inputs, return_outputs=False, **kwargs):\n",
    "        labels = inputs.pop(\"labels\")\n",
    "        outputs = model(**inputs)\n",
    "        logits = outputs.logits\n",
    "        # Define a função de perda com os pesos de classe\n",
    "        loss_fct = nn.CrossEntropyLoss(weight=self.class_weights.to(logits.device))\n",
    "        loss = loss_fct(logits, labels)\n",
    "        return (loss, outputs) if return_outputs else loss"
   ],
   "id": "97af58ea1357abe7",
   "outputs": [],
   "execution_count": 10
  },
  {
   "metadata": {
    "ExecuteTime": {
     "end_time": "2024-11-24T17:35:16.344724Z",
     "start_time": "2024-11-24T17:35:15.383743Z"
    }
   },
   "cell_type": "code",
   "source": [
    "import evaluate\n",
    "from sklearn.metrics import balanced_accuracy_score\n",
    "\n",
    "metric = evaluate.load(\"accuracy\")\n",
    "\n",
    "def compute_metrics(eval_pred):\n",
    "    logits, labels = eval_pred\n",
    "    predictions = np.argmax(logits, axis=-1)\n",
    "    accuracy = metric.compute(predictions=predictions, references=labels)\n",
    "    return accuracy\n",
    "\n",
    "def compute_metrics_balanced(eval_pred):\n",
    "    logits, labels = eval_pred\n",
    "    predictions = np.argmax(logits, axis=-1)\n",
    "\n",
    "    # Calcular acurácia balanceada\n",
    "    balanced_acc = balanced_accuracy_score(labels, predictions)\n",
    "\n",
    "    return {\"balanced_accuracy\": balanced_acc}"
   ],
   "id": "8eaa914b00217cb",
   "outputs": [],
   "execution_count": 11
  },
  {
   "metadata": {
    "jupyter": {
     "is_executing": true
    },
    "ExecuteTime": {
     "start_time": "2024-11-24T17:35:16.474913Z"
    }
   },
   "cell_type": "code",
   "source": [
    "training_args = TrainingArguments(\n",
    "    output_dir=output_dir,\n",
    "    learning_rate=5e-5,\n",
    "    num_train_epochs=4,\n",
    "    weight_decay=0.01,\n",
    "    logging_dir=\"./logs\",\n",
    "    eval_strategy=\"epoch\",\n",
    "    load_best_model_at_end=True,               # Carregar o melhor modelo ao final\n",
    "    metric_for_best_model=\"balanced_accuracy\", # Métrica para determinar o melhor modelo\n",
    "    save_strategy=\"epoch\",                     # Salvar checkpoints no final de cada época\n",
    "    save_total_limit=1,                        # Limitar os checkpoints a 1 para economizar espaço\n",
    "    greater_is_better=True                     # Se maior métrica significa melhor modelo\n",
    ")\n",
    "train_critic_dataset = Dataset.from_dict({\n",
    "    'input_ids': train_encodings['input_ids'],\n",
    "    'attention_mask': train_encodings['attention_mask'],\n",
    "    'labels': list(train_critic_df['Sentiment'])\n",
    "})\n",
    "\n",
    "val_critic_dataset = Dataset.from_dict({\n",
    "    'input_ids': val_encodings['input_ids'],\n",
    "    'attention_mask': val_encodings['attention_mask'],\n",
    "    'labels': list(val_critic_df['Sentiment'])\n",
    "})\n",
    "\n",
    "trainer = CustomTrainer(\n",
    "    model=model,\n",
    "    args=training_args,\n",
    "    train_dataset=train_critic_dataset,\n",
    "    eval_dataset=val_critic_dataset,\n",
    "    class_weights=class_weights,\n",
    "    compute_metrics=compute_metrics_balanced\n",
    ")\n",
    "trainer.train()"
   ],
   "id": "8676efdef42015b7",
   "outputs": [
    {
     "data": {
      "text/plain": [
       "<IPython.core.display.HTML object>"
      ],
      "text/html": [
       "\n",
       "    <div>\n",
       "      \n",
       "      <progress value='23' max='4732' style='width:300px; height:20px; vertical-align: middle;'></progress>\n",
       "      [  23/4732 00:15 < 57:13, 1.37 it/s, Epoch 0.02/4]\n",
       "    </div>\n",
       "    <table border=\"1\" class=\"dataframe\">\n",
       "  <thead>\n",
       " <tr style=\"text-align: left;\">\n",
       "      <th>Epoch</th>\n",
       "      <th>Training Loss</th>\n",
       "      <th>Validation Loss</th>\n",
       "    </tr>\n",
       "  </thead>\n",
       "  <tbody>\n",
       "  </tbody>\n",
       "</table><p>"
      ]
     },
     "metadata": {},
     "output_type": "display_data"
    }
   ],
   "execution_count": null
  },
  {
   "metadata": {
    "ExecuteTime": {
     "end_time": "2024-11-23T18:03:20.572446Z",
     "start_time": "2024-11-23T18:02:32.525206Z"
    }
   },
   "cell_type": "code",
   "source": "get_balanced_accuracy(model, tokenizer, val_critic_texts, val_critic_labels)",
   "id": "df42c676c2650f5e",
   "outputs": [
    {
     "data": {
      "text/plain": [
       "0.79"
      ]
     },
     "execution_count": 25,
     "metadata": {},
     "output_type": "execute_result"
    }
   ],
   "execution_count": 25
  },
  {
   "metadata": {
    "ExecuteTime": {
     "end_time": "2024-11-23T18:03:39.292999Z",
     "start_time": "2024-11-23T18:03:20.594592Z"
    }
   },
   "cell_type": "code",
   "source": "trainer.evaluate()",
   "id": "29b960156cb67976",
   "outputs": [
    {
     "data": {
      "text/plain": [
       "<IPython.core.display.HTML object>"
      ],
      "text/html": []
     },
     "metadata": {},
     "output_type": "display_data"
    },
    {
     "data": {
      "text/plain": [
       "{'eval_loss': 0.9255297780036926,\n",
       " 'eval_balanced_accuracy': 0.7872394704646327,\n",
       " 'eval_runtime': 18.6897,\n",
       " 'eval_samples_per_second': 126.647,\n",
       " 'eval_steps_per_second': 15.838,\n",
       " 'epoch': 8.0}"
      ]
     },
     "execution_count": 26,
     "metadata": {},
     "output_type": "execute_result"
    }
   ],
   "execution_count": 26
  },
  {
   "metadata": {
    "ExecuteTime": {
     "end_time": "2024-11-23T18:03:59.186323Z",
     "start_time": "2024-11-23T18:03:39.488314Z"
    }
   },
   "cell_type": "code",
   "source": "plot_confusion_matrix(trainer,val_critic_dataset)",
   "id": "8b63c58babb57a90",
   "outputs": [
    {
     "data": {
      "text/plain": [
       "<Figure size 640x480 with 2 Axes>"
      ],
      "image/png": "[encoded data removed]"
     },
     "metadata": {},
     "output_type": "display_data"
    },
    {
     "data": {
      "text/plain": [
       "array([[0.68131868, 0.31868132],\n",
       "       [0.10683974, 0.89316026]])"
      ]
     },
     "execution_count": 27,
     "metadata": {},
     "output_type": "execute_result"
    }
   ],
   "execution_count": 27
  },
  {
   "metadata": {},
   "cell_type": "markdown",
   "source": "# Teste",
   "id": "1485884af37e1eef"
  },
  {
   "metadata": {
    "ExecuteTime": {
     "end_time": "2024-11-23T18:04:44.606112Z",
     "start_time": "2024-11-23T18:03:59.362080Z"
    }
   },
   "cell_type": "code",
   "source": [
    "test_critic_texts = test_critic[\"Review\"].tolist()\n",
    "test_critic_labels = test_critic[\"Sentiment\"].tolist()\n",
    "get_balanced_accuracy(model, tokenizer, test_critic_texts, test_critic_labels)"
   ],
   "id": "910e80c4f7cc8101",
   "outputs": [
    {
     "data": {
      "text/plain": [
       "0.77"
      ]
     },
     "execution_count": 28,
     "metadata": {},
     "output_type": "execute_result"
    }
   ],
   "execution_count": 28
  },
  {
   "metadata": {
    "ExecuteTime": {
     "end_time": "2024-11-23T18:05:09.504564Z",
     "start_time": "2024-11-23T18:04:44.638787Z"
    }
   },
   "cell_type": "code",
   "source": [
    "test_encodings = tokenizer(list(test_critic['Review']), truncation=True, padding=True, max_length=128)\n",
    "test_critic_dataset = Dataset.from_dict({\n",
    "    'input_ids': test_encodings['input_ids'],\n",
    "    'attention_mask': test_encodings['attention_mask'],\n",
    "    'labels': list(test_critic['Sentiment'])\n",
    "})\n",
    "plot_confusion_matrix(trainer,test_critic_dataset)"
   ],
   "id": "f8d76325308021bb",
   "outputs": [
    {
     "data": {
      "text/plain": [
       "<IPython.core.display.HTML object>"
      ],
      "text/html": []
     },
     "metadata": {},
     "output_type": "display_data"
    },
    {
     "data": {
      "text/plain": [
       "<Figure size 640x480 with 2 Axes>"
      ],
      "image/png": "[encoded data removed]"
     },
     "metadata": {},
     "output_type": "display_data"
    },
    {
     "data": {
      "text/plain": [
       "array([[0.65478842, 0.34521158],\n",
       "       [0.11713147, 0.88286853]])"
      ]
     },
     "execution_count": 29,
     "metadata": {},
     "output_type": "execute_result"
    }
   ],
   "execution_count": 29
  }
 ],
 "metadata": {
  "kernelspec": {
   "display_name": "Python 3",
   "language": "python",
   "name": "python3"
  },
  "language_info": {
   "codemirror_mode": {
    "name": "ipython",
    "version": 2
   },
   "file_extension": ".py",
   "mimetype": "text/x-python",
   "name": "python",
   "nbconvert_exporter": "python",
   "pygments_lexer": "ipython2",
   "version": "2.7.6"
  }
 },
 "nbformat": 4,
 "nbformat_minor": 5
}
