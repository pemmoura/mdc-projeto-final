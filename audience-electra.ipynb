{
 "cells": [
  {
   "metadata": {
    "id": "cc52547f1f6d38f3"
   },
   "cell_type": "markdown",
   "source": [
    "# MDC 018 - Projeto Final"
   ],
   "id": "cc52547f1f6d38f3"
  },
  {
   "metadata": {
    "id": "4ae38f923387d40",
    "ExecuteTime": {
     "end_time": "2024-11-25T13:13:25.785454Z",
     "start_time": "2024-11-25T13:13:25.781316Z"
    }
   },
   "cell_type": "code",
   "source": [
    "model_name = \"google/electra-base-discriminator\"\n",
    "num_labels = 10\n",
    "output_dir = \"./results_audience_electra\""
   ],
   "id": "4ae38f923387d40",
   "outputs": [],
   "execution_count": 1
  },
  {
   "cell_type": "code",
   "source": [
    "import pandas as pd\n",
    "\n",
    "# Carregando os dados de treinamento e teste\n",
    "train_audience = pd.read_csv(\"train_audience.csv\")\n",
    "\n",
    "test_audience = pd.read_csv(\"test_audience.csv\")"
   ],
   "metadata": {
    "id": "agLG--HlVSDK",
    "ExecuteTime": {
     "end_time": "2024-11-25T13:13:26.515387Z",
     "start_time": "2024-11-25T13:13:25.788458Z"
    }
   },
   "id": "agLG--HlVSDK",
   "outputs": [],
   "execution_count": 2
  },
  {
   "metadata": {
    "colab": {
     "base_uri": "https://localhost:8080/",
     "height": 424
    },
    "id": "7370aaab1ab5dd4a",
    "outputId": "6ee5b405-36df-4d9f-8e2d-037b1efbc55b",
    "ExecuteTime": {
     "end_time": "2024-11-25T13:13:26.741881Z",
     "start_time": "2024-11-25T13:13:26.730063Z"
    }
   },
   "cell_type": "code",
   "source": [
    "train_audience"
   ],
   "id": "7370aaab1ab5dd4a",
   "outputs": [
    {
     "data": {
      "text/plain": [
       "                        Show  Rating  \\\n",
       "0            Game of Thrones     0.5   \n",
       "1      The Book of Boba Fett     2.5   \n",
       "2                       Safe     3.0   \n",
       "3              Midnight Mass     2.0   \n",
       "4         Star Wars: Visions     4.5   \n",
       "...                      ...     ...   \n",
       "52411                  Ozark     1.0   \n",
       "52412        Game of Thrones     1.5   \n",
       "52413        Attack on Titan     5.0   \n",
       "52414               Watchmen     0.5   \n",
       "52415             Peacemaker     5.0   \n",
       "\n",
       "                                                  Review  \n",
       "0      Lost all guidance without the book. Somehow ru...  \n",
       "1      It felt mostly bizzare. Boba fett himself seem...  \n",
       "2      It started well and got me hooked, but it gets...  \n",
       "3      Here's what you get in this series: Long-winde...  \n",
       "4      I am a big fan of star wars and anime, so I re...  \n",
       "...                                                  ...  \n",
       "52411  Don't watch the last season- anticlimactic \\nV...  \n",
       "52412  I wanted to give this higher for the excellent...  \n",
       "52413  This season will make attack on titan, a maste...  \n",
       "52414  Looks terrible. Story is about some sort of ra...  \n",
       "52415  Fun, exciting, well written and enjoyable are ...  \n",
       "\n",
       "[52416 rows x 3 columns]"
      ],
      "text/html": [
       "<div>\n",
       "<style scoped>\n",
       "    .dataframe tbody tr th:only-of-type {\n",
       "        vertical-align: middle;\n",
       "    }\n",
       "\n",
       "    .dataframe tbody tr th {\n",
       "        vertical-align: top;\n",
       "    }\n",
       "\n",
       "    .dataframe thead th {\n",
       "        text-align: right;\n",
       "    }\n",
       "</style>\n",
       "<table border=\"1\" class=\"dataframe\">\n",
       "  <thead>\n",
       "    <tr style=\"text-align: right;\">\n",
       "      <th></th>\n",
       "      <th>Show</th>\n",
       "      <th>Rating</th>\n",
       "      <th>Review</th>\n",
       "    </tr>\n",
       "  </thead>\n",
       "  <tbody>\n",
       "    <tr>\n",
       "      <th>0</th>\n",
       "      <td>Game of Thrones</td>\n",
       "      <td>0.5</td>\n",
       "      <td>Lost all guidance without the book. Somehow ru...</td>\n",
       "    </tr>\n",
       "    <tr>\n",
       "      <th>1</th>\n",
       "      <td>The Book of Boba Fett</td>\n",
       "      <td>2.5</td>\n",
       "      <td>It felt mostly bizzare. Boba fett himself seem...</td>\n",
       "    </tr>\n",
       "    <tr>\n",
       "      <th>2</th>\n",
       "      <td>Safe</td>\n",
       "      <td>3.0</td>\n",
       "      <td>It started well and got me hooked, but it gets...</td>\n",
       "    </tr>\n",
       "    <tr>\n",
       "      <th>3</th>\n",
       "      <td>Midnight Mass</td>\n",
       "      <td>2.0</td>\n",
       "      <td>Here's what you get in this series: Long-winde...</td>\n",
       "    </tr>\n",
       "    <tr>\n",
       "      <th>4</th>\n",
       "      <td>Star Wars: Visions</td>\n",
       "      <td>4.5</td>\n",
       "      <td>I am a big fan of star wars and anime, so I re...</td>\n",
       "    </tr>\n",
       "    <tr>\n",
       "      <th>...</th>\n",
       "      <td>...</td>\n",
       "      <td>...</td>\n",
       "      <td>...</td>\n",
       "    </tr>\n",
       "    <tr>\n",
       "      <th>52411</th>\n",
       "      <td>Ozark</td>\n",
       "      <td>1.0</td>\n",
       "      <td>Don't watch the last season- anticlimactic \\nV...</td>\n",
       "    </tr>\n",
       "    <tr>\n",
       "      <th>52412</th>\n",
       "      <td>Game of Thrones</td>\n",
       "      <td>1.5</td>\n",
       "      <td>I wanted to give this higher for the excellent...</td>\n",
       "    </tr>\n",
       "    <tr>\n",
       "      <th>52413</th>\n",
       "      <td>Attack on Titan</td>\n",
       "      <td>5.0</td>\n",
       "      <td>This season will make attack on titan, a maste...</td>\n",
       "    </tr>\n",
       "    <tr>\n",
       "      <th>52414</th>\n",
       "      <td>Watchmen</td>\n",
       "      <td>0.5</td>\n",
       "      <td>Looks terrible. Story is about some sort of ra...</td>\n",
       "    </tr>\n",
       "    <tr>\n",
       "      <th>52415</th>\n",
       "      <td>Peacemaker</td>\n",
       "      <td>5.0</td>\n",
       "      <td>Fun, exciting, well written and enjoyable are ...</td>\n",
       "    </tr>\n",
       "  </tbody>\n",
       "</table>\n",
       "<p>52416 rows × 3 columns</p>\n",
       "</div>"
      ]
     },
     "execution_count": 3,
     "metadata": {},
     "output_type": "execute_result"
    }
   ],
   "execution_count": 3
  },
  {
   "metadata": {
    "id": "bc9879487f743c1",
    "ExecuteTime": {
     "end_time": "2024-11-25T13:13:26.756325Z",
     "start_time": "2024-11-25T13:13:26.751791Z"
    }
   },
   "cell_type": "code",
   "source": [
    "train_audience['Rating'] = (train_audience['Rating']*2).astype(int)-1"
   ],
   "id": "bc9879487f743c1",
   "outputs": [],
   "execution_count": 4
  },
  {
   "metadata": {
    "id": "8770f4295929a95f"
   },
   "cell_type": "markdown",
   "source": [
    "Verificação de balanceamento:"
   ],
   "id": "8770f4295929a95f"
  },
  {
   "metadata": {
    "colab": {
     "base_uri": "https://localhost:8080/",
     "height": 429
    },
    "id": "6bc9119ecfa76142",
    "outputId": "51421608-86ee-4453-cdea-71203586d95f",
    "ExecuteTime": {
     "end_time": "2024-11-25T13:13:26.788850Z",
     "start_time": "2024-11-25T13:13:26.782938Z"
    }
   },
   "cell_type": "code",
   "source": [
    "train_audience['Rating'].value_counts()"
   ],
   "id": "6bc9119ecfa76142",
   "outputs": [
    {
     "data": {
      "text/plain": [
       "Rating\n",
       "9    23642\n",
       "0     7016\n",
       "7     3869\n",
       "8     3792\n",
       "1     3309\n",
       "3     2690\n",
       "6     2340\n",
       "5     2141\n",
       "2     2040\n",
       "4     1577\n",
       "Name: count, dtype: int64"
      ]
     },
     "execution_count": 5,
     "metadata": {},
     "output_type": "execute_result"
    }
   ],
   "execution_count": 5
  },
  {
   "metadata": {
    "id": "6f721a20f344e0e7"
   },
   "cell_type": "markdown",
   "source": [
    "Ambos conjuntos estão fortemente desbalanceados."
   ],
   "id": "6f721a20f344e0e7"
  },
  {
   "metadata": {
    "id": "bf1b39a390a7896a"
   },
   "cell_type": "markdown",
   "source": [
    "# Predição de Ratingo\n",
    "\n",
    "Conjunto train_critic"
   ],
   "id": "bf1b39a390a7896a"
  },
  {
   "metadata": {
    "colab": {
     "base_uri": "https://localhost:8080/",
     "height": 429
    },
    "id": "ce428f576e08bf33",
    "outputId": "a6eea769-e9d5-4ad5-ca5f-3925778f8b61",
    "ExecuteTime": {
     "end_time": "2024-11-25T13:13:27.744829Z",
     "start_time": "2024-11-25T13:13:26.843029Z"
    }
   },
   "cell_type": "code",
   "source": [
    "# Separação entre conjunto de treino e validação\n",
    "from sklearn.model_selection import train_test_split\n",
    "\n",
    "# Remove NAs\n",
    "train_audience.dropna(subset=['Review'], inplace=True)\n",
    "\n",
    "(train_audience_df, val_audience_df) = train_test_split(train_audience, test_size=0.2)\n",
    "train_audience_df['Rating'].value_counts()"
   ],
   "id": "ce428f576e08bf33",
   "outputs": [
    {
     "data": {
      "text/plain": [
       "Rating\n",
       "9    18867\n",
       "0     5623\n",
       "7     3084\n",
       "8     3061\n",
       "1     2648\n",
       "3     2152\n",
       "6     1872\n",
       "5     1718\n",
       "2     1649\n",
       "4     1258\n",
       "Name: count, dtype: int64"
      ]
     },
     "execution_count": 6,
     "metadata": {},
     "output_type": "execute_result"
    }
   ],
   "execution_count": 6
  },
  {
   "metadata": {
    "colab": {
     "base_uri": "https://localhost:8080/"
    },
    "id": "b8ed964bb5a5cffc",
    "outputId": "19454ec8-2a5c-477e-97c2-dad6af9857c0",
    "ExecuteTime": {
     "end_time": "2024-11-25T13:13:27.808402Z",
     "start_time": "2024-11-25T13:13:27.799147Z"
    }
   },
   "cell_type": "code",
   "source": [
    "from sklearn.utils.class_weight import compute_class_weight\n",
    "import numpy as np\n",
    "\n",
    "# Calcular os pesos para as classes\n",
    "classes = train_audience['Rating'].unique()\n",
    "weights = compute_class_weight(\n",
    "    class_weight='balanced',\n",
    "    classes=np.array(classes),\n",
    "    y=train_audience['Rating']\n",
    ")\n",
    "\n",
    "class_weights = dict(zip(classes, weights))\n",
    "class_weights"
   ],
   "id": "b8ed964bb5a5cffc",
   "outputs": [
    {
     "data": {
      "text/plain": [
       "{np.int64(0): np.float64(0.7470923603192703),\n",
       " np.int64(4): np.float64(3.3237793278376664),\n",
       " np.int64(5): np.float64(2.4482017748715554),\n",
       " np.int64(3): np.float64(1.9485501858736058),\n",
       " np.int64(8): np.float64(1.3822784810126583),\n",
       " np.int64(9): np.float64(0.2217071313763641),\n",
       " np.int64(6): np.float64(2.24),\n",
       " np.int64(1): np.float64(1.584043517679057),\n",
       " np.int64(7): np.float64(1.3547686740759886),\n",
       " np.int64(2): np.float64(2.5694117647058823)}"
      ]
     },
     "execution_count": 7,
     "metadata": {},
     "output_type": "execute_result"
    }
   ],
   "execution_count": 7
  },
  {
   "metadata": {
    "id": "354789f5fd35f1a7",
    "ExecuteTime": {
     "end_time": "2024-11-25T13:13:27.892502Z",
     "start_time": "2024-11-25T13:13:27.889154Z"
    }
   },
   "cell_type": "code",
   "source": [
    "val_audience_texts = val_audience_df[\"Review\"].tolist()\n",
    "val_audience_labels = val_audience_df[\"Rating\"].tolist()"
   ],
   "id": "354789f5fd35f1a7",
   "outputs": [],
   "execution_count": 8
  },
  {
   "metadata": {
    "id": "e82dd0f551e04a3f",
    "ExecuteTime": {
     "end_time": "2024-11-26T18:08:46.450575Z",
     "start_time": "2024-11-26T18:08:46.419941Z"
    }
   },
   "cell_type": "code",
   "source": [
    "from sklearn.metrics import balanced_accuracy_score\n",
    "from transformers import pipeline\n",
    "import matplotlib.pyplot as plt\n",
    "\n",
    "def get_balanced_accuracy(model, tokenizer, texts, labels):\n",
    "    # Cria o pipeline com truncamento ativado\n",
    "    classifier = pipeline(\n",
    "        \"text-classification\",\n",
    "        model=model,\n",
    "        tokenizer=tokenizer,\n",
    "        truncation=True,  # Trunca textos longos automaticamente\n",
    "        max_length=512    # Garante que o comprimento não exceda o limite do modelo\n",
    "    )\n",
    "\n",
    "    predictions = []\n",
    "    for text in texts:\n",
    "        result = classifier(text)\n",
    "        # Extrai o rótulo e converte para inteiro\n",
    "        label = int(result[0][\"label\"].split(\"_\")[-1])\n",
    "        predictions.append(label)\n",
    "\n",
    "    # Calcula a acurácia balanceada\n",
    "    return round(float(balanced_accuracy_score(labels, predictions)), 2)\n",
    "\n",
    "from sklearn.metrics import confusion_matrix, ConfusionMatrixDisplay\n",
    "\n",
    "\n",
    "def plot_confusion_matrix(trainer, dataset, label_names=None, cmap=\"Blues\"):\n",
    "    predictions_output = trainer.predict(dataset)\n",
    "    logits = predictions_output.predictions\n",
    "    labels = predictions_output.label_ids\n",
    "    predictions = logits.argmax(axis=-1)\n",
    "    cm = confusion_matrix(labels, predictions,  normalize='true')\n",
    "    disp = ConfusionMatrixDisplay(confusion_matrix=cm, display_labels=label_names)\n",
    "    disp.plot(cmap=cmap, values_format=\".2f\")\n",
    "    plt.show()\n",
    "    return cm\n",
    "\n",
    "def mae(y_true, trainer, dataset):\n",
    "    predictions_output = trainer.predict(dataset)\n",
    "    logits = predictions_output.predictions\n",
    "    predictions = logits.argmax(axis=-1)\n",
    "    y_true, predictions = np.array(y_true), np.array(predictions)\n",
    "    return np.mean(np.abs(y_true - predictions))"
   ],
   "id": "e82dd0f551e04a3f",
   "outputs": [],
   "execution_count": 24
  },
  {
   "metadata": {
    "colab": {
     "base_uri": "https://localhost:8080/"
    },
    "id": "819b4a2c2da9f91b",
    "outputId": "3f3dbae2-5b3c-433b-c2fa-ab590b2be850",
    "ExecuteTime": {
     "end_time": "2024-11-25T13:13:35.025172Z",
     "start_time": "2024-11-25T13:13:33.214420Z"
    }
   },
   "cell_type": "code",
   "source": [
    "from transformers import ElectraForSequenceClassification, ElectraTokenizerFast, Trainer, TrainingArguments\n",
    "from sklearn.utils.class_weight import compute_class_weight\n",
    "import torch\n",
    "import numpy as np\n",
    "from datasets import Dataset\n",
    "from transformers import Trainer, TrainingArguments\n",
    "\n",
    "model = ElectraForSequenceClassification.from_pretrained(model_name, num_labels=num_labels)\n",
    "tokenizer = ElectraTokenizerFast.from_pretrained(model_name)\n",
    "# Supondo que 'labels' contenha todos os rótulos do conjunto de treinamento\n",
    "labels = train_audience['Rating']  # Altere para acessar os rótulos no seu dataset"
   ],
   "id": "819b4a2c2da9f91b",
   "outputs": [
    {
     "name": "stderr",
     "output_type": "stream",
     "text": [
      "Some weights of ElectraForSequenceClassification were not initialized from the model checkpoint at google/electra-base-discriminator and are newly initialized: ['classifier.dense.bias', 'classifier.dense.weight', 'classifier.out_proj.bias', 'classifier.out_proj.weight']\n",
      "You should probably TRAIN this model on a down-stream task to be able to use it for predictions and inference.\n"
     ]
    }
   ],
   "execution_count": 10
  },
  {
   "metadata": {
    "id": "8796e1cbb4c7cb39",
    "ExecuteTime": {
     "end_time": "2024-11-25T13:13:37.099567Z",
     "start_time": "2024-11-25T13:13:35.052475Z"
    }
   },
   "cell_type": "code",
   "source": [
    "class_weights = compute_class_weight(class_weight=\"balanced\", classes=np.unique(labels), y=labels)\n",
    "class_weights = torch.tensor(class_weights, dtype=torch.float)  # Converta para um tensor PyTorch\n",
    "import torch.nn as nn\n",
    "\n",
    "#tokeniza os datasets\n",
    "train_encodings = tokenizer(train_audience_df['Review'].tolist(), truncation=True, padding=True, max_length=128)\n",
    "val_encodings = tokenizer(list(val_audience_df['Review']), truncation=True, padding=True, max_length=128)"
   ],
   "id": "8796e1cbb4c7cb39",
   "outputs": [],
   "execution_count": 11
  },
  {
   "metadata": {
    "id": "97af58ea1357abe7",
    "ExecuteTime": {
     "end_time": "2024-11-25T13:13:38.149554Z",
     "start_time": "2024-11-25T13:13:38.144767Z"
    }
   },
   "cell_type": "code",
   "source": [
    "class CustomTrainer(Trainer):\n",
    "    def __init__(self, class_weights, *args, **kwargs):\n",
    "        super().__init__(*args, **kwargs)\n",
    "        self.class_weights = class_weights\n",
    "\n",
    "    def compute_loss(self, model, inputs, return_outputs=False, **kwargs):\n",
    "        labels = inputs.pop(\"labels\")\n",
    "        outputs = model(**inputs)\n",
    "        logits = outputs.logits\n",
    "        # Define a função de perda com os pesos de classe\n",
    "        loss_fct = nn.CrossEntropyLoss(weight=self.class_weights.to(logits.device))\n",
    "        loss = loss_fct(logits, labels)\n",
    "        return (loss, outputs) if return_outputs else loss"
   ],
   "id": "97af58ea1357abe7",
   "outputs": [],
   "execution_count": 12
  },
  {
   "metadata": {
    "colab": {
     "base_uri": "https://localhost:8080/",
     "height": 49,
     "referenced_widgets": [
      "367ec3c2231c4a5787dbaac05b9bcf11",
      "d2e4cbe5c17e4ba0a0af448739885856",
      "f42e294a264441159c4952d7fd600cad",
      "befad10803b7498f9b89942ebb72c404",
      "a00f02759985478187e4a36ca29af5dd",
      "fad59df1a646412d835c54afa0b8a8bc",
      "aadbbcca7643468b8afe4176ab318ae9",
      "3d14d9ed150b4477acc110a5c9b3d0f6",
      "e81eefdac5224ed6a604baa5fba32d3e",
      "6b85bc726ffe452abf3653dc106451d1",
      "2756de398a7347a7b799aa37a1cb6991"
     ]
    },
    "id": "8eaa914b00217cb",
    "outputId": "319b16ca-996d-4073-b348-45efa3570fbe",
    "ExecuteTime": {
     "end_time": "2024-11-25T13:13:40.320676Z",
     "start_time": "2024-11-25T13:13:39.236487Z"
    }
   },
   "cell_type": "code",
   "source": [
    "import evaluate\n",
    "from sklearn.metrics import balanced_accuracy_score\n",
    "\n",
    "metric = evaluate.load(\"accuracy\")\n",
    "\n",
    "def compute_metrics(eval_pred):\n",
    "    logits, labels = eval_pred\n",
    "    predictions = np.argmax(logits, axis=-1)\n",
    "    accuracy = metric.compute(predictions=predictions, references=labels)\n",
    "    return accuracy\n",
    "\n",
    "def compute_metrics_balanced(eval_pred):\n",
    "    logits, labels = eval_pred\n",
    "    predictions = np.argmax(logits, axis=-1)\n",
    "\n",
    "    # Calcular acurácia balanceada\n",
    "    balanced_acc = balanced_accuracy_score(labels, predictions)\n",
    "\n",
    "    return {\"balanced_accuracy\": balanced_acc}"
   ],
   "id": "8eaa914b00217cb",
   "outputs": [],
   "execution_count": 13
  },
  {
   "metadata": {
    "colab": {
     "base_uri": "https://localhost:8080/",
     "height": 475
    },
    "id": "8676efdef42015b7",
    "outputId": "b8ed349d-7e60-446f-fda6-d8c369328571",
    "ExecuteTime": {
     "end_time": "2024-11-25T23:16:53.481261Z",
     "start_time": "2024-11-25T13:13:41.433325Z"
    }
   },
   "cell_type": "code",
   "source": [
    "training_args = TrainingArguments(\n",
    "    output_dir=output_dir,\n",
    "    learning_rate=5e-5,\n",
    "    num_train_epochs=3,\n",
    "    weight_decay=0.01,\n",
    "    logging_dir=\"./logs\",\n",
    "    eval_strategy=\"epoch\",\n",
    "    load_best_model_at_end=True,               # Carregar o melhor modelo ao final\n",
    "    metric_for_best_model=\"balanced_accuracy\", # Métrica para determinar o melhor modelo\n",
    "    save_strategy=\"epoch\",                     # Salvar checkpoints no final de cada época\n",
    "    save_total_limit=1,                        # Limitar os checkpoints a 1 para economizar espaço\n",
    "    greater_is_better=True                     # Se maior métrica significa melhor modelo\n",
    ")\n",
    "\n",
    "\n",
    "train_audience_dataset = Dataset.from_dict({\n",
    "    'input_ids': train_encodings['input_ids'],\n",
    "    'attention_mask': train_encodings['attention_mask'],\n",
    "    'labels': list(train_audience_df['Rating'])\n",
    "})\n",
    "\n",
    "val_audience_dataset = Dataset.from_dict({\n",
    "    'input_ids': val_encodings['input_ids'],\n",
    "    'attention_mask': val_encodings['attention_mask'],\n",
    "    'labels': list(val_audience_df['Rating'])\n",
    "})\n",
    "\n",
    "trainer = CustomTrainer(\n",
    "    model=model,\n",
    "    args=training_args,\n",
    "    train_dataset=train_audience_dataset,\n",
    "    eval_dataset=val_audience_dataset,\n",
    "    class_weights=class_weights,\n",
    "    compute_metrics=compute_metrics_balanced\n",
    ")\n",
    "trainer.train()"
   ],
   "id": "8676efdef42015b7",
   "outputs": [
    {
     "data": {
      "text/plain": [
       "<IPython.core.display.HTML object>"
      ],
      "text/html": [
       "\n",
       "    <div>\n",
       "      \n",
       "      <progress value='15726' max='15726' style='width:300px; height:20px; vertical-align: middle;'></progress>\n",
       "      [15726/15726 10:03:08, Epoch 3/3]\n",
       "    </div>\n",
       "    <table border=\"1\" class=\"dataframe\">\n",
       "  <thead>\n",
       " <tr style=\"text-align: left;\">\n",
       "      <th>Epoch</th>\n",
       "      <th>Training Loss</th>\n",
       "      <th>Validation Loss</th>\n",
       "      <th>Balanced Accuracy</th>\n",
       "    </tr>\n",
       "  </thead>\n",
       "  <tbody>\n",
       "    <tr>\n",
       "      <td>1</td>\n",
       "      <td>1.681900</td>\n",
       "      <td>1.634101</td>\n",
       "      <td>0.317714</td>\n",
       "    </tr>\n",
       "    <tr>\n",
       "      <td>2</td>\n",
       "      <td>1.540500</td>\n",
       "      <td>1.670616</td>\n",
       "      <td>0.325999</td>\n",
       "    </tr>\n",
       "    <tr>\n",
       "      <td>3</td>\n",
       "      <td>1.271400</td>\n",
       "      <td>1.775416</td>\n",
       "      <td>0.336380</td>\n",
       "    </tr>\n",
       "  </tbody>\n",
       "</table><p>"
      ]
     },
     "metadata": {},
     "output_type": "display_data"
    },
    {
     "data": {
      "text/plain": [
       "TrainOutput(global_step=15726, training_loss=1.5405252110513887, metrics={'train_runtime': 36190.3699, 'train_samples_per_second': 3.476, 'train_steps_per_second': 0.435, 'total_flos': 8275173932906496.0, 'train_loss': 1.5405252110513887, 'epoch': 3.0})"
      ]
     },
     "execution_count": 14,
     "metadata": {},
     "output_type": "execute_result"
    }
   ],
   "execution_count": 14
  },
  {
   "metadata": {
    "id": "df42c676c2650f5e",
    "ExecuteTime": {
     "end_time": "2024-11-25T23:27:57.893432Z",
     "start_time": "2024-11-25T23:16:55.738292Z"
    }
   },
   "cell_type": "code",
   "source": [
    "get_balanced_accuracy(model, tokenizer, val_audience_texts, val_audience_labels)"
   ],
   "id": "df42c676c2650f5e",
   "outputs": [
    {
     "data": {
      "text/plain": [
       "0.34"
      ]
     },
     "execution_count": 15,
     "metadata": {},
     "output_type": "execute_result"
    }
   ],
   "execution_count": 15
  },
  {
   "metadata": {
    "id": "29b960156cb67976",
    "ExecuteTime": {
     "end_time": "2024-11-25T23:39:41.142418Z",
     "start_time": "2024-11-25T23:27:58.714928Z"
    }
   },
   "cell_type": "code",
   "source": "trainer.evaluate()",
   "id": "29b960156cb67976",
   "outputs": [
    {
     "data": {
      "text/plain": [
       "<IPython.core.display.HTML object>"
      ],
      "text/html": []
     },
     "metadata": {},
     "output_type": "display_data"
    },
    {
     "data": {
      "text/plain": [
       "{'eval_loss': 1.7754155397415161,\n",
       " 'eval_balanced_accuracy': 0.3363802845470644,\n",
       " 'eval_runtime': 702.4194,\n",
       " 'eval_samples_per_second': 14.926,\n",
       " 'eval_steps_per_second': 1.866,\n",
       " 'epoch': 3.0}"
      ]
     },
     "execution_count": 16,
     "metadata": {},
     "output_type": "execute_result"
    }
   ],
   "execution_count": 16
  },
  {
   "metadata": {
    "id": "8b63c58babb57a90",
    "ExecuteTime": {
     "end_time": "2024-11-26T11:58:56.201610Z",
     "start_time": "2024-11-26T11:48:50.874595Z"
    }
   },
   "cell_type": "code",
   "source": "plot_confusion_matrix(trainer,val_audience_dataset)",
   "id": "8b63c58babb57a90",
   "outputs": [
    {
     "data": {
      "text/plain": [
       "<Figure size 640x480 with 2 Axes>"
      ],
      "image/png": "[encoded data removed]"
     },
     "metadata": {},
     "output_type": "display_data"
    },
    {
     "data": {
      "text/plain": [
       "array([[5.23330940e-01, 2.03158650e-01, 1.29935391e-01, 7.68126346e-02,\n",
       "        1.57932520e-02, 2.01005025e-02, 2.87150036e-03, 5.74300072e-03,\n",
       "        0.00000000e+00, 2.22541278e-02],\n",
       "       [3.61573374e-01, 2.04236006e-01, 2.14826021e-01, 1.33131619e-01,\n",
       "        3.63086233e-02, 1.81543116e-02, 6.05143722e-03, 4.53857791e-03,\n",
       "        4.53857791e-03, 1.66414523e-02],\n",
       "       [2.17391304e-01, 1.86700767e-01, 2.53196931e-01, 1.91815857e-01,\n",
       "        8.69565217e-02, 4.09207161e-02, 5.11508951e-03, 5.11508951e-03,\n",
       "        0.00000000e+00, 1.27877238e-02],\n",
       "       [1.24535316e-01, 9.85130112e-02, 2.23048327e-01, 2.41635688e-01,\n",
       "        1.52416357e-01, 1.00371747e-01, 2.41635688e-02, 7.43494424e-03,\n",
       "        3.71747212e-03, 2.41635688e-02],\n",
       "       [5.64263323e-02, 7.21003135e-02, 1.09717868e-01, 2.69592476e-01,\n",
       "        1.81818182e-01, 1.97492163e-01, 5.01567398e-02, 2.50783699e-02,\n",
       "        6.26959248e-03, 3.13479624e-02],\n",
       "       [2.36406619e-02, 2.60047281e-02, 6.85579196e-02, 1.51300236e-01,\n",
       "        1.98581560e-01, 2.48226950e-01, 1.74940898e-01, 6.61938534e-02,\n",
       "        1.89125296e-02, 2.36406619e-02],\n",
       "       [1.28205128e-02, 2.13675214e-03, 1.28205128e-02, 3.63247863e-02,\n",
       "        5.34188034e-02, 1.70940171e-01, 2.99145299e-01, 2.71367521e-01,\n",
       "        8.54700855e-02, 5.55555556e-02],\n",
       "       [1.01910828e-02, 2.54777070e-03, 6.36942675e-03, 8.91719745e-03,\n",
       "        1.14649682e-02, 4.58598726e-02, 1.32484076e-01, 3.66878981e-01,\n",
       "        2.86624204e-01, 1.28662420e-01],\n",
       "       [1.09439124e-02, 1.36798906e-03, 1.36798906e-03, 6.83994528e-03,\n",
       "        2.73597811e-03, 2.59917921e-02, 4.92476060e-02, 2.22982216e-01,\n",
       "        3.81668947e-01, 2.96853625e-01],\n",
       "       [1.46596859e-02, 2.09424084e-04, 1.04712042e-03, 2.30366492e-03,\n",
       "        4.18848168e-04, 7.74869110e-03, 8.16753927e-03, 7.01570681e-02,\n",
       "        2.31623037e-01, 6.63664921e-01]])"
      ]
     },
     "execution_count": 22,
     "metadata": {},
     "output_type": "execute_result"
    }
   ],
   "execution_count": 22
  },
  {
   "metadata": {
    "ExecuteTime": {
     "end_time": "2024-11-26T18:20:40.504311Z",
     "start_time": "2024-11-26T18:09:46.383984Z"
    }
   },
   "cell_type": "code",
   "source": "mae(y_true=val_audience_labels,      trainer=trainer, dataset=val_audience_dataset)",
   "id": "7a5d7ba5c48d8027",
   "outputs": [
    {
     "data": {
      "text/plain": [
       "<IPython.core.display.HTML object>"
      ],
      "text/html": []
     },
     "metadata": {},
     "output_type": "display_data"
    },
    {
     "data": {
      "text/plain": [
       "np.float64(0.8943151468904998)"
      ]
     },
     "execution_count": 27,
     "metadata": {},
     "output_type": "execute_result"
    }
   ],
   "execution_count": 27
  },
  {
   "metadata": {
    "id": "1485884af37e1eef"
   },
   "cell_type": "markdown",
   "source": [
    "# Teste"
   ],
   "id": "1485884af37e1eef"
  },
  {
   "metadata": {
    "id": "910e80c4f7cc8101",
    "ExecuteTime": {
     "end_time": "2024-11-26T00:05:27.390996Z",
     "start_time": "2024-11-25T23:51:22.374072Z"
    }
   },
   "cell_type": "code",
   "source": [
    "test_audience['Rating'] = (test_audience['Rating']*2).astype(int)-1\n",
    "test_audience_texts = test_audience[\"Review\"].tolist()\n",
    "test_audience_labels = test_audience[\"Rating\"].tolist()\n",
    "get_balanced_accuracy(model, tokenizer, test_audience_texts, test_audience_labels)"
   ],
   "id": "910e80c4f7cc8101",
   "outputs": [
    {
     "data": {
      "text/plain": [
       "0.34"
      ]
     },
     "execution_count": 18,
     "metadata": {},
     "output_type": "execute_result"
    }
   ],
   "execution_count": 18
  },
  {
   "metadata": {
    "id": "f8d76325308021bb",
    "ExecuteTime": {
     "end_time": "2024-11-26T12:12:30.757933Z",
     "start_time": "2024-11-26T11:58:56.275183Z"
    }
   },
   "cell_type": "code",
   "source": [
    "test_encodings = tokenizer(list(test_audience['Review']), truncation=True, padding=True, max_length=128)\n",
    "test_audience_dataset = Dataset.from_dict({\n",
    "    'input_ids': test_encodings['input_ids'],\n",
    "    'attention_mask': test_encodings['attention_mask'],\n",
    "    'labels': list(test_audience['Rating'])\n",
    "})\n",
    "plot_confusion_matrix(trainer,test_audience_dataset)"
   ],
   "id": "f8d76325308021bb",
   "outputs": [
    {
     "data": {
      "text/plain": [
       "<IPython.core.display.HTML object>"
      ],
      "text/html": []
     },
     "metadata": {},
     "output_type": "display_data"
    },
    {
     "data": {
      "text/plain": [
       "<Figure size 640x480 with 2 Axes>"
      ],
      "image/png": "[encoded data removed]"
     },
     "metadata": {},
     "output_type": "display_data"
    },
    {
     "data": {
      "text/plain": [
       "array([[4.85825459e-01, 2.10672596e-01, 1.43968872e-01, 8.67148416e-02,\n",
       "        2.39021679e-02, 1.66759311e-02, 1.66759311e-03, 5.00277932e-03,\n",
       "        4.44691495e-03, 2.11228460e-02],\n",
       "       [3.45413364e-01, 2.12910532e-01, 2.09513024e-01, 1.27972820e-01,\n",
       "        4.75651189e-02, 2.94450736e-02, 5.66251416e-03, 6.79501699e-03,\n",
       "        1.13250283e-03, 1.35900340e-02],\n",
       "       [1.96652720e-01, 2.05020921e-01, 2.36401674e-01, 2.30125523e-01,\n",
       "        7.94979079e-02, 1.88284519e-02, 1.04602510e-02, 1.04602510e-02,\n",
       "        4.18410042e-03, 8.36820084e-03],\n",
       "       [1.46198830e-01, 1.14035088e-01, 2.29532164e-01, 2.50000000e-01,\n",
       "        1.11111111e-01, 9.21052632e-02, 2.19298246e-02, 1.31578947e-02,\n",
       "        2.92397661e-03, 1.90058480e-02],\n",
       "       [4.37017995e-02, 5.39845758e-02, 1.28534704e-01, 2.51928021e-01,\n",
       "        2.31362468e-01, 2.03084833e-01, 5.14138817e-02, 1.02827763e-02,\n",
       "        5.14138817e-03, 2.05655527e-02],\n",
       "       [3.90334572e-02, 2.04460967e-02, 6.50557621e-02, 1.54275093e-01,\n",
       "        1.95167286e-01, 2.54646840e-01, 1.65427509e-01, 6.69144981e-02,\n",
       "        2.41635688e-02, 1.48698885e-02],\n",
       "       [2.04402516e-02, 1.57232704e-03, 6.28930818e-03, 2.67295597e-02,\n",
       "        4.87421384e-02, 1.60377358e-01, 3.63207547e-01, 2.46855346e-01,\n",
       "        8.64779874e-02, 3.93081761e-02],\n",
       "       [1.77453027e-02, 2.08768267e-03, 1.04384134e-03, 1.04384134e-02,\n",
       "        1.35699374e-02, 5.74112735e-02, 1.44050104e-01, 3.48643006e-01,\n",
       "        2.65135699e-01, 1.39874739e-01],\n",
       "       [1.74537988e-02, 0.00000000e+00, 1.02669405e-03, 4.10677618e-03,\n",
       "        4.10677618e-03, 2.15605749e-02, 4.20944559e-02, 2.37166324e-01,\n",
       "        3.79876797e-01, 2.92607803e-01],\n",
       "       [1.68227541e-02, 3.46860909e-04, 1.04058273e-03, 2.25459591e-03,\n",
       "        3.46860909e-04, 7.63093999e-03, 1.16198404e-02, 6.97190427e-02,\n",
       "        2.39507458e-01, 6.50711065e-01]])"
      ]
     },
     "execution_count": 23,
     "metadata": {},
     "output_type": "execute_result"
    }
   ],
   "execution_count": 23
  },
  {
   "metadata": {
    "ExecuteTime": {
     "end_time": "2024-11-26T18:58:04.875651Z",
     "start_time": "2024-11-26T18:44:28.488392Z"
    }
   },
   "cell_type": "code",
   "source": "mae(y_true=test_audience_labels, trainer=trainer, dataset=test_audience_dataset)",
   "id": "dfcf267f32ae1a6e",
   "outputs": [
    {
     "data": {
      "text/plain": [
       "<IPython.core.display.HTML object>"
      ],
      "text/html": []
     },
     "metadata": {},
     "output_type": "display_data"
    },
    {
     "data": {
      "text/plain": [
       "np.float64(0.9292636398321251)"
      ]
     },
     "execution_count": 29,
     "metadata": {},
     "output_type": "execute_result"
    }
   ],
   "execution_count": 29
  }
 ],
 "metadata": {
  "kernelspec": {
   "display_name": "Python 3 (ipykernel)",
   "name": "python3",
   "language": "python"
  },
  "language_info": {
   "codemirror_mode": {
    "name": "ipython",
    "version": 2
   },
   "file_extension": ".py",
   "mimetype": "text/x-python",
   "name": "python",
   "nbconvert_exporter": "python",
   "pygments_lexer": "ipython2",
   "version": "2.7.6"
  },
  "colab": {
   "provenance": [],
   "gpuType": "T4"
  },
  "accelerator": "GPU",
  "widgets": {
   "application/vnd.jupyter.widget-state+json": {
    "367ec3c2231c4a5787dbaac05b9bcf11": {
     "model_module": "@jupyter-widgets/controls",
     "model_name": "HBoxModel",
     "model_module_version": "1.5.0",
     "state": {
      "_dom_classes": [],
      "_model_module": "@jupyter-widgets/controls",
      "_model_module_version": "1.5.0",
      "_model_name": "HBoxModel",
      "_view_count": null,
      "_view_module": "@jupyter-widgets/controls",
      "_view_module_version": "1.5.0",
      "_view_name": "HBoxView",
      "box_style": "",
      "children": [
       "IPY_MODEL_d2e4cbe5c17e4ba0a0af448739885856",
       "IPY_MODEL_f42e294a264441159c4952d7fd600cad",
       "IPY_MODEL_befad10803b7498f9b89942ebb72c404"
      ],
      "layout": "IPY_MODEL_a00f02759985478187e4a36ca29af5dd"
     }
    },
    "d2e4cbe5c17e4ba0a0af448739885856": {
     "model_module": "@jupyter-widgets/controls",
     "model_name": "HTMLModel",
     "model_module_version": "1.5.0",
     "state": {
      "_dom_classes": [],
      "_model_module": "@jupyter-widgets/controls",
      "_model_module_version": "1.5.0",
      "_model_name": "HTMLModel",
      "_view_count": null,
      "_view_module": "@jupyter-widgets/controls",
      "_view_module_version": "1.5.0",
      "_view_name": "HTMLView",
      "description": "",
      "description_tooltip": null,
      "layout": "IPY_MODEL_fad59df1a646412d835c54afa0b8a8bc",
      "placeholder": "​",
      "style": "IPY_MODEL_aadbbcca7643468b8afe4176ab318ae9",
      "value": "Downloading builder script: 100%"
     }
    },
    "f42e294a264441159c4952d7fd600cad": {
     "model_module": "@jupyter-widgets/controls",
     "model_name": "FloatProgressModel",
     "model_module_version": "1.5.0",
     "state": {
      "_dom_classes": [],
      "_model_module": "@jupyter-widgets/controls",
      "_model_module_version": "1.5.0",
      "_model_name": "FloatProgressModel",
      "_view_count": null,
      "_view_module": "@jupyter-widgets/controls",
      "_view_module_version": "1.5.0",
      "_view_name": "ProgressView",
      "bar_style": "success",
      "description": "",
      "description_tooltip": null,
      "layout": "IPY_MODEL_3d14d9ed150b4477acc110a5c9b3d0f6",
      "max": 4203,
      "min": 0,
      "orientation": "horizontal",
      "style": "IPY_MODEL_e81eefdac5224ed6a604baa5fba32d3e",
      "value": 4203
     }
    },
    "befad10803b7498f9b89942ebb72c404": {
     "model_module": "@jupyter-widgets/controls",
     "model_name": "HTMLModel",
     "model_module_version": "1.5.0",
     "state": {
      "_dom_classes": [],
      "_model_module": "@jupyter-widgets/controls",
      "_model_module_version": "1.5.0",
      "_model_name": "HTMLModel",
      "_view_count": null,
      "_view_module": "@jupyter-widgets/controls",
      "_view_module_version": "1.5.0",
      "_view_name": "HTMLView",
      "description": "",
      "description_tooltip": null,
      "layout": "IPY_MODEL_6b85bc726ffe452abf3653dc106451d1",
      "placeholder": "​",
      "style": "IPY_MODEL_2756de398a7347a7b799aa37a1cb6991",
      "value": " 4.20k/4.20k [00:00&lt;00:00, 139kB/s]"
     }
    },
    "a00f02759985478187e4a36ca29af5dd": {
     "model_module": "@jupyter-widgets/base",
     "model_name": "LayoutModel",
     "model_module_version": "1.2.0",
     "state": {
      "_model_module": "@jupyter-widgets/base",
      "_model_module_version": "1.2.0",
      "_model_name": "LayoutModel",
      "_view_count": null,
      "_view_module": "@jupyter-widgets/base",
      "_view_module_version": "1.2.0",
      "_view_name": "LayoutView",
      "align_content": null,
      "align_items": null,
      "align_self": null,
      "border": null,
      "bottom": null,
      "display": null,
      "flex": null,
      "flex_flow": null,
      "grid_area": null,
      "grid_auto_columns": null,
      "grid_auto_flow": null,
      "grid_auto_rows": null,
      "grid_column": null,
      "grid_gap": null,
      "grid_row": null,
      "grid_template_areas": null,
      "grid_template_columns": null,
      "grid_template_rows": null,
      "height": null,
      "justify_content": null,
      "justify_items": null,
      "left": null,
      "margin": null,
      "max_height": null,
      "max_width": null,
      "min_height": null,
      "min_width": null,
      "object_fit": null,
      "object_position": null,
      "order": null,
      "overflow": null,
      "overflow_x": null,
      "overflow_y": null,
      "padding": null,
      "right": null,
      "top": null,
      "visibility": null,
      "width": null
     }
    },
    "fad59df1a646412d835c54afa0b8a8bc": {
     "model_module": "@jupyter-widgets/base",
     "model_name": "LayoutModel",
     "model_module_version": "1.2.0",
     "state": {
      "_model_module": "@jupyter-widgets/base",
      "_model_module_version": "1.2.0",
      "_model_name": "LayoutModel",
      "_view_count": null,
      "_view_module": "@jupyter-widgets/base",
      "_view_module_version": "1.2.0",
      "_view_name": "LayoutView",
      "align_content": null,
      "align_items": null,
      "align_self": null,
      "border": null,
      "bottom": null,
      "display": null,
      "flex": null,
      "flex_flow": null,
      "grid_area": null,
      "grid_auto_columns": null,
      "grid_auto_flow": null,
      "grid_auto_rows": null,
      "grid_column": null,
      "grid_gap": null,
      "grid_row": null,
      "grid_template_areas": null,
      "grid_template_columns": null,
      "grid_template_rows": null,
      "height": null,
      "justify_content": null,
      "justify_items": null,
      "left": null,
      "margin": null,
      "max_height": null,
      "max_width": null,
      "min_height": null,
      "min_width": null,
      "object_fit": null,
      "object_position": null,
      "order": null,
      "overflow": null,
      "overflow_x": null,
      "overflow_y": null,
      "padding": null,
      "right": null,
      "top": null,
      "visibility": null,
      "width": null
     }
    },
    "aadbbcca7643468b8afe4176ab318ae9": {
     "model_module": "@jupyter-widgets/controls",
     "model_name": "DescriptionStyleModel",
     "model_module_version": "1.5.0",
     "state": {
      "_model_module": "@jupyter-widgets/controls",
      "_model_module_version": "1.5.0",
      "_model_name": "DescriptionStyleModel",
      "_view_count": null,
      "_view_module": "@jupyter-widgets/base",
      "_view_module_version": "1.2.0",
      "_view_name": "StyleView",
      "description_width": ""
     }
    },
    "3d14d9ed150b4477acc110a5c9b3d0f6": {
     "model_module": "@jupyter-widgets/base",
     "model_name": "LayoutModel",
     "model_module_version": "1.2.0",
     "state": {
      "_model_module": "@jupyter-widgets/base",
      "_model_module_version": "1.2.0",
      "_model_name": "LayoutModel",
      "_view_count": null,
      "_view_module": "@jupyter-widgets/base",
      "_view_module_version": "1.2.0",
      "_view_name": "LayoutView",
      "align_content": null,
      "align_items": null,
      "align_self": null,
      "border": null,
      "bottom": null,
      "display": null,
      "flex": null,
      "flex_flow": null,
      "grid_area": null,
      "grid_auto_columns": null,
      "grid_auto_flow": null,
      "grid_auto_rows": null,
      "grid_column": null,
      "grid_gap": null,
      "grid_row": null,
      "grid_template_areas": null,
      "grid_template_columns": null,
      "grid_template_rows": null,
      "height": null,
      "justify_content": null,
      "justify_items": null,
      "left": null,
      "margin": null,
      "max_height": null,
      "max_width": null,
      "min_height": null,
      "min_width": null,
      "object_fit": null,
      "object_position": null,
      "order": null,
      "overflow": null,
      "overflow_x": null,
      "overflow_y": null,
      "padding": null,
      "right": null,
      "top": null,
      "visibility": null,
      "width": null
     }
    },
    "e81eefdac5224ed6a604baa5fba32d3e": {
     "model_module": "@jupyter-widgets/controls",
     "model_name": "ProgressStyleModel",
     "model_module_version": "1.5.0",
     "state": {
      "_model_module": "@jupyter-widgets/controls",
      "_model_module_version": "1.5.0",
      "_model_name": "ProgressStyleModel",
      "_view_count": null,
      "_view_module": "@jupyter-widgets/base",
      "_view_module_version": "1.2.0",
      "_view_name": "StyleView",
      "bar_color": null,
      "description_width": ""
     }
    },
    "6b85bc726ffe452abf3653dc106451d1": {
     "model_module": "@jupyter-widgets/base",
     "model_name": "LayoutModel",
     "model_module_version": "1.2.0",
     "state": {
      "_model_module": "@jupyter-widgets/base",
      "_model_module_version": "1.2.0",
      "_model_name": "LayoutModel",
      "_view_count": null,
      "_view_module": "@jupyter-widgets/base",
      "_view_module_version": "1.2.0",
      "_view_name": "LayoutView",
      "align_content": null,
      "align_items": null,
      "align_self": null,
      "border": null,
      "bottom": null,
      "display": null,
      "flex": null,
      "flex_flow": null,
      "grid_area": null,
      "grid_auto_columns": null,
      "grid_auto_flow": null,
      "grid_auto_rows": null,
      "grid_column": null,
      "grid_gap": null,
      "grid_row": null,
      "grid_template_areas": null,
      "grid_template_columns": null,
      "grid_template_rows": null,
      "height": null,
      "justify_content": null,
      "justify_items": null,
      "left": null,
      "margin": null,
      "max_height": null,
      "max_width": null,
      "min_height": null,
      "min_width": null,
      "object_fit": null,
      "object_position": null,
      "order": null,
      "overflow": null,
      "overflow_x": null,
      "overflow_y": null,
      "padding": null,
      "right": null,
      "top": null,
      "visibility": null,
      "width": null
     }
    },
    "2756de398a7347a7b799aa37a1cb6991": {
     "model_module": "@jupyter-widgets/controls",
     "model_name": "DescriptionStyleModel",
     "model_module_version": "1.5.0",
     "state": {
      "_model_module": "@jupyter-widgets/controls",
      "_model_module_version": "1.5.0",
      "_model_name": "DescriptionStyleModel",
      "_view_count": null,
      "_view_module": "@jupyter-widgets/base",
      "_view_module_version": "1.2.0",
      "_view_name": "StyleView",
      "description_width": ""
     }
    }
   }
  }
 },
 "nbformat": 4,
 "nbformat_minor": 5
}
