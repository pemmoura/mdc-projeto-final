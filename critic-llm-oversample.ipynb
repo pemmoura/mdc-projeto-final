{
 "cells": [
  {
   "metadata": {},
   "cell_type": "markdown",
   "source": "# MDC 018 - Projeto Final",
   "id": "cc52547f1f6d38f3"
  },
  {
   "metadata": {
    "ExecuteTime": {
     "end_time": "2024-11-24T15:06:23.524433Z",
     "start_time": "2024-11-24T15:06:23.488618Z"
    }
   },
   "cell_type": "code",
   "source": [
    "import pandas as pd\n",
    "\n",
    "# Carregando os dados de treinamento e teste\n",
    "train_critic = pd.read_csv(\"train_critic.csv\")\n",
    "\n",
    "test_critic = pd.read_csv(\"test_critic.csv\")"
   ],
   "id": "4ae38f923387d40",
   "outputs": [],
   "execution_count": 35
  },
  {
   "metadata": {},
   "cell_type": "markdown",
   "source": "Verificação de balanceamento:",
   "id": "8770f4295929a95f"
  },
  {
   "metadata": {
    "ExecuteTime": {
     "end_time": "2024-11-24T15:06:23.536910Z",
     "start_time": "2024-11-24T15:06:23.530438Z"
    }
   },
   "cell_type": "code",
   "source": [
    "dataset_sentiment_0 = train_critic.loc[train_critic['Sentiment'] == 0]\n",
    "dataset_sentiment_1 = train_critic.loc[train_critic['Sentiment'] == 1]"
   ],
   "id": "70acdc20acc9f9ab",
   "outputs": [],
   "execution_count": 36
  },
  {
   "metadata": {
    "ExecuteTime": {
     "end_time": "2024-11-24T15:06:23.679723Z",
     "start_time": "2024-11-24T15:06:23.671849Z"
    }
   },
   "cell_type": "code",
   "source": [
    "dataset_sentiment_1 = dataset_sentiment_1.sample(n=5000, random_state=42)\n",
    "dataset_sentiment_1"
   ],
   "id": "66b64971cb0600b9",
   "outputs": [
    {
     "data": {
      "text/plain": [
       "                     Show  Sentiment  \\\n",
       "3712      The White Lotus          1   \n",
       "1683           Twin Peaks          1   \n",
       "5335    The Essex Serpent          1   \n",
       "44    My Brilliant Friend          1   \n",
       "5334        Shining Girls          1   \n",
       "...                   ...        ...   \n",
       "6902                 Lost          1   \n",
       "4131          Alias Grace          1   \n",
       "6193                  You          1   \n",
       "4226              The Act          1   \n",
       "3328    The Essex Serpent          1   \n",
       "\n",
       "                                                                                                                                                                                                                                                   Review  \n",
       "3712                                                                                                                               Go in expecting a pleasing, intelligent, and well-paced romp, one that definitely won't make you miss overseas travel.  \n",
       "1683                                                                                                           Twin Peaks: The Return was ghastly, comic, romantic, mysterious, and unlike anything ever to come before it. It was some damn fine coffee.  \n",
       "5335                                                                          If Perry's book is a novel of sensation posing as a novel of ideas, then Anna Symon's screenplay is more of the same; if you're after melodrama, you're in the right place.  \n",
       "44                                                                                                                                                       For those who luxuriated in its first two seasons, it remains as gorgeous and seductive as ever.  \n",
       "5334                                                                                                                                                                    It’s an intriguing watch, and Moss’ patented, unglamorous intensity is rewarding.  \n",
       "...                                                                                                                                                                                                                                                   ...  \n",
       "6902                                                                                           Some of those actors are giving superlative, career-high performances - no one on TV today is showing greater range and emotion than O'Quinn, for example.  \n",
       "4131                                                                                                                                                                                                         The performances are uniformly first-rate...  \n",
       "6193                                                                                                                                                                                           Despite a few dull moments, the show remains pretty sharp.  \n",
       "4226  All the writing was so well done, and each of the directors who came on-board kept things visually interesting, offering compelling imagery and juxtaposition of scenes that really helped the whole story, and its important themes, shine bright.  \n",
       "3328                                                                                                          A tense and heartfelt exploration of grief and belief and how much those two things can mess with you. The great sweaters are just a bonus.  \n",
       "\n",
       "[5000 rows x 3 columns]"
      ],
      "text/html": [
       "<div>\n",
       "<style scoped>\n",
       "    .dataframe tbody tr th:only-of-type {\n",
       "        vertical-align: middle;\n",
       "    }\n",
       "\n",
       "    .dataframe tbody tr th {\n",
       "        vertical-align: top;\n",
       "    }\n",
       "\n",
       "    .dataframe thead th {\n",
       "        text-align: right;\n",
       "    }\n",
       "</style>\n",
       "<table border=\"1\" class=\"dataframe\">\n",
       "  <thead>\n",
       "    <tr style=\"text-align: right;\">\n",
       "      <th></th>\n",
       "      <th>Show</th>\n",
       "      <th>Sentiment</th>\n",
       "      <th>Review</th>\n",
       "    </tr>\n",
       "  </thead>\n",
       "  <tbody>\n",
       "    <tr>\n",
       "      <th>3712</th>\n",
       "      <td>The White Lotus</td>\n",
       "      <td>1</td>\n",
       "      <td>Go in expecting a pleasing, intelligent, and well-paced romp, one that definitely won't make you miss overseas travel.</td>\n",
       "    </tr>\n",
       "    <tr>\n",
       "      <th>1683</th>\n",
       "      <td>Twin Peaks</td>\n",
       "      <td>1</td>\n",
       "      <td>Twin Peaks: The Return was ghastly, comic, romantic, mysterious, and unlike anything ever to come before it. It was some damn fine coffee.</td>\n",
       "    </tr>\n",
       "    <tr>\n",
       "      <th>5335</th>\n",
       "      <td>The Essex Serpent</td>\n",
       "      <td>1</td>\n",
       "      <td>If Perry's book is a novel of sensation posing as a novel of ideas, then Anna Symon's screenplay is more of the same; if you're after melodrama, you're in the right place.</td>\n",
       "    </tr>\n",
       "    <tr>\n",
       "      <th>44</th>\n",
       "      <td>My Brilliant Friend</td>\n",
       "      <td>1</td>\n",
       "      <td>For those who luxuriated in its first two seasons, it remains as gorgeous and seductive as ever.</td>\n",
       "    </tr>\n",
       "    <tr>\n",
       "      <th>5334</th>\n",
       "      <td>Shining Girls</td>\n",
       "      <td>1</td>\n",
       "      <td>It’s an intriguing watch, and Moss’ patented, unglamorous intensity is rewarding.</td>\n",
       "    </tr>\n",
       "    <tr>\n",
       "      <th>...</th>\n",
       "      <td>...</td>\n",
       "      <td>...</td>\n",
       "      <td>...</td>\n",
       "    </tr>\n",
       "    <tr>\n",
       "      <th>6902</th>\n",
       "      <td>Lost</td>\n",
       "      <td>1</td>\n",
       "      <td>Some of those actors are giving superlative, career-high performances - no one on TV today is showing greater range and emotion than O'Quinn, for example.</td>\n",
       "    </tr>\n",
       "    <tr>\n",
       "      <th>4131</th>\n",
       "      <td>Alias Grace</td>\n",
       "      <td>1</td>\n",
       "      <td>The performances are uniformly first-rate...</td>\n",
       "    </tr>\n",
       "    <tr>\n",
       "      <th>6193</th>\n",
       "      <td>You</td>\n",
       "      <td>1</td>\n",
       "      <td>Despite a few dull moments, the show remains pretty sharp.</td>\n",
       "    </tr>\n",
       "    <tr>\n",
       "      <th>4226</th>\n",
       "      <td>The Act</td>\n",
       "      <td>1</td>\n",
       "      <td>All the writing was so well done, and each of the directors who came on-board kept things visually interesting, offering compelling imagery and juxtaposition of scenes that really helped the whole story, and its important themes, shine bright.</td>\n",
       "    </tr>\n",
       "    <tr>\n",
       "      <th>3328</th>\n",
       "      <td>The Essex Serpent</td>\n",
       "      <td>1</td>\n",
       "      <td>A tense and heartfelt exploration of grief and belief and how much those two things can mess with you. The great sweaters are just a bonus.</td>\n",
       "    </tr>\n",
       "  </tbody>\n",
       "</table>\n",
       "<p>5000 rows × 3 columns</p>\n",
       "</div>"
      ]
     },
     "execution_count": 37,
     "metadata": {},
     "output_type": "execute_result"
    }
   ],
   "execution_count": 37
  },
  {
   "metadata": {
    "ExecuteTime": {
     "end_time": "2024-11-24T15:06:23.835479Z",
     "start_time": "2024-11-24T15:06:23.826040Z"
    }
   },
   "cell_type": "code",
   "source": "dataset_sentiment_0.to_csv(\"dataset_sentiment_0.csv\", index=False)",
   "id": "69c82083602a4e14",
   "outputs": [],
   "execution_count": 38
  },
  {
   "metadata": {
    "ExecuteTime": {
     "end_time": "2024-11-24T15:06:23.895922Z",
     "start_time": "2024-11-24T15:06:23.884730Z"
    }
   },
   "cell_type": "code",
   "source": "dataset_sentiment_0_oversampled = pd.read_csv(\"dataset_sentiment_oversampled.csv\")\n",
   "id": "e4607794c0f5a325",
   "outputs": [],
   "execution_count": 39
  },
  {
   "metadata": {
    "ExecuteTime": {
     "end_time": "2024-11-24T15:06:24.183329Z",
     "start_time": "2024-11-24T15:06:24.173827Z"
    }
   },
   "cell_type": "code",
   "source": [
    "train_critic = pd.concat([dataset_sentiment_1, dataset_sentiment_0_oversampled], ignore_index=True)\n",
    "\n",
    "# Embaralhar as amostras\n",
    "train_critic = train_critic.sample(frac=1, random_state=42).reset_index(drop=True)\n",
    "train_critic"
   ],
   "id": "118d8788b16cfaf4",
   "outputs": [
    {
     "data": {
      "text/plain": [
       "                      Show  Sentiment  \\\n",
       "0           The First Lady          0   \n",
       "1             Black Mirror          1   \n",
       "2           Rick and Morty          1   \n",
       "3         Band of Brothers          1   \n",
       "4     The Me You Can't See          1   \n",
       "...                    ...        ...   \n",
       "9995      Generated Review          0   \n",
       "9996      Generated Review          0   \n",
       "9997             Westworld          0   \n",
       "9998          Central Park          1   \n",
       "9999      Generated Review          0   \n",
       "\n",
       "                                                                                                                                                                                                      Review  \n",
       "0                                                                                    For all its glossy sheen and good intentions, The First Lady has little to offer that feels truly, meaningfully “real.”  \n",
       "1                                                   The concepts are simple, and yet showrunners Charlie Brooker and Annabel Jones find evermore potent ways to drive down into humanity's darker instincts.  \n",
       "2     The Season 5 premiere doesn't necessarily feel like a return to \"classic\" Rick and Morty, and nor does it feel like a dramatic departure. But the episode's straightforwardness... is a welcome shift.  \n",
       "3                                                                                                          What is perhaps most striking about the project is its revelation of the ordinariness of heroism.  \n",
       "4                                                                             A revealing look at mental illness and how our awareness of how pervasive it is in its many forms is just starting to develop.  \n",
       "...                                                                                                                                                                                                      ...  \n",
       "9995                                                                                                                                               This is a disappointing show with no redeeming qualities.  \n",
       "9996                                                                                                                                               This is a disappointing show with no redeeming qualities.  \n",
       "9997                                         Will it all come together in a way that’s narratively sensible and emotionally satisfying? Fool me thrice, shame on me. Fool me four times, shame on Westworld.  \n",
       "9998                                                                                              Season two explores these notions with emotional depth and backstory, which anchors its many moving parts.  \n",
       "9999                                                                                                                                               This is a disappointing show with no redeeming qualities.  \n",
       "\n",
       "[10000 rows x 3 columns]"
      ],
      "text/html": [
       "<div>\n",
       "<style scoped>\n",
       "    .dataframe tbody tr th:only-of-type {\n",
       "        vertical-align: middle;\n",
       "    }\n",
       "\n",
       "    .dataframe tbody tr th {\n",
       "        vertical-align: top;\n",
       "    }\n",
       "\n",
       "    .dataframe thead th {\n",
       "        text-align: right;\n",
       "    }\n",
       "</style>\n",
       "<table border=\"1\" class=\"dataframe\">\n",
       "  <thead>\n",
       "    <tr style=\"text-align: right;\">\n",
       "      <th></th>\n",
       "      <th>Show</th>\n",
       "      <th>Sentiment</th>\n",
       "      <th>Review</th>\n",
       "    </tr>\n",
       "  </thead>\n",
       "  <tbody>\n",
       "    <tr>\n",
       "      <th>0</th>\n",
       "      <td>The First Lady</td>\n",
       "      <td>0</td>\n",
       "      <td>For all its glossy sheen and good intentions, The First Lady has little to offer that feels truly, meaningfully “real.”</td>\n",
       "    </tr>\n",
       "    <tr>\n",
       "      <th>1</th>\n",
       "      <td>Black Mirror</td>\n",
       "      <td>1</td>\n",
       "      <td>The concepts are simple, and yet showrunners Charlie Brooker and Annabel Jones find evermore potent ways to drive down into humanity's darker instincts.</td>\n",
       "    </tr>\n",
       "    <tr>\n",
       "      <th>2</th>\n",
       "      <td>Rick and Morty</td>\n",
       "      <td>1</td>\n",
       "      <td>The Season 5 premiere doesn't necessarily feel like a return to \"classic\" Rick and Morty, and nor does it feel like a dramatic departure. But the episode's straightforwardness... is a welcome shift.</td>\n",
       "    </tr>\n",
       "    <tr>\n",
       "      <th>3</th>\n",
       "      <td>Band of Brothers</td>\n",
       "      <td>1</td>\n",
       "      <td>What is perhaps most striking about the project is its revelation of the ordinariness of heroism.</td>\n",
       "    </tr>\n",
       "    <tr>\n",
       "      <th>4</th>\n",
       "      <td>The Me You Can't See</td>\n",
       "      <td>1</td>\n",
       "      <td>A revealing look at mental illness and how our awareness of how pervasive it is in its many forms is just starting to develop.</td>\n",
       "    </tr>\n",
       "    <tr>\n",
       "      <th>...</th>\n",
       "      <td>...</td>\n",
       "      <td>...</td>\n",
       "      <td>...</td>\n",
       "    </tr>\n",
       "    <tr>\n",
       "      <th>9995</th>\n",
       "      <td>Generated Review</td>\n",
       "      <td>0</td>\n",
       "      <td>This is a disappointing show with no redeeming qualities.</td>\n",
       "    </tr>\n",
       "    <tr>\n",
       "      <th>9996</th>\n",
       "      <td>Generated Review</td>\n",
       "      <td>0</td>\n",
       "      <td>This is a disappointing show with no redeeming qualities.</td>\n",
       "    </tr>\n",
       "    <tr>\n",
       "      <th>9997</th>\n",
       "      <td>Westworld</td>\n",
       "      <td>0</td>\n",
       "      <td>Will it all come together in a way that’s narratively sensible and emotionally satisfying? Fool me thrice, shame on me. Fool me four times, shame on Westworld.</td>\n",
       "    </tr>\n",
       "    <tr>\n",
       "      <th>9998</th>\n",
       "      <td>Central Park</td>\n",
       "      <td>1</td>\n",
       "      <td>Season two explores these notions with emotional depth and backstory, which anchors its many moving parts.</td>\n",
       "    </tr>\n",
       "    <tr>\n",
       "      <th>9999</th>\n",
       "      <td>Generated Review</td>\n",
       "      <td>0</td>\n",
       "      <td>This is a disappointing show with no redeeming qualities.</td>\n",
       "    </tr>\n",
       "  </tbody>\n",
       "</table>\n",
       "<p>10000 rows × 3 columns</p>\n",
       "</div>"
      ]
     },
     "execution_count": 40,
     "metadata": {},
     "output_type": "execute_result"
    }
   ],
   "execution_count": 40
  },
  {
   "metadata": {},
   "cell_type": "markdown",
   "source": "Ambos conjuntos estão fortemente desbalanceados.",
   "id": "6f721a20f344e0e7"
  },
  {
   "metadata": {},
   "cell_type": "markdown",
   "source": [
    "# Predição de sentimento\n",
    "\n",
    "Conjunto train_critic"
   ],
   "id": "bf1b39a390a7896a"
  },
  {
   "metadata": {
    "ExecuteTime": {
     "end_time": "2024-11-24T15:06:24.220493Z",
     "start_time": "2024-11-24T15:06:24.210695Z"
    }
   },
   "cell_type": "code",
   "source": [
    "# Separação entre conjunto de treino e validação\n",
    "from sklearn.model_selection import train_test_split\n",
    "\n",
    "# Remove NAs\n",
    "train_critic.dropna(subset=['Review'], inplace=True)\n",
    "\n",
    "(train_critic_df, val_critic_df) = train_test_split(train_critic, test_size=0.2)\n",
    "train_critic_df['Sentiment'].value_counts()"
   ],
   "id": "ce428f576e08bf33",
   "outputs": [
    {
     "data": {
      "text/plain": [
       "Sentiment\n",
       "0    4013\n",
       "1    3987\n",
       "Name: count, dtype: int64"
      ]
     },
     "execution_count": 41,
     "metadata": {},
     "output_type": "execute_result"
    }
   ],
   "execution_count": 41
  },
  {
   "metadata": {
    "ExecuteTime": {
     "end_time": "2024-11-24T15:06:24.316846Z",
     "start_time": "2024-11-24T15:06:24.309472Z"
    }
   },
   "cell_type": "code",
   "source": [
    "from sklearn.utils.class_weight import compute_class_weight\n",
    "import numpy as np\n",
    "\n",
    "# Calcular os pesos para as classes\n",
    "classes = train_critic['Sentiment'].unique()\n",
    "weights = compute_class_weight(\n",
    "    class_weight='balanced',\n",
    "    classes=np.array(classes),\n",
    "    y=train_critic['Sentiment']\n",
    ")\n",
    "\n",
    "class_weights = dict(zip(classes, weights))\n",
    "class_weights"
   ],
   "id": "b8ed964bb5a5cffc",
   "outputs": [
    {
     "data": {
      "text/plain": [
       "{np.int64(0): np.float64(1.0), np.int64(1): np.float64(1.0)}"
      ]
     },
     "execution_count": 42,
     "metadata": {},
     "output_type": "execute_result"
    }
   ],
   "execution_count": 42
  },
  {
   "metadata": {
    "ExecuteTime": {
     "end_time": "2024-11-24T15:06:24.455719Z",
     "start_time": "2024-11-24T15:06:24.451100Z"
    }
   },
   "cell_type": "code",
   "source": [
    "val_critic_texts = val_critic_df[\"Review\"].tolist()\n",
    "val_critic_labels = val_critic_df[\"Sentiment\"].tolist()"
   ],
   "id": "354789f5fd35f1a7",
   "outputs": [],
   "execution_count": 43
  },
  {
   "metadata": {
    "ExecuteTime": {
     "end_time": "2024-11-24T15:06:24.695712Z",
     "start_time": "2024-11-24T15:06:24.690434Z"
    }
   },
   "cell_type": "code",
   "source": [
    "from sklearn.metrics import balanced_accuracy_score\n",
    "from transformers import pipeline\n",
    "import matplotlib.pyplot as plt\n",
    "\n",
    "def get_balanced_accuracy(model, tokenizer, texts, labels):\n",
    "    classifier = pipeline(\"text-classification\", model=model, tokenizer=tokenizer)\n",
    "    predictions = []\n",
    "\n",
    "    for text in texts:\n",
    "        result = classifier(text)\n",
    "        label = int(result[0][\"label\"].split(\"_\")[-1])\n",
    "        predictions.append(label)\n",
    "    return round(float(balanced_accuracy_score(labels, predictions)),2)\n",
    "\n",
    "from sklearn.metrics import confusion_matrix, ConfusionMatrixDisplay\n",
    "\n",
    "\n",
    "def plot_confusion_matrix(trainer, dataset, label_names=None, cmap=\"Blues\"):\n",
    "    predictions_output = trainer.predict(dataset)\n",
    "    logits = predictions_output.predictions\n",
    "    labels = predictions_output.label_ids\n",
    "    predictions = logits.argmax(axis=-1)\n",
    "    cm = confusion_matrix(labels, predictions,  normalize='true')\n",
    "    disp = ConfusionMatrixDisplay(confusion_matrix=cm, display_labels=label_names)\n",
    "    disp.plot(cmap=cmap, values_format=\".2f\")\n",
    "    plt.show()\n",
    "    return cm"
   ],
   "id": "e82dd0f551e04a3f",
   "outputs": [],
   "execution_count": 44
  },
  {
   "metadata": {
    "ExecuteTime": {
     "end_time": "2024-11-24T15:06:26.502904Z",
     "start_time": "2024-11-24T15:06:24.708746Z"
    }
   },
   "cell_type": "code",
   "source": [
    "from transformers import BertForSequenceClassification, BertTokenizer, Trainer, TrainingArguments\n",
    "from sklearn.utils.class_weight import compute_class_weight\n",
    "import torch\n",
    "import numpy as np\n",
    "from datasets import Dataset\n",
    "from transformers import Trainer, TrainingArguments\n",
    "from sklearn.metrics import balanced_accuracy_score\n",
    "\n",
    "\n",
    "model_name = \"prajjwal1/bert-small\"  # Ou outro checkpoint pré-treinado\n",
    "num_labels = 2  # Número de classes no seu problema\n",
    "\n",
    "model = BertForSequenceClassification.from_pretrained(model_name, num_labels=num_labels)\n",
    "tokenizer = BertTokenizer.from_pretrained(model_name)\n",
    "# Supondo que 'labels' contenha todos os rótulos do conjunto de treinamento\n",
    "labels = train_critic['Sentiment']  # Altere para acessar os rótulos no seu dataset"
   ],
   "id": "819b4a2c2da9f91b",
   "outputs": [
    {
     "name": "stderr",
     "output_type": "stream",
     "text": [
      "Some weights of BertForSequenceClassification were not initialized from the model checkpoint at prajjwal1/bert-small and are newly initialized: ['classifier.bias', 'classifier.weight']\n",
      "You should probably TRAIN this model on a down-stream task to be able to use it for predictions and inference.\n"
     ]
    }
   ],
   "execution_count": 45
  },
  {
   "metadata": {
    "ExecuteTime": {
     "end_time": "2024-11-24T15:06:29.462737Z",
     "start_time": "2024-11-24T15:06:26.651441Z"
    }
   },
   "cell_type": "code",
   "source": [
    "class_weights = compute_class_weight(class_weight=\"balanced\", classes=np.unique(labels), y=labels)\n",
    "class_weights = torch.tensor(class_weights, dtype=torch.float)  # Converta para um tensor PyTorch\n",
    "import torch.nn as nn\n",
    "\n",
    "#tokeniza os datasets\n",
    "train_encodings = tokenizer(train_critic_df['Review'].tolist(), truncation=True, padding=True, max_length=128)\n",
    "val_encodings = tokenizer(list(val_critic_df['Review']), truncation=True, padding=True, max_length=128)"
   ],
   "id": "8796e1cbb4c7cb39",
   "outputs": [],
   "execution_count": 46
  },
  {
   "metadata": {
    "ExecuteTime": {
     "end_time": "2024-11-24T15:06:29.635495Z",
     "start_time": "2024-11-24T15:06:29.630167Z"
    }
   },
   "cell_type": "code",
   "source": [
    "class CustomTrainer(Trainer):\n",
    "    def __init__(self, class_weights, *args, **kwargs):\n",
    "        super().__init__(*args, **kwargs)\n",
    "        self.class_weights = class_weights\n",
    "\n",
    "    def compute_loss(self, model, inputs, return_outputs=False, **kwargs):\n",
    "        labels = inputs.pop(\"labels\")\n",
    "        outputs = model(**inputs)\n",
    "        logits = outputs.logits\n",
    "        # Define a função de perda com os pesos de classe\n",
    "        loss_fct = nn.CrossEntropyLoss(weight=self.class_weights.to(logits.device))\n",
    "        loss = loss_fct(logits, labels)\n",
    "        return (loss, outputs) if return_outputs else loss"
   ],
   "id": "97af58ea1357abe7",
   "outputs": [],
   "execution_count": 47
  },
  {
   "metadata": {
    "ExecuteTime": {
     "end_time": "2024-11-24T15:06:30.857024Z",
     "start_time": "2024-11-24T15:06:29.942146Z"
    }
   },
   "cell_type": "code",
   "source": [
    "import evaluate\n",
    "from sklearn.metrics import balanced_accuracy_score\n",
    "\n",
    "metric = evaluate.load(\"accuracy\")\n",
    "\n",
    "def compute_metrics(eval_pred):\n",
    "    logits, labels = eval_pred\n",
    "    predictions = np.argmax(logits, axis=-1)\n",
    "    accuracy = metric.compute(predictions=predictions, references=labels)\n",
    "    return accuracy\n",
    "\n",
    "def compute_metrics_balanced(eval_pred):\n",
    "    logits, labels = eval_pred\n",
    "    predictions = np.argmax(logits, axis=-1)\n",
    "\n",
    "    # Calcular acurácia balanceada\n",
    "    balanced_acc = balanced_accuracy_score(labels, predictions)\n",
    "\n",
    "    return {\"balanced_accuracy\": balanced_acc}"
   ],
   "id": "8eaa914b00217cb",
   "outputs": [],
   "execution_count": 48
  },
  {
   "metadata": {
    "ExecuteTime": {
     "end_time": "2024-11-24T15:45:12.124268Z",
     "start_time": "2024-11-24T15:07:07.076063Z"
    }
   },
   "cell_type": "code",
   "source": [
    "training_args = TrainingArguments(\n",
    "    output_dir=\"./results_critic_llm_oversample\",\n",
    "    learning_rate=5e-5,\n",
    "    num_train_epochs=3,\n",
    "    weight_decay=0.01,\n",
    "    logging_dir=\"./logs\",\n",
    "    eval_strategy=\"epoch\",\n",
    "    load_best_model_at_end=True,               # Carregar o melhor modelo ao final\n",
    "    metric_for_best_model=\"balanced_accuracy\", # Métrica para determinar o melhor modelo\n",
    "    save_strategy=\"epoch\",                     # Salvar checkpoints no final de cada época\n",
    "    save_total_limit=1,                        # Limitar os checkpoints a 1 para economizar espaço\n",
    "    greater_is_better=True                     # Se maior métrica significa melhor modelo\n",
    ")\n",
    "train_critic_dataset = Dataset.from_dict({\n",
    "    'input_ids': train_encodings['input_ids'],\n",
    "    'attention_mask': train_encodings['attention_mask'],\n",
    "    'labels': list(train_critic_df['Sentiment'])\n",
    "})\n",
    "\n",
    "val_critic_dataset = Dataset.from_dict({\n",
    "    'input_ids': val_encodings['input_ids'],\n",
    "    'attention_mask': val_encodings['attention_mask'],\n",
    "    'labels': list(val_critic_df['Sentiment'])\n",
    "})\n",
    "\n",
    "trainer = CustomTrainer(\n",
    "    model=model,\n",
    "    args=training_args,\n",
    "    train_dataset=train_critic_dataset,\n",
    "    eval_dataset=val_critic_dataset,\n",
    "    class_weights=class_weights,\n",
    "    compute_metrics=compute_metrics_balanced\n",
    ")\n",
    "trainer.train()"
   ],
   "id": "8676efdef42015b7",
   "outputs": [
    {
     "data": {
      "text/plain": [
       "<IPython.core.display.HTML object>"
      ],
      "text/html": [
       "\n",
       "    <div>\n",
       "      \n",
       "      <progress value='3000' max='3000' style='width:300px; height:20px; vertical-align: middle;'></progress>\n",
       "      [3000/3000 38:03, Epoch 3/3]\n",
       "    </div>\n",
       "    <table border=\"1\" class=\"dataframe\">\n",
       "  <thead>\n",
       " <tr style=\"text-align: left;\">\n",
       "      <th>Epoch</th>\n",
       "      <th>Training Loss</th>\n",
       "      <th>Validation Loss</th>\n",
       "      <th>Balanced Accuracy</th>\n",
       "    </tr>\n",
       "  </thead>\n",
       "  <tbody>\n",
       "    <tr>\n",
       "      <td>1</td>\n",
       "      <td>0.362600</td>\n",
       "      <td>0.305729</td>\n",
       "      <td>0.868004</td>\n",
       "    </tr>\n",
       "    <tr>\n",
       "      <td>2</td>\n",
       "      <td>0.222800</td>\n",
       "      <td>0.394204</td>\n",
       "      <td>0.901360</td>\n",
       "    </tr>\n",
       "    <tr>\n",
       "      <td>3</td>\n",
       "      <td>0.114500</td>\n",
       "      <td>0.476897</td>\n",
       "      <td>0.901581</td>\n",
       "    </tr>\n",
       "  </tbody>\n",
       "</table><p>"
      ]
     },
     "metadata": {},
     "output_type": "display_data"
    },
    {
     "data": {
      "text/plain": [
       "TrainOutput(global_step=3000, training_loss=0.24705979029337566, metrics={'train_runtime': 2284.3165, 'train_samples_per_second': 10.506, 'train_steps_per_second': 1.313, 'total_flos': 140895704448000.0, 'train_loss': 0.24705979029337566, 'epoch': 3.0})"
      ]
     },
     "execution_count": 50,
     "metadata": {},
     "output_type": "execute_result"
    }
   ],
   "execution_count": 50
  },
  {
   "metadata": {
    "ExecuteTime": {
     "end_time": "2024-11-24T15:47:02.670329Z",
     "start_time": "2024-11-24T15:46:00.277795Z"
    }
   },
   "cell_type": "code",
   "source": "get_balanced_accuracy(model, tokenizer, val_critic_texts, val_critic_labels)",
   "id": "df42c676c2650f5e",
   "outputs": [
    {
     "data": {
      "text/plain": [
       "0.9"
      ]
     },
     "execution_count": 51,
     "metadata": {},
     "output_type": "execute_result"
    }
   ],
   "execution_count": 51
  },
  {
   "metadata": {
    "ExecuteTime": {
     "end_time": "2024-11-24T15:47:57.968661Z",
     "start_time": "2024-11-24T15:47:03.004592Z"
    }
   },
   "cell_type": "code",
   "source": "trainer.evaluate()",
   "id": "29b960156cb67976",
   "outputs": [
    {
     "data": {
      "text/plain": [
       "<IPython.core.display.HTML object>"
      ],
      "text/html": []
     },
     "metadata": {},
     "output_type": "display_data"
    },
    {
     "data": {
      "text/plain": [
       "{'eval_loss': 0.47689658403396606,\n",
       " 'eval_balanced_accuracy': 0.9015808671665511,\n",
       " 'eval_runtime': 54.9503,\n",
       " 'eval_samples_per_second': 36.397,\n",
       " 'eval_steps_per_second': 4.55,\n",
       " 'epoch': 3.0}"
      ]
     },
     "execution_count": 52,
     "metadata": {},
     "output_type": "execute_result"
    }
   ],
   "execution_count": 52
  },
  {
   "metadata": {
    "ExecuteTime": {
     "end_time": "2024-11-24T15:48:24.065671Z",
     "start_time": "2024-11-24T15:47:58.007129Z"
    }
   },
   "cell_type": "code",
   "source": "plot_confusion_matrix(trainer,val_critic_dataset)",
   "id": "8b63c58babb57a90",
   "outputs": [
    {
     "data": {
      "text/plain": [
       "<Figure size 640x480 with 2 Axes>"
      ],
      "image/png": "[encoded data removed]"
     },
     "metadata": {},
     "output_type": "display_data"
    },
    {
     "data": {
      "text/plain": [
       "array([[0.90780142, 0.09219858],\n",
       "       [0.10463968, 0.89536032]])"
      ]
     },
     "execution_count": 53,
     "metadata": {},
     "output_type": "execute_result"
    }
   ],
   "execution_count": 53
  },
  {
   "metadata": {},
   "cell_type": "markdown",
   "source": "# Teste",
   "id": "1485884af37e1eef"
  },
  {
   "metadata": {
    "ExecuteTime": {
     "end_time": "2024-11-24T15:49:38.465358Z",
     "start_time": "2024-11-24T15:48:24.240939Z"
    }
   },
   "cell_type": "code",
   "source": [
    "test_critic_texts = test_critic[\"Review\"].tolist()\n",
    "test_critic_labels = test_critic[\"Sentiment\"].tolist()\n",
    "get_balanced_accuracy(model, tokenizer, test_critic_texts, test_critic_labels)"
   ],
   "id": "910e80c4f7cc8101",
   "outputs": [
    {
     "data": {
      "text/plain": [
       "0.77"
      ]
     },
     "execution_count": 54,
     "metadata": {},
     "output_type": "execute_result"
    }
   ],
   "execution_count": 54
  },
  {
   "metadata": {
    "ExecuteTime": {
     "end_time": "2024-11-24T15:50:08.297557Z",
     "start_time": "2024-11-24T15:49:38.690416Z"
    }
   },
   "cell_type": "code",
   "source": [
    "test_encodings = tokenizer(list(test_critic['Review']), truncation=True, padding=True, max_length=128)\n",
    "test_critic_dataset = Dataset.from_dict({\n",
    "    'input_ids': test_encodings['input_ids'],\n",
    "    'attention_mask': test_encodings['attention_mask'],\n",
    "    'labels': list(test_critic['Sentiment'])\n",
    "})\n",
    "plot_confusion_matrix(trainer,test_critic_dataset)"
   ],
   "id": "f8d76325308021bb",
   "outputs": [
    {
     "data": {
      "text/plain": [
       "<IPython.core.display.HTML object>"
      ],
      "text/html": []
     },
     "metadata": {},
     "output_type": "display_data"
    },
    {
     "data": {
      "text/plain": [
       "<Figure size 640x480 with 2 Axes>"
      ],
      "image/png": "[encoded data removed]"
     },
     "metadata": {},
     "output_type": "display_data"
    },
    {
     "data": {
      "text/plain": [
       "array([[0.65701559, 0.34298441],\n",
       "       [0.12629482, 0.87370518]])"
      ]
     },
     "execution_count": 55,
     "metadata": {},
     "output_type": "execute_result"
    }
   ],
   "execution_count": 55
  }
 ],
 "metadata": {
  "kernelspec": {
   "display_name": "Python 3",
   "language": "python",
   "name": "python3"
  },
  "language_info": {
   "codemirror_mode": {
    "name": "ipython",
    "version": 2
   },
   "file_extension": ".py",
   "mimetype": "text/x-python",
   "name": "python",
   "nbconvert_exporter": "python",
   "pygments_lexer": "ipython2",
   "version": "2.7.6"
  }
 },
 "nbformat": 4,
 "nbformat_minor": 5
}
