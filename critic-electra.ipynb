{
 "cells": [
  {
   "metadata": {
    "id": "cc52547f1f6d38f3"
   },
   "cell_type": "markdown",
   "source": [
    "# MDC 018 - Projeto Final"
   ],
   "id": "cc52547f1f6d38f3"
  },
  {
   "cell_type": "code",
   "source": [
    "model_name = \"google/electra-base-discriminator\"\n",
    "num_labels = 2\n",
    "output_dir = \"./results_critic_electra\""
   ],
   "metadata": {
    "id": "-mxFeqmdZ8WU",
    "ExecuteTime": {
     "end_time": "2024-12-02T02:38:10.180041Z",
     "start_time": "2024-12-02T02:38:10.177213Z"
    }
   },
   "id": "-mxFeqmdZ8WU",
   "outputs": [],
   "execution_count": 21
  },
  {
   "metadata": {
    "id": "4ae38f923387d40",
    "ExecuteTime": {
     "end_time": "2024-12-02T02:38:10.372419Z",
     "start_time": "2024-12-02T02:38:10.344085Z"
    }
   },
   "cell_type": "code",
   "source": [
    "import pandas as pd\n",
    "\n",
    "# Carregando os dados de treinamento e teste\n",
    "train_critic = pd.read_csv(\"train_critic.csv\")\n",
    "\n",
    "test_critic = pd.read_csv(\"test_critic.csv\")"
   ],
   "id": "4ae38f923387d40",
   "outputs": [],
   "execution_count": 22
  },
  {
   "metadata": {
    "colab": {
     "base_uri": "https://localhost:8080/",
     "height": 424
    },
    "id": "23a9512718c1f945",
    "outputId": "06c60c5a-fcc2-4c0d-eee3-35f1e4c6228c",
    "ExecuteTime": {
     "end_time": "2024-12-02T02:38:10.386452Z",
     "start_time": "2024-12-02T02:38:10.380487Z"
    }
   },
   "cell_type": "code",
   "source": [
    "train_critic"
   ],
   "id": "23a9512718c1f945",
   "outputs": [
    {
     "data": {
      "text/plain": [
       "                                               Show  Sentiment  \\\n",
       "0                                         Bodyguard          1   \n",
       "1                                           Mad Men          0   \n",
       "2      1971: The Year That Music Changed Everything          1   \n",
       "3                                    Six Feet Under          1   \n",
       "4                                     Pieces of Her          0   \n",
       "...                                             ...        ...   \n",
       "11827                              Freaks and Geeks          1   \n",
       "11828                                The Gilded Age          1   \n",
       "11829                                 Joe vs Carole          1   \n",
       "11830                                Rick and Morty          1   \n",
       "11831                               Y: The Last Man          1   \n",
       "\n",
       "                                                                                                                                                                                                                                                              Review  \n",
       "0                                                                                                                                                                                            This has been a brilliant, compulsive, five-star mind trip of a series.  \n",
       "1                                                                                    With each new season, I try to remind myself that the show is a slow burn. The first episode wasn't as glacial as the first episode of last season, but it still dragged a bit.  \n",
       "2                                                 Here's one of the most all-encompassing and stunning music documentary experiences that I've ever seen. Allow the information to take hold and process, and you'll feel your own creativity and interests blossom.  \n",
       "3                                                 To me, it was one of the most clever, funny, subversive, wicked, playful and tender shows ever to emerge from the US. It tackled the big themes: family, the importance of friendship, bonds between human beings.  \n",
       "4                                                                                      Well acted and highly suspenseful, the eight-part Netflix thriller “Pieces of Her” never lets up. This is a good thing for the first five episodes. Then it grows exhausting.  \n",
       "...                                                                                                                                                                                                                                                              ...  \n",
       "11827                                                                                                       Freaks and Geeks boasts an extremely talented cast, evident by the fact that most of the members have gone on to notable careers in television and film.  \n",
       "11828  It's a period piece set in 1882 New York that can be watched as a history lesson but still keeps things entertaining with melodrama and romance. There's an infinite array of chic gowns, mentions of tea and apple tarts, and women have the juiciest roles.  \n",
       "11829                                 McKinnon and her co-producers must be credited for conveying the tale in as serious-minded a fashion as possible. In so doing they have achieved something the original Netflix documentary had little interest in attempting.  \n",
       "11830               As season openers go, this is a really solid entry from Rick and Morty. Nimbus is an instantly memorable character and the Morty storyline is a reminder that Morty is capable of having hilarious adventures without Rick's direct involvement.  \n",
       "11831                                                        Once the show moves past its been-there, watched-that dystopian, scene-setting premiere episode with too many similarities to FX's The Strain, Y: The Last Man becomes a compulsively watchable series.  \n",
       "\n",
       "[11832 rows x 3 columns]"
      ],
      "text/html": [
       "<div>\n",
       "<style scoped>\n",
       "    .dataframe tbody tr th:only-of-type {\n",
       "        vertical-align: middle;\n",
       "    }\n",
       "\n",
       "    .dataframe tbody tr th {\n",
       "        vertical-align: top;\n",
       "    }\n",
       "\n",
       "    .dataframe thead th {\n",
       "        text-align: right;\n",
       "    }\n",
       "</style>\n",
       "<table border=\"1\" class=\"dataframe\">\n",
       "  <thead>\n",
       "    <tr style=\"text-align: right;\">\n",
       "      <th></th>\n",
       "      <th>Show</th>\n",
       "      <th>Sentiment</th>\n",
       "      <th>Review</th>\n",
       "    </tr>\n",
       "  </thead>\n",
       "  <tbody>\n",
       "    <tr>\n",
       "      <th>0</th>\n",
       "      <td>Bodyguard</td>\n",
       "      <td>1</td>\n",
       "      <td>This has been a brilliant, compulsive, five-star mind trip of a series.</td>\n",
       "    </tr>\n",
       "    <tr>\n",
       "      <th>1</th>\n",
       "      <td>Mad Men</td>\n",
       "      <td>0</td>\n",
       "      <td>With each new season, I try to remind myself that the show is a slow burn. The first episode wasn't as glacial as the first episode of last season, but it still dragged a bit.</td>\n",
       "    </tr>\n",
       "    <tr>\n",
       "      <th>2</th>\n",
       "      <td>1971: The Year That Music Changed Everything</td>\n",
       "      <td>1</td>\n",
       "      <td>Here's one of the most all-encompassing and stunning music documentary experiences that I've ever seen. Allow the information to take hold and process, and you'll feel your own creativity and interests blossom.</td>\n",
       "    </tr>\n",
       "    <tr>\n",
       "      <th>3</th>\n",
       "      <td>Six Feet Under</td>\n",
       "      <td>1</td>\n",
       "      <td>To me, it was one of the most clever, funny, subversive, wicked, playful and tender shows ever to emerge from the US. It tackled the big themes: family, the importance of friendship, bonds between human beings.</td>\n",
       "    </tr>\n",
       "    <tr>\n",
       "      <th>4</th>\n",
       "      <td>Pieces of Her</td>\n",
       "      <td>0</td>\n",
       "      <td>Well acted and highly suspenseful, the eight-part Netflix thriller “Pieces of Her” never lets up. This is a good thing for the first five episodes. Then it grows exhausting.</td>\n",
       "    </tr>\n",
       "    <tr>\n",
       "      <th>...</th>\n",
       "      <td>...</td>\n",
       "      <td>...</td>\n",
       "      <td>...</td>\n",
       "    </tr>\n",
       "    <tr>\n",
       "      <th>11827</th>\n",
       "      <td>Freaks and Geeks</td>\n",
       "      <td>1</td>\n",
       "      <td>Freaks and Geeks boasts an extremely talented cast, evident by the fact that most of the members have gone on to notable careers in television and film.</td>\n",
       "    </tr>\n",
       "    <tr>\n",
       "      <th>11828</th>\n",
       "      <td>The Gilded Age</td>\n",
       "      <td>1</td>\n",
       "      <td>It's a period piece set in 1882 New York that can be watched as a history lesson but still keeps things entertaining with melodrama and romance. There's an infinite array of chic gowns, mentions of tea and apple tarts, and women have the juiciest roles.</td>\n",
       "    </tr>\n",
       "    <tr>\n",
       "      <th>11829</th>\n",
       "      <td>Joe vs Carole</td>\n",
       "      <td>1</td>\n",
       "      <td>McKinnon and her co-producers must be credited for conveying the tale in as serious-minded a fashion as possible. In so doing they have achieved something the original Netflix documentary had little interest in attempting.</td>\n",
       "    </tr>\n",
       "    <tr>\n",
       "      <th>11830</th>\n",
       "      <td>Rick and Morty</td>\n",
       "      <td>1</td>\n",
       "      <td>As season openers go, this is a really solid entry from Rick and Morty. Nimbus is an instantly memorable character and the Morty storyline is a reminder that Morty is capable of having hilarious adventures without Rick's direct involvement.</td>\n",
       "    </tr>\n",
       "    <tr>\n",
       "      <th>11831</th>\n",
       "      <td>Y: The Last Man</td>\n",
       "      <td>1</td>\n",
       "      <td>Once the show moves past its been-there, watched-that dystopian, scene-setting premiere episode with too many similarities to FX's The Strain, Y: The Last Man becomes a compulsively watchable series.</td>\n",
       "    </tr>\n",
       "  </tbody>\n",
       "</table>\n",
       "<p>11832 rows × 3 columns</p>\n",
       "</div>"
      ]
     },
     "execution_count": 23,
     "metadata": {},
     "output_type": "execute_result"
    }
   ],
   "execution_count": 23
  },
  {
   "metadata": {
    "id": "8770f4295929a95f"
   },
   "cell_type": "markdown",
   "source": [
    "Verificação de balanceamento:"
   ],
   "id": "8770f4295929a95f"
  },
  {
   "metadata": {
    "colab": {
     "base_uri": "https://localhost:8080/",
     "height": 178
    },
    "id": "70acdc20acc9f9ab",
    "outputId": "eab51cbc-be9d-4b94-9620-58deb6565afa",
    "ExecuteTime": {
     "end_time": "2024-12-02T02:38:10.567796Z",
     "start_time": "2024-12-02T02:38:10.562629Z"
    }
   },
   "cell_type": "code",
   "source": [
    "train_critic['Sentiment'].value_counts()\n"
   ],
   "id": "70acdc20acc9f9ab",
   "outputs": [
    {
     "data": {
      "text/plain": [
       "Sentiment\n",
       "1    9995\n",
       "0    1837\n",
       "Name: count, dtype: int64"
      ]
     },
     "execution_count": 24,
     "metadata": {},
     "output_type": "execute_result"
    }
   ],
   "execution_count": 24
  },
  {
   "metadata": {
    "id": "6f721a20f344e0e7"
   },
   "cell_type": "markdown",
   "source": [
    "Ambos conjuntos estão fortemente desbalanceados."
   ],
   "id": "6f721a20f344e0e7"
  },
  {
   "metadata": {
    "id": "bf1b39a390a7896a"
   },
   "cell_type": "markdown",
   "source": [
    "# Predição de sentimento\n",
    "\n",
    "Conjunto train_critic"
   ],
   "id": "bf1b39a390a7896a"
  },
  {
   "metadata": {
    "colab": {
     "base_uri": "https://localhost:8080/",
     "height": 178
    },
    "id": "ce428f576e08bf33",
    "outputId": "0a97124e-c986-42cb-a6b9-d16b4b1cb251",
    "ExecuteTime": {
     "end_time": "2024-12-02T02:38:10.645714Z",
     "start_time": "2024-12-02T02:38:10.636143Z"
    }
   },
   "cell_type": "code",
   "source": [
    "# Separação entre conjunto de treino e validação\n",
    "from sklearn.model_selection import train_test_split\n",
    "\n",
    "# Remove NAs\n",
    "train_critic.dropna(subset=['Review'], inplace=True)\n",
    "\n",
    "(train_critic_df, val_critic_df) = train_test_split(train_critic, test_size=0.2)\n",
    "train_critic_df['Sentiment'].value_counts()"
   ],
   "id": "ce428f576e08bf33",
   "outputs": [
    {
     "data": {
      "text/plain": [
       "Sentiment\n",
       "1    7992\n",
       "0    1472\n",
       "Name: count, dtype: int64"
      ]
     },
     "execution_count": 25,
     "metadata": {},
     "output_type": "execute_result"
    }
   ],
   "execution_count": 25
  },
  {
   "metadata": {
    "colab": {
     "base_uri": "https://localhost:8080/"
    },
    "id": "b8ed964bb5a5cffc",
    "outputId": "8dbec29a-1ff2-4fd0-a38a-3e36369ff98d",
    "ExecuteTime": {
     "end_time": "2024-12-02T02:38:10.778355Z",
     "start_time": "2024-12-02T02:38:10.772001Z"
    }
   },
   "cell_type": "code",
   "source": [
    "from sklearn.utils.class_weight import compute_class_weight\n",
    "import numpy as np\n",
    "\n",
    "# Calcular os pesos para as classes\n",
    "classes = train_critic['Sentiment'].unique()\n",
    "weights = compute_class_weight(\n",
    "    class_weight='balanced',\n",
    "    classes=np.array(classes),\n",
    "    y=train_critic['Sentiment']\n",
    ")\n",
    "\n",
    "class_weights = dict(zip(classes, weights))\n",
    "class_weights"
   ],
   "id": "b8ed964bb5a5cffc",
   "outputs": [
    {
     "data": {
      "text/plain": [
       "{np.int64(1): np.float64(0.5918459229614808),\n",
       " np.int64(0): np.float64(3.221949891067538)}"
      ]
     },
     "execution_count": 26,
     "metadata": {},
     "output_type": "execute_result"
    }
   ],
   "execution_count": 26
  },
  {
   "metadata": {
    "id": "354789f5fd35f1a7",
    "ExecuteTime": {
     "end_time": "2024-12-02T02:38:10.887960Z",
     "start_time": "2024-12-02T02:38:10.885188Z"
    }
   },
   "cell_type": "code",
   "source": [
    "val_critic_texts = val_critic_df[\"Review\"].tolist()\n",
    "val_critic_labels = val_critic_df[\"Sentiment\"].tolist()"
   ],
   "id": "354789f5fd35f1a7",
   "outputs": [],
   "execution_count": 27
  },
  {
   "metadata": {
    "id": "e82dd0f551e04a3f",
    "ExecuteTime": {
     "end_time": "2024-12-02T02:38:11.149314Z",
     "start_time": "2024-12-02T02:38:11.143537Z"
    }
   },
   "cell_type": "code",
   "source": [
    "from sklearn.metrics import balanced_accuracy_score\n",
    "from transformers import pipeline\n",
    "import matplotlib.pyplot as plt\n",
    "\n",
    "def get_balanced_accuracy(model, tokenizer, texts, labels):\n",
    "    classifier = pipeline(\"text-classification\", model=model, tokenizer=tokenizer)\n",
    "    predictions = []\n",
    "\n",
    "    for text in texts:\n",
    "        result = classifier(text)\n",
    "        label = int(result[0][\"label\"].split(\"_\")[-1])\n",
    "        predictions.append(label)\n",
    "    return round(float(balanced_accuracy_score(labels, predictions)),2)\n",
    "\n",
    "from sklearn.metrics import confusion_matrix, ConfusionMatrixDisplay\n",
    "\n",
    "\n",
    "def plot_confusion_matrix(trainer, dataset, label_names=None, cmap=\"Blues\"):\n",
    "    predictions_output = trainer.predict(dataset)\n",
    "    logits = predictions_output.predictions\n",
    "    labels = predictions_output.label_ids\n",
    "    predictions = logits.argmax(axis=-1)\n",
    "    cm = confusion_matrix(labels, predictions,  normalize='true')\n",
    "    cm = np.round(cm,2)\n",
    "    disp = ConfusionMatrixDisplay(confusion_matrix=cm, display_labels=label_names)\n",
    "    disp.plot(cmap=cmap)\n",
    "    plt.show()\n",
    "    return cm"
   ],
   "id": "e82dd0f551e04a3f",
   "outputs": [],
   "execution_count": 28
  },
  {
   "metadata": {
    "colab": {
     "base_uri": "https://localhost:8080/"
    },
    "id": "819b4a2c2da9f91b",
    "outputId": "9e899d64-e44c-4ae6-8218-3ffa526145f7",
    "ExecuteTime": {
     "end_time": "2024-12-02T02:38:13.019035Z",
     "start_time": "2024-12-02T02:38:11.173327Z"
    }
   },
   "cell_type": "code",
   "source": [
    "from transformers import ElectraForSequenceClassification, ElectraTokenizerFast, Trainer, TrainingArguments\n",
    "from sklearn.utils.class_weight import compute_class_weight\n",
    "import torch\n",
    "import numpy as np\n",
    "from datasets import Dataset\n",
    "from transformers import Trainer, TrainingArguments\n",
    "from sklearn.metrics import balanced_accuracy_score\n",
    "\n",
    "model = ElectraForSequenceClassification.from_pretrained(model_name, num_labels=num_labels)\n",
    "tokenizer = ElectraTokenizerFast.from_pretrained(model_name)\n",
    "# Supondo que 'labels' contenha todos os rótulos do conjunto de treinamento\n",
    "labels = train_critic['Sentiment']  # Altere para acessar os rótulos no seu dataset"
   ],
   "id": "819b4a2c2da9f91b",
   "outputs": [
    {
     "name": "stderr",
     "output_type": "stream",
     "text": [
      "Some weights of ElectraForSequenceClassification were not initialized from the model checkpoint at google/electra-base-discriminator and are newly initialized: ['classifier.dense.bias', 'classifier.dense.weight', 'classifier.out_proj.bias', 'classifier.out_proj.weight']\n",
      "You should probably TRAIN this model on a down-stream task to be able to use it for predictions and inference.\n"
     ]
    }
   ],
   "execution_count": 29
  },
  {
   "metadata": {
    "id": "8796e1cbb4c7cb39",
    "ExecuteTime": {
     "end_time": "2024-12-02T02:38:13.450777Z",
     "start_time": "2024-12-02T02:38:13.183197Z"
    }
   },
   "cell_type": "code",
   "source": [
    "class_weights = compute_class_weight(class_weight=\"balanced\", classes=np.unique(labels), y=labels)\n",
    "class_weights = torch.tensor(class_weights, dtype=torch.float)  # Converta para um tensor PyTorch\n",
    "import torch.nn as nn\n",
    "\n",
    "#tokeniza os datasets\n",
    "train_encodings = tokenizer(train_critic_df['Review'].tolist(), truncation=True, padding=True, max_length=128)\n",
    "val_encodings = tokenizer(list(val_critic_df['Review']), truncation=True, padding=True, max_length=128)"
   ],
   "id": "8796e1cbb4c7cb39",
   "outputs": [],
   "execution_count": 30
  },
  {
   "metadata": {
    "id": "97af58ea1357abe7",
    "ExecuteTime": {
     "end_time": "2024-12-02T02:38:13.632336Z",
     "start_time": "2024-12-02T02:38:13.627895Z"
    }
   },
   "cell_type": "code",
   "source": [
    "class CustomTrainer(Trainer):\n",
    "    def __init__(self, class_weights, *args, **kwargs):\n",
    "        super().__init__(*args, **kwargs)\n",
    "        self.class_weights = class_weights\n",
    "\n",
    "    def compute_loss(self, model, inputs, return_outputs=False, **kwargs):\n",
    "        labels = inputs.pop(\"labels\")\n",
    "        outputs = model(**inputs)\n",
    "        logits = outputs.logits\n",
    "        # Define a função de perda com os pesos de classe\n",
    "        loss_fct = nn.CrossEntropyLoss(weight=self.class_weights.to(logits.device))\n",
    "        loss = loss_fct(logits, labels)\n",
    "        return (loss, outputs) if return_outputs else loss"
   ],
   "id": "97af58ea1357abe7",
   "outputs": [],
   "execution_count": 31
  },
  {
   "metadata": {
    "id": "8eaa914b00217cb",
    "ExecuteTime": {
     "end_time": "2024-12-02T02:38:14.780752Z",
     "start_time": "2024-12-02T02:38:13.800348Z"
    }
   },
   "cell_type": "code",
   "source": [
    "import evaluate\n",
    "from sklearn.metrics import balanced_accuracy_score\n",
    "\n",
    "metric = evaluate.load(\"accuracy\")\n",
    "\n",
    "def compute_metrics(eval_pred):\n",
    "    logits, labels = eval_pred\n",
    "    predictions = np.argmax(logits, axis=-1)\n",
    "    accuracy = metric.compute(predictions=predictions, references=labels)\n",
    "    return accuracy\n",
    "\n",
    "def compute_metrics_balanced(eval_pred):\n",
    "    logits, labels = eval_pred\n",
    "    predictions = np.argmax(logits, axis=-1)\n",
    "\n",
    "    # Calcular acurácia balanceada\n",
    "    balanced_acc = balanced_accuracy_score(labels, predictions)\n",
    "\n",
    "    return {\"balanced_accuracy\": balanced_acc}"
   ],
   "id": "8eaa914b00217cb",
   "outputs": [],
   "execution_count": 32
  },
  {
   "metadata": {
    "colab": {
     "base_uri": "https://localhost:8080/",
     "height": 219
    },
    "id": "8676efdef42015b7",
    "outputId": "878634ab-feb0-4706-acfa-063795256cc6",
    "ExecuteTime": {
     "end_time": "2024-12-02T06:11:47.207401Z",
     "start_time": "2024-12-02T02:38:14.942456Z"
    }
   },
   "cell_type": "code",
   "source": [
    "training_args = TrainingArguments(\n",
    "    output_dir=output_dir,\n",
    "    learning_rate=5e-5,\n",
    "    num_train_epochs=8,\n",
    "    weight_decay=0.01,\n",
    "    logging_dir=\"./logs\",\n",
    "    eval_strategy=\"epoch\",\n",
    "    load_best_model_at_end=True,               # Carregar o melhor modelo ao final\n",
    "    metric_for_best_model=\"balanced_accuracy\", # Métrica para determinar o melhor modelo\n",
    "    save_strategy=\"epoch\",                     # Salvar checkpoints no final de cada época\n",
    "    save_total_limit=1,                        # Limitar os checkpoints a 1 para economizar espaço\n",
    "    greater_is_better=True                     # Se maior métrica significa melhor modelo\n",
    ")\n",
    "train_critic_dataset = Dataset.from_dict({\n",
    "    'input_ids': train_encodings['input_ids'],\n",
    "    'attention_mask': train_encodings['attention_mask'],\n",
    "    'labels': list(train_critic_df['Sentiment'])\n",
    "})\n",
    "\n",
    "val_critic_dataset = Dataset.from_dict({\n",
    "    'input_ids': val_encodings['input_ids'],\n",
    "    'attention_mask': val_encodings['attention_mask'],\n",
    "    'labels': list(val_critic_df['Sentiment'])\n",
    "})\n",
    "\n",
    "trainer = CustomTrainer(\n",
    "    model=model,\n",
    "    args=training_args,\n",
    "    train_dataset=train_critic_dataset,\n",
    "    eval_dataset=val_critic_dataset,\n",
    "    class_weights=class_weights,\n",
    "    compute_metrics=compute_metrics_balanced\n",
    ")\n",
    "trainer.train()"
   ],
   "id": "8676efdef42015b7",
   "outputs": [
    {
     "data": {
      "text/plain": [
       "<IPython.core.display.HTML object>"
      ],
      "text/html": [
       "\n",
       "    <div>\n",
       "      \n",
       "      <progress value='9464' max='9464' style='width:300px; height:20px; vertical-align: middle;'></progress>\n",
       "      [9464/9464 3:33:30, Epoch 8/8]\n",
       "    </div>\n",
       "    <table border=\"1\" class=\"dataframe\">\n",
       "  <thead>\n",
       " <tr style=\"text-align: left;\">\n",
       "      <th>Epoch</th>\n",
       "      <th>Training Loss</th>\n",
       "      <th>Validation Loss</th>\n",
       "      <th>Balanced Accuracy</th>\n",
       "    </tr>\n",
       "  </thead>\n",
       "  <tbody>\n",
       "    <tr>\n",
       "      <td>1</td>\n",
       "      <td>0.560000</td>\n",
       "      <td>0.320474</td>\n",
       "      <td>0.880392</td>\n",
       "    </tr>\n",
       "    <tr>\n",
       "      <td>2</td>\n",
       "      <td>0.329900</td>\n",
       "      <td>0.478828</td>\n",
       "      <td>0.860781</td>\n",
       "    </tr>\n",
       "    <tr>\n",
       "      <td>3</td>\n",
       "      <td>0.191500</td>\n",
       "      <td>0.567989</td>\n",
       "      <td>0.844918</td>\n",
       "    </tr>\n",
       "    <tr>\n",
       "      <td>4</td>\n",
       "      <td>0.121900</td>\n",
       "      <td>1.171678</td>\n",
       "      <td>0.807324</td>\n",
       "    </tr>\n",
       "    <tr>\n",
       "      <td>5</td>\n",
       "      <td>0.087500</td>\n",
       "      <td>1.167096</td>\n",
       "      <td>0.809700</td>\n",
       "    </tr>\n",
       "    <tr>\n",
       "      <td>6</td>\n",
       "      <td>0.021000</td>\n",
       "      <td>1.082212</td>\n",
       "      <td>0.842418</td>\n",
       "    </tr>\n",
       "    <tr>\n",
       "      <td>7</td>\n",
       "      <td>0.010700</td>\n",
       "      <td>1.324368</td>\n",
       "      <td>0.829804</td>\n",
       "    </tr>\n",
       "    <tr>\n",
       "      <td>8</td>\n",
       "      <td>0.017600</td>\n",
       "      <td>1.203091</td>\n",
       "      <td>0.849411</td>\n",
       "    </tr>\n",
       "  </tbody>\n",
       "</table><p>"
      ]
     },
     "metadata": {},
     "output_type": "display_data"
    },
    {
     "data": {
      "text/plain": [
       "TrainOutput(global_step=9464, training_loss=0.16579829084601125, metrics={'train_runtime': 12811.7716, 'train_samples_per_second': 5.91, 'train_steps_per_second': 0.739, 'total_flos': 2879158501040640.0, 'train_loss': 0.16579829084601125, 'epoch': 8.0})"
      ]
     },
     "execution_count": 33,
     "metadata": {},
     "output_type": "execute_result"
    }
   ],
   "execution_count": 33
  },
  {
   "metadata": {
    "colab": {
     "base_uri": "https://localhost:8080/"
    },
    "id": "df42c676c2650f5e",
    "outputId": "cf829782-587c-4a79-fc1b-5135d4b22334",
    "ExecuteTime": {
     "end_time": "2024-12-02T06:13:37.188025Z",
     "start_time": "2024-12-02T06:11:47.554071Z"
    }
   },
   "cell_type": "code",
   "source": [
    "get_balanced_accuracy(model, tokenizer, val_critic_texts, val_critic_labels)"
   ],
   "id": "df42c676c2650f5e",
   "outputs": [
    {
     "data": {
      "text/plain": [
       "0.88"
      ]
     },
     "execution_count": 34,
     "metadata": {},
     "output_type": "execute_result"
    }
   ],
   "execution_count": 34
  },
  {
   "metadata": {
    "colab": {
     "base_uri": "https://localhost:8080/",
     "height": 144
    },
    "id": "29b960156cb67976",
    "outputId": "9e842460-e694-4e7b-cec4-75ba7ee00b84",
    "ExecuteTime": {
     "end_time": "2024-12-02T06:15:21.623646Z",
     "start_time": "2024-12-02T06:13:37.380577Z"
    }
   },
   "cell_type": "code",
   "source": [
    "trainer.evaluate()"
   ],
   "id": "29b960156cb67976",
   "outputs": [
    {
     "data": {
      "text/plain": [
       "<IPython.core.display.HTML object>"
      ],
      "text/html": []
     },
     "metadata": {},
     "output_type": "display_data"
    },
    {
     "data": {
      "text/plain": [
       "{'eval_loss': 0.32047387957572937,\n",
       " 'eval_balanced_accuracy': 0.8803923236025083,\n",
       " 'eval_runtime': 104.2362,\n",
       " 'eval_samples_per_second': 22.708,\n",
       " 'eval_steps_per_second': 2.84,\n",
       " 'epoch': 8.0}"
      ]
     },
     "execution_count": 35,
     "metadata": {},
     "output_type": "execute_result"
    }
   ],
   "execution_count": 35
  },
  {
   "metadata": {
    "colab": {
     "base_uri": "https://localhost:8080/",
     "height": 485
    },
    "id": "8b63c58babb57a90",
    "outputId": "ccd86c81-d28f-4db1-ec85-c432dee53c59",
    "ExecuteTime": {
     "end_time": "2024-12-02T06:17:06.281325Z",
     "start_time": "2024-12-02T06:15:21.843305Z"
    }
   },
   "cell_type": "code",
   "source": [
    "plot_confusion_matrix(trainer,val_critic_dataset)"
   ],
   "id": "8b63c58babb57a90",
   "outputs": [
    {
     "data": {
      "text/plain": [
       "<Figure size 640x480 with 2 Axes>"
      ],
      "image/png": "[encoded data removed]"
     },
     "metadata": {},
     "output_type": "display_data"
    },
    {
     "data": {
      "text/plain": [
       "array([[0.85, 0.15],\n",
       "       [0.09, 0.91]])"
      ]
     },
     "execution_count": 36,
     "metadata": {},
     "output_type": "execute_result"
    }
   ],
   "execution_count": 36
  },
  {
   "metadata": {
    "id": "1485884af37e1eef"
   },
   "cell_type": "markdown",
   "source": [
    "# Teste"
   ],
   "id": "1485884af37e1eef"
  },
  {
   "metadata": {
    "colab": {
     "base_uri": "https://localhost:8080/"
    },
    "id": "910e80c4f7cc8101",
    "outputId": "8eab5ebf-8942-4223-a9a3-6a39ca51e8b4",
    "ExecuteTime": {
     "end_time": "2024-12-02T06:19:24.261947Z",
     "start_time": "2024-12-02T06:17:06.314100Z"
    }
   },
   "cell_type": "code",
   "source": [
    "test_critic_texts = test_critic[\"Review\"].tolist()\n",
    "test_critic_labels = test_critic[\"Sentiment\"].tolist()\n",
    "get_balanced_accuracy(model, tokenizer, test_critic_texts, test_critic_labels)"
   ],
   "id": "910e80c4f7cc8101",
   "outputs": [
    {
     "data": {
      "text/plain": [
       "0.85"
      ]
     },
     "execution_count": 37,
     "metadata": {},
     "output_type": "execute_result"
    }
   ],
   "execution_count": 37
  },
  {
   "metadata": {
    "colab": {
     "base_uri": "https://localhost:8080/",
     "height": 216
    },
    "id": "f8d76325308021bb",
    "outputId": "8a7cae8d-9f75-446c-a6b4-b0b74c2ec2e9",
    "ExecuteTime": {
     "end_time": "2024-12-02T06:21:32.347488Z",
     "start_time": "2024-12-02T06:19:24.466603Z"
    }
   },
   "cell_type": "code",
   "source": [
    "test_encodings = tokenizer(list(test_critic['Review']), truncation=True, padding=True, max_length=128)\n",
    "test_critic_dataset = Dataset.from_dict({\n",
    "    'input_ids': test_encodings['input_ids'],\n",
    "    'attention_mask': test_encodings['attention_mask'],\n",
    "    'labels': list(test_critic['Sentiment'])\n",
    "})\n",
    "plot_confusion_matrix(trainer,test_critic_dataset)"
   ],
   "id": "f8d76325308021bb",
   "outputs": [
    {
     "data": {
      "text/plain": [
       "<IPython.core.display.HTML object>"
      ],
      "text/html": []
     },
     "metadata": {},
     "output_type": "display_data"
    },
    {
     "data": {
      "text/plain": [
       "<Figure size 640x480 with 2 Axes>"
      ],
      "image/png": "[encoded data removed]"
     },
     "metadata": {},
     "output_type": "display_data"
    },
    {
     "data": {
      "text/plain": [
       "array([[0.8, 0.2],\n",
       "       [0.1, 0.9]])"
      ]
     },
     "execution_count": 38,
     "metadata": {},
     "output_type": "execute_result"
    }
   ],
   "execution_count": 38
  }
 ],
 "metadata": {
  "kernelspec": {
   "display_name": "Python 3 (ipykernel)",
   "name": "python3",
   "language": "python"
  },
  "language_info": {
   "codemirror_mode": {
    "name": "ipython",
    "version": 2
   },
   "file_extension": ".py",
   "mimetype": "text/x-python",
   "name": "python",
   "nbconvert_exporter": "python",
   "pygments_lexer": "ipython2",
   "version": "2.7.6"
  },
  "colab": {
   "provenance": [],
   "gpuType": "T4"
  },
  "accelerator": "GPU"
 },
 "nbformat": 4,
 "nbformat_minor": 5
}
